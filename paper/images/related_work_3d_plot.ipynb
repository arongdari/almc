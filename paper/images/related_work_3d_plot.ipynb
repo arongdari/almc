{
 "cells": [
  {
   "cell_type": "code",
   "execution_count": null,
   "metadata": {
    "collapsed": false
   },
   "outputs": [],
   "source": [
    "import numpy as np\n",
    "import itertools\n",
    "from mpl_toolkits.mplot3d import Axes3D\n",
    "import matplotlib.pyplot as plt\n",
    "\n",
    "%matplotlib inline"
   ]
  },
  {
   "cell_type": "code",
   "execution_count": null,
   "metadata": {
    "collapsed": false
   },
   "outputs": [],
   "source": [
    "plt.xkcd()\n",
    "fig = plt.figure(figsize=(8,6))\n",
    "ax = fig.add_subplot(111, projection='3d')\n",
    "\n",
    "label_size = 15\n",
    "filename = '3d_plot.pdf'\n",
    "\n",
    "no = 0\n",
    "points = [0,1]\n",
    "x_cap = ['B', 'N']\n",
    "y_cap = ['A', 'P']\n",
    "z_cap = ['T', 'C']\n",
    "\n",
    "for x, y, z in itertools.product(points, repeat=3):\n",
    "    color = 'k'\n",
    "    if no == 1:\n",
    "        color = 'b'\n",
    "    if no in [0, 2, 4, 6, 7]:\n",
    "        color = 'r'\n",
    "        \n",
    "    ax.scatter(x, y, z, s=40, c=color)\n",
    "    ax.text(x-0.1, y, z+0.1,  '%d(%s,%s,%s)' % (no, x_cap[x], y_cap[y], z_cap[z]), size=label_size, color=color)\n",
    "    no += 1\n",
    "\n",
    "x_labels = ['Bayesian', 'Non-Bayesian']\n",
    "y_labels = ['Active', 'Passive']\n",
    "z_labels = ['   Tensor', '   Compositional']\n",
    "ax.set_xticks(points)\n",
    "ax.set_yticks(points)\n",
    "ax.set_zticks(points)\n",
    "ax.set_xticklabels(x_labels, size=label_size)\n",
    "ax.set_yticklabels(y_labels, size=label_size)\n",
    "ax.set_zticklabels(z_labels, size=label_size)\n",
    "\n",
    "plt.savefig(filename, format='PDF', bbox_inches='tight', pad_inches=0.1)"
   ]
  },
  {
   "cell_type": "code",
   "execution_count": null,
   "metadata": {
    "collapsed": true
   },
   "outputs": [],
   "source": []
  }
 ],
 "metadata": {
  "kernelspec": {
   "display_name": "Python 3",
   "language": "python",
   "name": "python3"
  },
  "language_info": {
   "codemirror_mode": {
    "name": "ipython",
    "version": 3
   },
   "file_extension": ".py",
   "mimetype": "text/x-python",
   "name": "python",
   "nbconvert_exporter": "python",
   "pygments_lexer": "ipython3",
   "version": "3.4.4"
  }
 },
 "nbformat": 4,
 "nbformat_minor": 0
}
