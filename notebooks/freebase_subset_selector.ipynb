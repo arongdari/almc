{
 "cells": [
  {
   "cell_type": "code",
   "execution_count": 1,
   "metadata": {
    "collapsed": true
   },
   "outputs": [],
   "source": [
    "import matplotlib\n",
    "import matplotlib.pyplot as plt\n",
    "import numpy as np\n",
    "import os\n",
    "from scipy.sparse import lil_matrix\n",
    "import pickle\n",
    "\n",
    "%matplotlib inline"
   ]
  },
  {
   "cell_type": "markdown",
   "metadata": {
    "collapsed": false
   },
   "source": [
    "with open('train_single_relation.txt', 'w') as fw:\n",
    "    with open('train', 'r') as f:\n",
    "        for line in f.readlines():\n",
    "            start, relations, end = line.split('\\t')\n",
    "            if ',' not in relations:\n",
    "                fw.write(line)"
   ]
  },
  {
   "cell_type": "code",
   "execution_count": 2,
   "metadata": {
    "collapsed": true
   },
   "outputs": [],
   "source": [
    "datafile = '../data/freebase/train_single_relation.txt'\n",
    "\n",
    "entities = set()\n",
    "relations = set()\n",
    "with open(datafile, 'r') as f:\n",
    "    for line in f.readlines():\n",
    "        start, relation, end = line.split('\\t')\n",
    "        if start.strip() not in entities:\n",
    "            entities.add(start.strip())\n",
    "        if end.strip() not in entities:\n",
    "            entities.add(end.strip())\n",
    "        if relation.strip() not in relations:\n",
    "            relations.add(relation)"
   ]
  },
  {
   "cell_type": "code",
   "execution_count": 3,
   "metadata": {
    "collapsed": false
   },
   "outputs": [],
   "source": [
    "n_entities = len(entities)\n",
    "entities = list(entities)\n",
    "entity_dic = {entities[k]:k for k in range(len(entities))}"
   ]
  },
  {
   "cell_type": "code",
   "execution_count": 4,
   "metadata": {
    "collapsed": false
   },
   "outputs": [],
   "source": [
    "n_relations = len(relations)\n",
    "relations = list(relations)\n",
    "relation_dic = {relations[k]:k for k in range(len(relations))}\n",
    "\n",
    "selected_relations = list() #manually selected list of relations\n",
    "selected_relations.append(relation_dic['place_of_birth'])\n",
    "selected_relations.append(relation_dic['place_of_death'])\n",
    "selected_relations.append(relation_dic['nationality'])\n",
    "selected_relations.append(relation_dic['location'])"
   ]
  },
  {
   "cell_type": "code",
   "execution_count": 5,
   "metadata": {
    "collapsed": false
   },
   "outputs": [],
   "source": [
    "entity_count = np.zeros(n_entities)\n",
    "T = [lil_matrix((n_entities, n_entities), dtype=int) for k in range(n_relations)]\n",
    "cnt = 0\n",
    "with open(datafile, 'r') as f:\n",
    "    for line in f.readlines():\n",
    "        start, relation, end = line.split('\\t')\n",
    "        e_i = entity_dic[start.strip()]\n",
    "        e_j = entity_dic[end.strip()]\n",
    "        r_k = relation_dic[relation.strip()]\n",
    "        T[r_k][e_i,e_j] = 1\n",
    "        if r_k in selected_relations:\n",
    "            if e_i == e_j:\n",
    "                entity_count[e_i] += 1\n",
    "            else:\n",
    "                entity_count[e_i] += 1\n",
    "                entity_count[e_j] += 1\n",
    "T = [X.tocsr() for X in T]\n",
    "entities = np.array(entities)\n",
    "relations = np.array(relations)"
   ]
  },
  {
   "cell_type": "code",
   "execution_count": 6,
   "metadata": {
    "collapsed": false
   },
   "outputs": [
    {
     "data": {
      "text/plain": [
       "<matplotlib.text.Text at 0x11ae2f400>"
      ]
     },
     "execution_count": 6,
     "metadata": {},
     "output_type": "execute_result"
    },
    {
     "data": {
      "image/png": "[encoded data removed]",
      "text/plain": [
       "<matplotlib.figure.Figure at 0x10dcd38d0>"
      ]
     },
     "metadata": {},
     "output_type": "display_data"
    }
   ],
   "source": [
    "plt.figure(figsize=(8,6))\n",
    "plt.bar(range(n_relations), [T[k].nnz for k in range(n_relations)])\n",
    "plt.xticks(np.arange(0.5, n_relations), relations, rotation='vertical')\n",
    "plt.title('Number of triples for each relation')"
   ]
  },
  {
   "cell_type": "code",
   "execution_count": 7,
   "metadata": {
    "collapsed": false
   },
   "outputs": [
    {
     "name": "stdout",
     "output_type": "stream",
     "text": [
      "num entity 75043\n",
      "num triples 316232\n",
      "sparsity 4.31958562619e-06\n"
     ]
    }
   ],
   "source": [
    "print('num entity', n_entities)\n",
    "print('num triples', np.sum([T[k].nnz for k in range(n_relations)]))\n",
    "print('sparsity', np.sum([T[k].nnz for k in range(n_relations)])/(n_relations * n_entities**2))"
   ]
  },
  {
   "cell_type": "markdown",
   "metadata": {},
   "source": [
    "## Subset of dataset"
   ]
  },
  {
   "cell_type": "code",
   "execution_count": 8,
   "metadata": {
    "collapsed": false
   },
   "outputs": [],
   "source": [
    "n_new_entity = 5000\n",
    "new_idx = sorted(range(len(entity_count)), key=lambda i: entity_count[i], reverse=True)[:n_new_entity]"
   ]
  },
  {
   "cell_type": "code",
   "execution_count": 9,
   "metadata": {
    "collapsed": false
   },
   "outputs": [],
   "source": [
    "newT = np.zeros([len(selected_relations), n_new_entity, n_new_entity])\n",
    "for idx, k in enumerate(selected_relations):\n",
    "    newT[idx] = T[k][new_idx, :][:, new_idx].todense()"
   ]
  },
  {
   "cell_type": "code",
   "execution_count": 10,
   "metadata": {
    "collapsed": false
   },
   "outputs": [
    {
     "name": "stdout",
     "output_type": "stream",
     "text": [
      "num triple 9393.0\n",
      "sparsity 2.89015384615e-05\n"
     ]
    }
   ],
   "source": [
    "print('num triple', np.sum([X.sum() for X in newT]))\n",
    "print('sparsity', np.sum([X.sum() for X in newT]) / (n_new_entity**2 * n_relations))"
   ]
  },
  {
   "cell_type": "code",
   "execution_count": 11,
   "metadata": {
    "collapsed": false
   },
   "outputs": [
    {
     "data": {
      "text/plain": [
       "<matplotlib.text.Text at 0x1067afcc0>"
      ]
     },
     "execution_count": 11,
     "metadata": {},
     "output_type": "execute_result"
    },
    {
     "data": {
      "image/png": "[encoded data removed]",
      "text/plain": [
       "<matplotlib.figure.Figure at 0x1196757b8>"
      ]
     },
     "metadata": {},
     "output_type": "display_data"
    }
   ],
   "source": [
    "plt.bar(range(len(selected_relations)), [X.sum() for X in newT])\n",
    "plt.xticks(np.arange(0.5, len(selected_relations)), relations[selected_relations], rotation='vertical')\n",
    "plt.title('num triples')"
   ]
  },
  {
   "cell_type": "code",
   "execution_count": 12,
   "metadata": {
    "collapsed": false
   },
   "outputs": [],
   "source": [
    "pickle.dump([newT, entities[new_idx], relations[selected_relations]], open('../data/freebase/subset.pkl','wb'))"
   ]
  },
  {
   "cell_type": "code",
   "execution_count": null,
   "metadata": {
    "collapsed": true
   },
   "outputs": [],
   "source": []
  }
 ],
 "metadata": {
  "kernelspec": {
   "display_name": "Python 3",
   "language": "python",
   "name": "python3"
  },
  "language_info": {
   "codemirror_mode": {
    "name": "ipython",
    "version": 3
   },
   "file_extension": ".py",
   "mimetype": "text/x-python",
   "name": "python",
   "nbconvert_exporter": "python",
   "pygments_lexer": "ipython3",
   "version": "3.5.1"
  }
 },
 "nbformat": 4,
 "nbformat_minor": 0
}
