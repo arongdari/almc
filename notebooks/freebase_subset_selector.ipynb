{
 "cells": [
  {
   "cell_type": "code",
   "execution_count": 2,
   "metadata": {
    "collapsed": true
   },
   "outputs": [],
   "source": [
    "import matplotlib\n",
    "import matplotlib.pyplot as plt\n",
    "import numpy as np\n",
    "import os\n",
    "from scipy.sparse import lil_matrix\n",
    "import pickle\n",
    "\n",
    "%matplotlib inline"
   ]
  },
  {
   "cell_type": "markdown",
   "metadata": {
    "collapsed": false
   },
   "source": [
    "with open('train_single_relation.txt', 'w') as fw:\n",
    "    with open('train', 'r') as f:\n",
    "        for line in f.readlines():\n",
    "            start, relations, end = line.split('\\t')\n",
    "            if ',' not in relations:\n",
    "                fw.write(line)"
   ]
  },
  {
   "cell_type": "code",
   "execution_count": 2,
   "metadata": {
    "collapsed": true
   },
   "outputs": [],
   "source": [
    "datafile = '../data/freebase/train_single_relation.txt'\n",
    "\n",
    "entities = set()\n",
    "relations = set()\n",
    "with open(datafile, 'r') as f:\n",
    "    for line in f.readlines():\n",
    "        start, relation, end = line.split('\\t')\n",
    "        if start.strip() not in entities:\n",
    "            entities.add(start.strip())\n",
    "        if end.strip() not in entities:\n",
    "            entities.add(end.strip())\n",
    "        if relation.strip() not in relations:\n",
    "            relations.add(relation)"
   ]
  },
  {
   "cell_type": "code",
   "execution_count": 3,
   "metadata": {
    "collapsed": false
   },
   "outputs": [],
   "source": [
    "n_entities = len(entities)\n",
    "entities = list(entities)\n",
    "entity_dic = {entities[k]:k for k in range(len(entities))}"
   ]
  },
  {
   "cell_type": "code",
   "execution_count": 4,
   "metadata": {
    "collapsed": false
   },
   "outputs": [],
   "source": [
    "n_relations = len(relations)\n",
    "relations = list(relations)\n",
    "relation_dic = {relations[k]:k for k in range(len(relations))}\n",
    "\n",
    "selected_relations = list() #manually selected list of relations\n",
    "selected_relations.append(relation_dic['place_of_birth'])\n",
    "selected_relations.append(relation_dic['place_of_death'])\n",
    "selected_relations.append(relation_dic['nationality'])\n",
    "selected_relations.append(relation_dic['location'])"
   ]
  },
  {
   "cell_type": "code",
   "execution_count": 5,
   "metadata": {
    "collapsed": false
   },
   "outputs": [],
   "source": [
    "entity_count = np.zeros(n_entities)\n",
    "T = [lil_matrix((n_entities, n_entities), dtype=int) for k in range(n_relations)]\n",
    "cnt = 0\n",
    "with open(datafile, 'r') as f:\n",
    "    for line in f.readlines():\n",
    "        start, relation, end = line.split('\\t')\n",
    "        e_i = entity_dic[start.strip()]\n",
    "        e_j = entity_dic[end.strip()]\n",
    "        r_k = relation_dic[relation.strip()]\n",
    "        T[r_k][e_i,e_j] = 1\n",
    "        if r_k in selected_relations:\n",
    "            if e_i == e_j:\n",
    "                entity_count[e_i] += 1\n",
    "            else:\n",
    "                entity_count[e_i] += 1\n",
    "                entity_count[e_j] += 1\n",
    "T = [X.tocsr() for X in T]\n",
    "entities = np.array(entities)\n",
    "relations = np.array(relations)"
   ]
  },
  {
   "cell_type": "code",
   "execution_count": 6,
   "metadata": {
    "collapsed": false
   },
   "outputs": [
    {
     "data": {
      "text/plain": [
       "<matplotlib.text.Text at 0x11ae2f400>"
      ]
     },
     "execution_count": 6,
     "metadata": {},
     "output_type": "execute_result"
    },
    {
     "data": {
      "image/png": "[encoded data removed]",
      "text/plain": [
       "<matplotlib.figure.Figure at 0x10dcd38d0>"
      ]
     },
     "metadata": {},
     "output_type": "display_data"
    }
   ],
   "source": [
    "plt.figure(figsize=(8,6))\n",
    "plt.bar(range(n_relations), [T[k].nnz for k in range(n_relations)])\n",
    "plt.xticks(np.arange(0.5, n_relations), relations, rotation='vertical')\n",
    "plt.title('Number of triples for each relation')"
   ]
  },
  {
   "cell_type": "code",
   "execution_count": 7,
   "metadata": {
    "collapsed": false
   },
   "outputs": [
    {
     "name": "stdout",
     "output_type": "stream",
     "text": [
      "num entity 75043\n",
      "num triples 316232\n",
      "sparsity 4.31958562619e-06\n"
     ]
    }
   ],
   "source": [
    "print('num entity', n_entities)\n",
    "print('num triples', np.sum([T[k].nnz for k in range(n_relations)]))\n",
    "print('sparsity', np.sum([T[k].nnz for k in range(n_relations)])/(n_relations * n_entities**2))"
   ]
  },
  {
   "cell_type": "markdown",
   "metadata": {
    "collapsed": false
   },
   "source": [
    "## Plot from dump"
   ]
  },
  {
   "cell_type": "code",
   "execution_count": 16,
   "metadata": {
    "collapsed": false
   },
   "outputs": [
    {
     "data": {
      "text/plain": [
       "<matplotlib.text.Text at 0x127a6d3c8>"
      ]
     },
     "execution_count": 16,
     "metadata": {},
     "output_type": "execute_result"
    },
    {
     "data": {
      "image/png": "[encoded data removed]",
      "text/plain": [
       "<matplotlib.figure.Figure at 0x127786320>"
      ]
     },
     "metadata": {},
     "output_type": "display_data"
    }
   ],
   "source": [
    "newT, entities, relations = pickle.load(open('../data/freebase/subset_3000.pkl', 'rb'))\n",
    "\n",
    "plt.figure(figsize=(8,6))\n",
    "n_relations = len(relations)\n",
    "plt.bar(range(n_relations), [np.sum(newT[k]) for k in range(n_relations)])\n",
    "plt.xticks(np.arange(0.5, n_relations), relations, rotation='vertical')\n",
    "plt.title('Number of triples for each relation')"
   ]
  },
  {
   "cell_type": "code",
   "execution_count": null,
   "metadata": {
    "collapsed": true
   },
   "outputs": [],
   "source": []
  }
 ],
 "metadata": {
  "kernelspec": {
   "display_name": "Python 3",
   "language": "python",
   "name": "python3"
  },
  "language_info": {
   "codemirror_mode": {
    "name": "ipython",
    "version": 3
   },
   "file_extension": ".py",
   "mimetype": "text/x-python",
   "name": "python",
   "nbconvert_exporter": "python",
   "pygments_lexer": "ipython3",
   "version": "3.5.1"
  }
 },
 "nbformat": 4,
 "nbformat_minor": 0
}
