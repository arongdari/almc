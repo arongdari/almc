{
 "cells": [
  {
   "cell_type": "code",
   "execution_count": 12,
   "metadata": {
    "collapsed": true
   },
   "outputs": [],
   "source": [
    "import itertools\n",
    "import pickle\n",
    "import numpy as np\n",
    "from scipy.io.matlab import loadmat\n",
    "from sklearn.metrics import mean_squared_error, roc_auc_score\n",
    "import matplotlib\n",
    "import matplotlib.pyplot as plt\n",
    "from matplotlib.markers import MarkerStyle\n",
    "from collections import defaultdict\n",
    "\n",
    "from almc.bayesian_rescal import PFBayesianRescal, PFBayesianCompRescal, PFBayesianLogitRescal\n",
    "\n",
    "%matplotlib inline"
   ]
  },
  {
   "cell_type": "code",
   "execution_count": 123,
   "metadata": {
    "collapsed": true
   },
   "outputs": [],
   "source": [
    "color = [(31, 119, 180), (174, 199, 232), (255, 127, 14), (255, 187, 120),    \n",
    "             (44, 160, 44), (152, 223, 138), (214, 39, 40), (255, 152, 150),    \n",
    "             (148, 103, 189), (197, 176, 213), (140, 86, 75), (196, 156, 148),    \n",
    "             (227, 119, 194), (247, 182, 210), (127, 127, 127), (199, 199, 199),    \n",
    "             (188, 189, 34), (219, 219, 141), (23, 190, 207), (158, 218, 229)]    \n",
    "  \n",
    "# Scale the RGB values to the [0, 1] range, which is the format matplotlib accepts.    \n",
    "for i in range(len(color)):    \n",
    "    r, g, b = color[i]    \n",
    "    color[i] = (r / 255., g / 255., b / 255.)\n",
    "    \n",
    "markers = ('o', 'v', '^', '<', '>', '8', 's', 'p', '*', 'h', 'H', 'D', 'd')\n",
    "\n",
    "model_colors = {'brescal':color[0], 'amdc_pop':color[8], 'amdc_pred':color[7], \n",
    "                'bcomp_mul':color[2], 'bcomp_add':color[3], 'logit':color[5], \n",
    "                'rescal':'grey',\n",
    "                'brescal_passive':'grey', 'bcomp_mul_10': color[8], 'bcomp_add_10':color[9], \n",
    "                'bcomp_mul_comp_10':color[11], 'bcomp_add_comp_10':color[13], \n",
    "                'bcomp_mul_var_1_comp_10': color[15], 'bcomp_add_var_1_comp_10': color[17]}\n",
    "model_names = {'rescal':'rescal', 'brescal':'pnormal', 'amdc_pop':'amdc_pop', 'amdc_pred':'amdc_pred', \n",
    "               'bcomp_mul':'pcomp-mul', 'bcomp_add':'pcomp-add', 'logit':'plogit', \n",
    "               'brescal_passive':'brescal_passive'}    "
   ]
  },
  {
   "cell_type": "code",
   "execution_count": 2,
   "metadata": {
    "collapsed": true
   },
   "outputs": [],
   "source": [
    "def load_dataset(dataset):\n",
    "    if dataset == 'umls':\n",
    "        mat = loadmat('../data/%s/uml.mat' % (dataset))\n",
    "        T = np.array(mat['Rs'], np.float32)\n",
    "    elif dataset == 'nation':\n",
    "        mat = loadmat('../data/%s/dnations.mat' % (dataset))\n",
    "        T = np.array(mat['R'], np.float32)\n",
    "    elif dataset == 'kinship':\n",
    "        mat = loadmat('../data/%s/alyawarradata.mat' % (dataset))\n",
    "        T = np.array(mat['Rs'], np.float32)\n",
    "    elif dataset == 'wordnet':\n",
    "        T = pickle.load(open('../data/%s/reduced_wordnet.pkl' % (dataset), 'rb'))\n",
    "    elif dataset == 'freebase':\n",
    "        T, _, _ = pickle.load(open('../data/freebase/subset_5000.pkl', 'rb'))\n",
    "\n",
    "    if dataset == 'umls' or dataset == 'nation' or dataset == 'kinship':\n",
    "        T = np.swapaxes(T, 1, 2)\n",
    "        T = np.swapaxes(T, 0, 1)  # [relation, entity, entity]\n",
    "        T[np.isnan(T)] = 0\n",
    "    return T"
   ]
  },
  {
   "cell_type": "code",
   "execution_count": 3,
   "metadata": {
    "collapsed": false
   },
   "outputs": [
    {
     "data": {
      "text/plain": [
       "dict_keys(['Rs', 'names', '__globals__', 'relnames', 'gnames', '__header__', '__version__'])"
      ]
     },
     "execution_count": 3,
     "metadata": {},
     "output_type": "execute_result"
    }
   ],
   "source": [
    "dataset = 'umls'\n",
    "mat = loadmat('../data/%s/uml.mat' % (dataset))\n",
    "T = load_dataset(dataset)\n",
    "mat.keys()"
   ]
  },
  {
   "cell_type": "code",
   "execution_count": 4,
   "metadata": {
    "collapsed": false
   },
   "outputs": [],
   "source": [
    "rel_names = {i:rel[0][0] for i, rel in enumerate(mat['relnames'])}"
   ]
  },
  {
   "cell_type": "code",
   "execution_count": 32,
   "metadata": {
    "collapsed": false
   },
   "outputs": [
    {
     "name": "stdout",
     "output_type": "stream",
     "text": [
      "{0: 'Acquired_Abnormality', 1: 'Activity', 2: 'Age_Group', 3: 'Alga', 4: 'Amino_Acid,_Peptide,_or_Protein', 5: 'Amino_Acid_Sequence', 6: 'Amphibian', 7: 'Anatomical_Abnormality', 8: 'Anatomical_Structure', 9: 'Animal', 10: 'Antibiotic', 11: 'Archaeon', 12: 'Bacterium', 13: 'Behavior', 14: 'Biologic_Function', 15: 'Biologically_Active_Substance', 16: 'Biomedical_Occupation_or_Discipline', 17: 'Biomedical_or_Dental_Material', 18: 'Bird', 19: 'Body_Location_or_Region', 20: 'Body_Part,_Organ,_or_Organ_Component', 21: 'Body_Space_or_Junction', 22: 'Body_Substance', 23: 'Body_System', 24: 'Carbohydrate', 25: 'Carbohydrate_Sequence', 26: 'Cell', 27: 'Cell_Component', 28: 'Cell_Function', 29: 'Cell_or_Molecular_Dysfunction', 30: 'Chemical', 31: 'Chemical_Viewed_Functionally', 32: 'Chemical_Viewed_Structurally', 33: 'Classification', 34: 'Clinical_Attribute', 35: 'Clinical_Drug', 36: 'Conceptual_Entity', 37: 'Congenital_Abnormality', 38: 'Daily_or_Recreational_Activity', 39: 'Diagnostic_Procedure', 40: 'Disease_or_Syndrome', 41: 'Drug_Delivery_Device', 42: 'Educational_Activity', 43: 'Eicosanoid', 44: 'Element,_Ion,_or_Isotope', 45: 'Embryonic_Structure', 46: 'Entity', 47: 'Environmental_Effect_of_Humans', 48: 'Enzyme', 49: 'Event', 50: 'Experimental_Model_of_Disease', 51: 'Family_Group', 52: 'Finding', 53: 'Fish', 54: 'Food', 55: 'Fully_Formed_Anatomical_Structure', 56: 'Functional_Concept', 57: 'Fungus', 58: 'Gene_or_Genome', 59: 'Genetic_Function', 60: 'Geographic_Area', 61: 'Governmental_or_Regulatory_Activity', 62: 'Group', 63: 'Group_Attribute', 64: 'Hazardous_or_Poisonous_Substance', 65: 'Health_Care_Activity', 66: 'Health_Care_Related_Organization', 67: 'Hormone', 68: 'Human', 69: 'Human-caused_Phenomenon_or_Process', 70: 'Idea_or_Concept', 71: 'Immunologic_Factor', 72: 'Indicator,_Reagent,_or_Diagnostic_Aid', 73: 'Individual_Behavior', 74: 'Injury_or_Poisoning', 75: 'Inorganic_Chemical', 76: 'Intellectual_Product', 77: 'Invertebrate', 78: 'Laboratory_Procedure', 79: 'Laboratory_or_Test_Result', 80: 'Language', 81: 'Lipid', 82: 'Machine_Activity', 83: 'Mammal', 84: 'Manufactured_Object', 85: 'Medical_Device', 86: 'Mental_Process', 87: 'Mental_or_Behavioral_Dysfunction', 88: 'Molecular_Biology_Research_Technique', 89: 'Molecular_Function', 90: 'Molecular_Sequence', 91: 'Natural_Phenomenon_or_Process', 92: 'Neoplastic_Process', 93: 'Neuroreactive_Substance_or_Biogenic_Amine', 94: 'Nucleic_Acid,_Nucleoside,_or_Nucleotide', 95: 'Nucleotide_Sequence', 96: 'Occupation_or_Discipline', 97: 'Occupational_Activity', 98: 'Organ_or_Tissue_Function', 99: 'Organic_Chemical', 100: 'Organism', 101: 'Organism_Attribute', 102: 'Organism_Function', 103: 'Organization', 104: 'Organophosphorus_Compound', 105: 'Pathologic_Function', 106: 'Patient_or_Disabled_Group', 107: 'Pharmacologic_Substance', 108: 'Phenomenon_or_Process', 109: 'Physical_Object', 110: 'Physiologic_Function', 111: 'Plant', 112: 'Population_Group', 113: 'Professional_Society', 114: 'Professional_or_Occupational_Group', 115: 'Qualitative_Concept', 116: 'Quantitative_Concept', 117: 'Receptor', 118: 'Regulation_or_Law', 119: 'Reptile', 120: 'Research_Activity', 121: 'Research_Device', 122: 'Rickettsia_or_Chlamydia', 123: 'Self-help_or_Relief_Organization', 124: 'Sign_or_Symptom', 125: 'Social_Behavior', 126: 'Spatial_Concept', 127: 'Steroid', 128: 'Substance', 129: 'Temporal_Concept', 130: 'Therapeutic_or_Preventive_Procedure', 131: 'Tissue', 132: 'Vertebrate', 133: 'Virus', 134: 'Vitamin'}\n"
     ]
    }
   ],
   "source": [
    "entity_names = {i:name[0][0] for i, name in enumerate(mat['names'])}\n",
    "print(entity_names)"
   ]
  },
  {
   "cell_type": "code",
   "execution_count": 99,
   "metadata": {
    "collapsed": false
   },
   "outputs": [],
   "source": [
    "models = ['brescal', 'bcomp_mul', 'bcomp_add', 'logit']\n",
    "p = 0.1\n",
    "\n",
    "E = dict()\n",
    "R = dict()\n",
    "test_msk = pickle.load(open('../result_tt/umls/test.pkl', 'rb'))\n",
    "train_msk = pickle.load(open('../result_tt/umls/%.2f_train.pkl' % p, 'rb'))\n",
    "trainT = np.zeros_like(T)\n",
    "trainT[train_msk==1] = T[train_msk==1]\n",
    "\n",
    "for model in models:\n",
    "    E[model] = pickle.load(open('../result_tt/umls/E_%s_%.2f.pkl' % (model, p), 'rb'))\n",
    "    R[model] = pickle.load(open('../result_tt/umls/R_%s_%.2f.pkl' % (model, p), 'rb'))"
   ]
  },
  {
   "cell_type": "code",
   "execution_count": 193,
   "metadata": {
    "collapsed": false
   },
   "outputs": [],
   "source": [
    "n_relation, n_entity, _ = T.shape\n",
    "\n",
    "rnd = np.random.RandomState(seed=2345)\n",
    "\n",
    "score = defaultdict(float)\n",
    "cnt = defaultdict(float)\n",
    "score_second = defaultdict(float)\n",
    "cnt2 = defaultdict(float)\n",
    "score_third = defaultdict(float)\n",
    "cnt3 = defaultdict(float)\n",
    "score_forth = defaultdict(float)\n",
    "    \n",
    "cap=10\n",
    "cap2 = 10\n",
    "idx1 = np.arange(n_relation)\n",
    "idx2 = np.arange(n_relation)\n",
    "idx3 = np.arange(n_relation)\n",
    "idx4 = np.arange(n_relation)\n",
    "rnd.shuffle(idx1)\n",
    "rnd.shuffle(idx2)\n",
    "rnd.shuffle(idx3)\n",
    "rnd.shuffle(idx4)\n",
    "\n",
    "for model in models:\n",
    "    recT = np.zeros_like(T)\n",
    "    for k in range(n_relation):\n",
    "        recT[k] = np.dot(np.dot(E[model], R[model][k]), E[model].T)\n",
    "    score[model] = roc_auc_score(T[test_msk==1], recT[test_msk==1])\n",
    "    \n",
    "    recT = np.zeros([n_relation**2, n_entity, n_entity])\n",
    "    T2 = np.zeros([n_relation**2, n_entity, n_entity], dtype=np.int)\n",
    "    for i, (k, k2) in enumerate(itertools.product(range(n_relation), repeat=2)):\n",
    "        recT[i] = np.dot(np.dot(np.dot(E[model], R[model][k]), R[model][k2]), E[model].T)\n",
    "        T2[i] = np.dot(T[k], T[k2])\n",
    "    T2[T2 > 1] = 1\n",
    "    score_second[model] = roc_auc_score(T2.flatten(), recT.flatten())\n",
    "\n",
    "    recT = np.zeros([cap**3, n_entity, n_entity])\n",
    "    T3 = np.zeros([cap**3, n_entity, n_entity], dtype=np.int)\n",
    "    \n",
    "    for i, (k, k2, k3) in enumerate(itertools.product(idx1[:cap], idx2[:cap], idx3[:cap])):\n",
    "        recT[i] = np.dot(np.dot(np.dot(np.dot(E[model], R[model][k]), R[model][k2]), R[model][k3]), E[model].T)\n",
    "        T3[i] = np.dot(np.dot(T[k], T[k2]), T[k3])\n",
    "    T3[T3 > 1] = 1\n",
    "    if len(np.unique(T3)) > 1:\n",
    "        score_third[model] = roc_auc_score(T3.flatten(), recT.flatten())\n",
    "\n",
    "    recT = np.zeros([cap2**4, n_entity, n_entity])\n",
    "    T4 = np.zeros([cap2**4, n_entity, n_entity], dtype=np.int)\n",
    "    \n",
    "    for i, (k, k2, k3, k4) in enumerate(itertools.product(idx1[:cap2], idx2[:cap2], idx3[:cap2], idx4[:cap2])):\n",
    "        recT[i] = np.dot(np.dot(np.dot(np.dot(np.dot(E[model], R[model][k]), R[model][k2]), R[model][k3]),R[model][k4]), E[model].T)\n",
    "        T4[i] = np.dot(np.dot(np.dot(T[k], T[k2]), T[k3]),T[k4])\n",
    "    T4[T4 > 1] = 1\n",
    "    if len(np.unique(T4)) > 1:\n",
    "        score_forth[model] = roc_auc_score(T4.flatten(), recT.flatten())        "
   ]
  },
  {
   "cell_type": "code",
   "execution_count": 146,
   "metadata": {
    "collapsed": false
   },
   "outputs": [
    {
     "data": {
      "text/plain": [
       "<matplotlib.figure.Figure at 0x119e4d048>"
      ]
     },
     "metadata": {},
     "output_type": "display_data"
    },
    {
     "data": {
      "image/png": "[encoded data removed]",
      "text/plain": [
       "<matplotlib.figure.Figure at 0x119e4d860>"
      ]
     },
     "metadata": {},
     "output_type": "display_data"
    }
   ],
   "source": [
    "legend_size=9\n",
    "font_size=11\n",
    "\n",
    "plt.figure()\n",
    "fig, ax = plt.subplots(figsize=(4,3))\n",
    "for model in models:\n",
    "    c = model_colors[model]\n",
    "    plt.plot([score[model], score_second[model], score_third[model]], marker=markers[models.index(model)], color=c, label=model_names[model].upper())\n",
    "plt.legend(loc='lower left', prop={'size':legend_size})\n",
    "plt.xticks([0,1,2], [1,2,3], size=font_size)\n",
    "plt.xlabel('Composition length')\n",
    "plt.ylabel('ROC-AUC score')\n",
    "plt.xlim([-0.1,2.1])\n",
    "plt.ylim([0,1.1])\n",
    "plt.savefig('../paper/cikm2016/images/path_prediction.pdf', format='PDF', bbox_inches='tight', pad_inches=0.1)"
   ]
  },
  {
   "cell_type": "code",
   "execution_count": 198,
   "metadata": {
    "collapsed": false
   },
   "outputs": [
    {
     "data": {
      "text/plain": [
       "<matplotlib.figure.Figure at 0x119961048>"
      ]
     },
     "metadata": {},
     "output_type": "display_data"
    },
    {
     "data": {
      "image/png": "[encoded data removed]",
      "text/plain": [
       "<matplotlib.figure.Figure at 0x1199616d8>"
      ]
     },
     "metadata": {},
     "output_type": "display_data"
    }
   ],
   "source": [
    "legend_size=9\n",
    "font_size=11\n",
    "\n",
    "plt.figure()\n",
    "fig, ax = plt.subplots(figsize=(4,3))\n",
    "for model in models:\n",
    "    c = model_colors[model]\n",
    "    plt.plot([score[model], score_second[model], score_third[model], score_forth[model]], marker=markers[models.index(model)], color=c, label=model_names[model].upper())\n",
    "#plt.legend(loc='lower left', prop={'size':legend_size})\n",
    "plt.legend(bbox_to_anchor=(1.05, 1), loc=2, borderaxespad=0., prop={'size':legend_size})\n",
    "plt.xticks([0,1,2,3], [1,2,3,4], size=font_size)\n",
    "plt.xlabel('Path length')\n",
    "plt.ylabel('ROC-AUC score')\n",
    "plt.savefig('../paper/cikm2016/images/path_prediction2.pdf', format='PDF', bbox_inches='tight', pad_inches=0.1)"
   ]
  },
  {
   "cell_type": "markdown",
   "metadata": {},
   "source": [
    "## Path prediction example"
   ]
  },
  {
   "cell_type": "code",
   "execution_count": 76,
   "metadata": {
    "collapsed": true
   },
   "outputs": [],
   "source": [
    "rel2 = 41\n",
    "rel1 = 1\n",
    "\n",
    "e_start =87\n",
    "abnormality = [0,7,37]\n",
    "procedures = [39, 78, 130]"
   ]
  },
  {
   "cell_type": "code",
   "execution_count": 181,
   "metadata": {
    "collapsed": false
   },
   "outputs": [],
   "source": [
    "score = defaultdict(float)\n",
    "score2 = defaultdict(float)\n",
    "first_step = defaultdict(list)\n",
    "second_step = defaultdict(list)\n",
    "\n",
    "for model in models:\n",
    "    rec = np.dot(np.dot(E[model][e_start], R[model][rel1]), E[model].T)\n",
    "    score[model] = roc_auc_score(T[rel1,e_start,:], rec)\n",
    "    \n",
    "    rec2 = np.dot(np.dot(np.dot(E[model][e_start], R[model][rel1]), R[model][rel2]), E[model].T)\n",
    "    T2 = np.dot(T[rel1,e_start,:], T[rel2]) \n",
    "    T2[T2>1]=1\n",
    "    if len(np.unique(T2)) > 1:\n",
    "        score2[model] = roc_auc_score(T2, rec2)\n",
    "        \n",
    "    sorted_idx = rec.argsort()[::-1]\n",
    "    for i in range(5):\n",
    "        if T[rel1,e_start,sorted_idx[i]] == 1:\n",
    "            first_step[model].append('\\\\textbf{%s}' % entity_names[sorted_idx[i]])\n",
    "        else:\n",
    "            first_step[model].append(entity_names[sorted_idx[i]])\n",
    "            \n",
    "    sorted_idx2 = rec2.argsort()[::-1]\n",
    "    for i in range(5):\n",
    "        if T2[sorted_idx2[i]] == 1:\n",
    "            second_step[model].append('\\\\textbf{%s}' % entity_names[sorted_idx2[i]])\n",
    "        else:\n",
    "            second_step[model].append(entity_names[sorted_idx2[i]])"
   ]
  },
  {
   "cell_type": "code",
   "execution_count": 186,
   "metadata": {
    "collapsed": false
   },
   "outputs": [
    {
     "name": "stdout",
     "output_type": "stream",
     "text": [
      "brescal & \\textbf{Invertebrate}&\\textbf{Reptile}&\\textbf{Archaeon}&\\textbf{Bird}&\\textbf{Physiologic-Function} \\\\\n",
      "bcomp_mul & \\textbf{Archaeon}&\\textbf{Fish}&\\textbf{Fungus}&\\textbf{Invertebrate}&\\textbf{Human} \\\\\n",
      "bcomp_add & \\textbf{Pathologic-Function}&\\textbf{Bird}&\\textbf{Cell-or-Molecular-Dysfunction}&Drug-Delivery-Device&Congenital-Abnormality \\\\\n",
      "logit & \\textbf{Cell-Function}&\\textbf{Disease-or-Syndrome}&\\textbf{Cell-or-Molecular-Dysfunction}&\\textbf{Experimental-Model-of-Disease}&\\textbf{Mental-Process} \\\\\n"
     ]
    }
   ],
   "source": [
    "for model in models:\n",
    "    print(model, '&', '&'.join(first_step[model]).replace('_','-'), '\\\\\\\\')"
   ]
  },
  {
   "cell_type": "code",
   "execution_count": 187,
   "metadata": {
    "collapsed": false
   },
   "outputs": [
    {
     "name": "stdout",
     "output_type": "stream",
     "text": [
      "brescal & Clinical-Drug&Sign-or-Symptom&Organism-Attribute&Drug-Delivery-Device&Clinical-Attribute \\\\\n",
      "bcomp_mul & \\textbf{Enzyme}&\\textbf{Body-Substance}&\\textbf{Neuroreactive-Substance-or-Biogenic-Amine}&Carbohydrate&\\textbf{Immunologic-Factor} \\\\\n",
      "bcomp_add & \\textbf{Immunologic-Factor}&\\textbf{Body-Substance}&Molecular-Biology-Research-Technique&Clinical-Drug&Chemical-Viewed-Structurally \\\\\n",
      "logit & Amphibian&Governmental-or-Regulatory-Activity&Food&Biologic-Function&Classification \\\\\n"
     ]
    }
   ],
   "source": [
    "for model in models:\n",
    "    print(model, '&', '&'.join(second_step[model]).replace('_','-'), '\\\\\\\\')"
   ]
  },
  {
   "cell_type": "code",
   "execution_count": 134,
   "metadata": {
    "collapsed": false
   },
   "outputs": [
    {
     "data": {
      "text/plain": [
       "<matplotlib.figure.Figure at 0x104d99748>"
      ]
     },
     "metadata": {},
     "output_type": "display_data"
    },
    {
     "data": {
      "image/png": "[encoded data removed]",
      "text/plain": [
       "<matplotlib.figure.Figure at 0x104d99710>"
      ]
     },
     "metadata": {},
     "output_type": "display_data"
    }
   ],
   "source": [
    "legend_size=9\n",
    "font_size=11\n",
    "\n",
    "plt.figure()\n",
    "fig, ax = plt.subplots(figsize=(4,3))\n",
    "for model in models:\n",
    "    c = model_colors[model]\n",
    "    plt.plot([1, score[model], score2[model]], marker=markers[models.index(model)], color=c, label=model_names[model].upper())\n",
    "plt.legend(loc=(0.02,0.4), prop={'size':legend_size})\n",
    "entity = 'Entity:\\nMental-or-Behavioral\\nDysfunction'\n",
    "entity1 = 'Entity:\\nBehaviour,\\nCell-Function,\\nDisease,\\nMental-Process,\\nSocial-Behaviour'\n",
    "entity2 = 'Entity:\\nImmunologic-Factor,\\nBiologically-Substance,\\nCell-Component,\\nEnzyme,\\nHormone'\n",
    "ax.annotate('Relation 1:\\nAffects', xy=(0.5,0.1), horizontalalignment='center', size=font_size)\n",
    "ax.annotate('Relation 2:\\nProduces', xy=(1.5,0.1), horizontalalignment='center', size=font_size)\n",
    "plt.xticks([0,1,2], [entity,entity1,entity2], size=font_size)\n",
    "plt.xlim([-0.1,2.1])\n",
    "plt.ylim([0,1.1])\n",
    "plt.savefig('../paper/cikm2016/images/path_reconstruction.pdf', format='PDF', bbox_inches='tight', pad_inches=0.1)"
   ]
  },
  {
   "cell_type": "code",
   "execution_count": null,
   "metadata": {
    "collapsed": true
   },
   "outputs": [],
   "source": []
  }
 ],
 "metadata": {
  "kernelspec": {
   "display_name": "Python 3",
   "language": "python",
   "name": "python3"
  },
  "language_info": {
   "codemirror_mode": {
    "name": "ipython",
    "version": 3
   },
   "file_extension": ".py",
   "mimetype": "text/x-python",
   "name": "python",
   "nbconvert_exporter": "python",
   "pygments_lexer": "ipython3",
   "version": "3.4.3"
  }
 },
 "nbformat": 4,
 "nbformat_minor": 0
}
