{
 "cells": [
  {
   "cell_type": "code",
   "execution_count": 1,
   "metadata": {
    "collapsed": true
   },
   "outputs": [],
   "source": [
    "import itertools\n",
    "import time\n",
    "from collections import defaultdict\n",
    "import numpy as np\n",
    "import matplotlib\n",
    "import matplotlib.pyplot as plt\n",
    "\n",
    "from scipy.sparse import csr_matrix, csc_matrix, dok_matrix, lil_matrix\n",
    "\n",
    "%matplotlib inline"
   ]
  },
  {
   "cell_type": "markdown",
   "metadata": {},
   "source": [
    "# Load Freebase Datafile"
   ]
  },
  {
   "cell_type": "markdown",
   "metadata": {},
   "source": [
    "Construct tensor (list of sparse matrix where each matrix represent a certain relation between entities) from triple dataset."
   ]
  },
  {
   "cell_type": "code",
   "execution_count": 2,
   "metadata": {
    "collapsed": false
   },
   "outputs": [],
   "source": [
    "datafile = '../data/freebase/train_single_relation.txt'\n",
    "\n",
    "row_list = defaultdict(list)\n",
    "col_list = defaultdict(list)\n",
    "\n",
    "entities = dict()\n",
    "relations = dict()\n",
    "with open(datafile, 'r') as f:\n",
    "    for line in f.readlines():\n",
    "        start, relation, end = line.split('\\t')\n",
    "        entity1 = start.strip()\n",
    "        entity2 = end.strip()\n",
    "        relation = relation.strip()\n",
    "        if entity1 not in entities:\n",
    "            entities[entity1] = len(entities)\n",
    "        if entity2 not in entities:\n",
    "            entities[entity2] = len(entities)\n",
    "        if relation not in relations:\n",
    "            relations[relation] = len(relations)\n",
    "        rel_no = relations[relation]\n",
    "        en1_no = entities[entity1]\n",
    "        en2_no = entities[entity2]\n",
    "        row_list[rel_no].append(en1_no)\n",
    "        col_list[rel_no].append(en2_no)\n",
    "        \n",
    "n_e = len(entities) # number of entities\n",
    "n_r = len(relations) # number of relations\n",
    "\n",
    "T = list()\n",
    "for k in range(n_r):\n",
    "    mat = csr_matrix((np.ones(len(row_list[k])), (row_list[k], col_list[k])), shape=(n_e, n_e))\n",
    "    T.append(mat)"
   ]
  },
  {
   "cell_type": "markdown",
   "metadata": {},
   "source": [
    "## Growth of the number of triples with respect to the number of entities"
   ]
  },
  {
   "cell_type": "markdown",
   "metadata": {},
   "source": [
    "First, we will see how the number of triples will be changed as we randomly add entities into tensor starting from zero entities."
   ]
  },
  {
   "cell_type": "code",
   "execution_count": 3,
   "metadata": {
    "collapsed": false
   },
   "outputs": [
    {
     "name": "stderr",
     "output_type": "stream",
     "text": [
      "/Users/arongdari/anaconda/lib/python3.5/site-packages/scipy/sparse/compressed.py:730: SparseEfficiencyWarning: Changing the sparsity structure of a csr_matrix is expensive. lil_matrix is more efficient.\n",
      "  SparseEfficiencyWarning)\n",
      "/Users/arongdari/anaconda/lib/python3.5/site-packages/numpy/core/_methods.py:59: RuntimeWarning: Mean of empty slice.\n",
      "  warnings.warn(\"Mean of empty slice.\", RuntimeWarning)\n"
     ]
    },
    {
     "name": "stdout",
     "output_type": "stream",
     "text": [
      "190.21923112869263\n"
     ]
    },
    {
     "name": "stderr",
     "output_type": "stream",
     "text": [
      "/Users/arongdari/anaconda/lib/python3.5/site-packages/numpy/core/_methods.py:70: RuntimeWarning: invalid value encountered in double_scalars\n",
      "  ret = ret.dtype.type(ret / rcount)\n"
     ]
    }
   ],
   "source": [
    "n_triple = defaultdict(list)\n",
    "n_sample = 1 # repeat counting n_sample times\n",
    "\n",
    "_T = [T[k].copy() for k in range(n_r)]\n",
    "\n",
    "for s in range(n_sample):\n",
    "    tic = time.time()\n",
    "    n_triple[0].append(np.sum([_T[k].sum() for k in range(n_r)]))\n",
    "\n",
    "    shf_e = np.arange(n_e)\n",
    "    np.random.shuffle(shf_e)\n",
    "\n",
    "    for i in range(1, 10):\n",
    "        idx = shf_e[i]\n",
    "        cnt = 0\n",
    "        for k in range(n_r):\n",
    "            cnt += _T[k].getrow(idx).nnz\n",
    "            _T[k][idx, :] = 0\n",
    "            cnt += _T[k].getcol(idx).nnz\n",
    "            _T[k][:, idx] = 0\n",
    "        n_triple[i].append(n_triple[i-1][-1] - cnt)\n",
    "        \n",
    "    print(time.time()-tic)\n",
    "avg_cnt = [np.mean(n_triple[i]) for i in range(n_e)]\n",
    "avg_cnt.reverse()"
   ]
  },
  {
   "cell_type": "markdown",
   "metadata": {},
   "source": [
    "How to reduce the running time?"
   ]
  },
  {
   "cell_type": "code",
   "execution_count": 4,
   "metadata": {
    "collapsed": false
   },
   "outputs": [
    {
     "data": {
      "text/plain": [
       "<matplotlib.text.Text at 0x10e9549b0>"
      ]
     },
     "execution_count": 4,
     "metadata": {},
     "output_type": "execute_result"
    },
    {
     "data": {
      "image/png": "[encoded data removed]",
      "text/plain": [
       "<matplotlib.figure.Figure at 0x10d61e908>"
      ]
     },
     "metadata": {},
     "output_type": "display_data"
    }
   ],
   "source": [
    "plt.figure(figsize=(8,6))\n",
    "plt.plot(avg_cnt)\n",
    "plt.title('# of entities vs # of triples')\n",
    "plt.xlabel('# entities')\n",
    "plt.ylabel('# triples')"
   ]
  },
  {
   "cell_type": "code",
   "execution_count": null,
   "metadata": {
    "collapsed": true
   },
   "outputs": [],
   "source": []
  }
 ],
 "metadata": {
  "kernelspec": {
   "display_name": "Python 3",
   "language": "python",
   "name": "python3"
  },
  "language_info": {
   "codemirror_mode": {
    "name": "ipython",
    "version": 3
   },
   "file_extension": ".py",
   "mimetype": "text/x-python",
   "name": "python",
   "nbconvert_exporter": "python",
   "pygments_lexer": "ipython3",
   "version": "3.5.1"
  }
 },
 "nbformat": 4,
 "nbformat_minor": 0
}
