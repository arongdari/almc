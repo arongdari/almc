{
 "cells": [
  {
   "cell_type": "code",
   "execution_count": 1,
   "metadata": {
    "collapsed": true
   },
   "outputs": [],
   "source": [
    "import itertools\n",
    "import time\n",
    "from collections import defaultdict\n",
    "import numpy as np\n",
    "import matplotlib\n",
    "import matplotlib.pyplot as plt\n",
    "\n",
    "from scipy.sparse import csr_matrix, csc_matrix, dok_matrix, lil_matrix\n",
    "\n",
    "%matplotlib inline"
   ]
  },
  {
   "cell_type": "markdown",
   "metadata": {},
   "source": [
    "# Load Freebase Datafile"
   ]
  },
  {
   "cell_type": "markdown",
   "metadata": {},
   "source": [
    "Construct tensor (list of sparse matrix where each matrix represent a certain relation between entities) from triple dataset.\n",
    "\n",
    "Maintaining the same tensor as a collection of csr matrices and csc matrices help to optimise time complexity."
   ]
  },
  {
   "cell_type": "code",
   "execution_count": 2,
   "metadata": {
    "collapsed": false
   },
   "outputs": [],
   "source": [
    "def construct_freebase(shuffle = True):\n",
    "    e_file = '../data/freebase/entities.txt'\n",
    "    r_file = '../data/freebase/relations.txt'\n",
    "    datafile = '../data/freebase/train_single_relation.txt'\n",
    "\n",
    "    with open(e_file, 'r') as f:\n",
    "        e_list = [line.strip() for line in f.readlines()]\n",
    "    with open(r_file, 'r') as f:\n",
    "        r_list = [line.strip() for line in f.readlines()]\n",
    "\n",
    "    n_e = len(e_list) # number of entities\n",
    "    n_r = len(r_list) # number of relations\n",
    "\n",
    "    if shuffle:\n",
    "        np.random.shuffle(e_list)\n",
    "        np.random.shuffle(r_list)\n",
    "\n",
    "    entities = {e_list[i]:i for i in range(n_e)}\n",
    "    relations = {r_list[i]:i for i in range(n_r)}\n",
    "\n",
    "    row_list = defaultdict(list)\n",
    "    col_list = defaultdict(list)\n",
    "\n",
    "    with open(datafile, 'r') as f:\n",
    "        for line in f.readlines():\n",
    "            start, relation, end = line.split('\\t')\n",
    "            rel_no = relations[relation.strip()]\n",
    "            en1_no = entities[start.strip()]\n",
    "            en2_no = entities[end.strip()]\n",
    "            row_list[rel_no].append(en1_no)\n",
    "            col_list[rel_no].append(en2_no)\n",
    "\n",
    "    rowT = list()\n",
    "    colT = list()\n",
    "    for k in range(n_r):\n",
    "        mat = csr_matrix((np.ones(len(row_list[k])), (row_list[k], col_list[k])), shape=(n_e, n_e))\n",
    "        rowT.append(mat)\n",
    "        mat = csc_matrix((np.ones(len(row_list[k])), (row_list[k], col_list[k])), shape=(n_e, n_e))\n",
    "        colT.append(mat)\n",
    "    return n_e, n_r, rowT, colT"
   ]
  },
  {
   "cell_type": "markdown",
   "metadata": {},
   "source": [
    "## Growth of the number of triples with respect to the number of entities"
   ]
  },
  {
   "cell_type": "markdown",
   "metadata": {},
   "source": [
    "First, we will see how the number of triples will be changed as we randomly add entities into tensor starting from zero entities."
   ]
  },
  {
   "cell_type": "code",
   "execution_count": 3,
   "metadata": {
    "collapsed": false
   },
   "outputs": [
    {
     "name": "stdout",
     "output_type": "stream",
     "text": [
      "476.7563190460205\n",
      "500.23756408691406\n",
      "506.6309280395508\n",
      "505.6231610774994\n",
      "505.33471512794495\n",
      "508.1289749145508\n",
      "494.6827049255371\n",
      "491.657014131546\n",
      "492.3156521320343\n",
      "492.85885095596313\n"
     ]
    }
   ],
   "source": [
    "n_triple = defaultdict(list)\n",
    "n_sample = 10 # repeat counting n_sample times\n",
    "\n",
    "for s in range(n_sample):\n",
    "    tic = time.time()\n",
    "    n_triple[0].append(0)    \n",
    "\n",
    "    n_e, n_r, _rowT, _colT = construct_freebase()\n",
    "    \n",
    "    for i in range(1, n_e):\n",
    "        # counting triples by expanding tensor\n",
    "        cnt = 0\n",
    "        for k in range(n_r):\n",
    "            cnt += _rowT[k].getrow(i)[:,:i].nnz\n",
    "            cnt += _colT[k].getcol(i)[:i-1,:].nnz            \n",
    "        n_triple[i].append(n_triple[i-1][-1] + cnt)\n",
    "        \n",
    "    print(time.time()-tic)\n",
    "avg_cnt = [np.mean(n_triple[i]) for i in range(n_e)]"
   ]
  },
  {
   "cell_type": "markdown",
   "metadata": {},
   "source": [
    "Size of tensor:"
   ]
  },
  {
   "cell_type": "code",
   "execution_count": 4,
   "metadata": {
    "collapsed": false
   },
   "outputs": [
    {
     "name": "stdout",
     "output_type": "stream",
     "text": [
      "73208874037\n"
     ]
    }
   ],
   "source": [
    "print(n_e**2*n_r)"
   ]
  },
  {
   "cell_type": "code",
   "execution_count": 5,
   "metadata": {
    "collapsed": false
   },
   "outputs": [
    {
     "data": {
      "text/plain": [
       "<matplotlib.text.Text at 0x10df85ba8>"
      ]
     },
     "execution_count": 5,
     "metadata": {},
     "output_type": "execute_result"
    },
    {
     "data": {
      "image/png": "[encoded data removed]",
      "text/plain": [
       "<matplotlib.figure.Figure at 0x10deac400>"
      ]
     },
     "metadata": {},
     "output_type": "display_data"
    }
   ],
   "source": [
    "plt.figure(figsize=(8,6))\n",
    "plt.plot(avg_cnt)\n",
    "plt.title('# of entities vs # of triples')\n",
    "plt.xlabel('# entities')\n",
    "plt.ylabel('# triples')"
   ]
  },
  {
   "cell_type": "code",
   "execution_count": 6,
   "metadata": {
    "collapsed": true
   },
   "outputs": [],
   "source": [
    "import pickle\n",
    "pickle.dump(n_triple, open('growth_freebase.pkl', 'wb'))"
   ]
  },
  {
   "cell_type": "code",
   "execution_count": null,
   "metadata": {
    "collapsed": true
   },
   "outputs": [],
   "source": []
  }
 ],
 "metadata": {
  "kernelspec": {
   "display_name": "Python 3",
   "language": "python",
   "name": "python3"
  },
  "language_info": {
   "codemirror_mode": {
    "name": "ipython",
    "version": 3
   },
   "file_extension": ".py",
   "mimetype": "text/x-python",
   "name": "python",
   "nbconvert_exporter": "python",
   "pygments_lexer": "ipython3",
   "version": "3.5.1"
  }
 },
 "nbformat": 4,
 "nbformat_minor": 0
}
