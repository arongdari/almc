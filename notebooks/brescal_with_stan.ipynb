{
 "cells": [
  {
   "cell_type": "code",
   "execution_count": 1,
   "metadata": {},
   "outputs": [],
   "source": [
    "import pystan\n",
    "import numpy as np\n",
    "from scipy.io.matlab import loadmat\n",
    "from scipy.sparse import csr_matrix\n",
    "import matplotlib\n",
    "import matplotlib.pyplot as plt\n",
    "%matplotlib inline"
   ]
  },
  {
   "cell_type": "code",
   "execution_count": 2,
   "metadata": {},
   "outputs": [
    {
     "name": "stdout",
     "output_type": "stream",
     "text": [
      "(26, 104, 104)\n"
     ]
    }
   ],
   "source": [
    "mat = loadmat('../data/alyawarradata.mat')\n",
    "T = np.array(mat['Rs'], np.float32)\n",
    "\n",
    "D = 5\n",
    "T = np.swapaxes(T, 1, 2)\n",
    "T = np.swapaxes(T, 0, 1)  # [relation, entity, entity]\n",
    "num_relation, num_entity, _ = T.shape\n",
    "print(T.shape)"
   ]
  },
  {
   "cell_type": "code",
   "execution_count": null,
   "metadata": {},
   "outputs": [],
   "source": [
    "code = \"\"\"\n",
    "data {\n",
    "    int<lower=0> n_dim;\n",
    "    int<lower=0> n_entity;\n",
    "    int<lower=0> n_relation;\n",
    "    real<lower=0> var_x;\n",
    "    real<lower=0> var_e;\n",
    "    real<lower=0> var_r;    \n",
    "    real x[n_relation, n_entity, n_entity];\n",
    "}\n",
    "parameters {\n",
    "    matrix[n_entity, n_dim] E;\n",
    "    real R[n_relation, n_dim, n_dim];\n",
    "}\n",
    "transformed parameters {\n",
    "    real mu[n_relation, n_entity, n_entity];\n",
    "    for (k in 1:n_relation)\n",
    "        mu[k] <- to_array_2d((to_matrix(E) * to_matrix(R[k])) * to_matrix(E)');\n",
    "}\n",
    "model {\n",
    "    vector[n_dim] mean_e;\n",
    "    vector[n_dim] diag_e;\n",
    "    \n",
    "    mean_e <- rep_vector(0, n_dim);\n",
    "    diag_e <- rep_vector(var_e, n_dim);\n",
    "    \n",
    "    for (i in 1:n_entity)\n",
    "        E[i] ~ multi_normal(mean_e, diag_matrix(diag_e));\n",
    "    for (k in 1:n_relation)\n",
    "        for (i in 1:n_dim)\n",
    "            for (j in 1:n_dim)\n",
    "                R[k,i,j] ~ normal(0, var_r);\n",
    "    for (k in 1:n_relation)\n",
    "        for (i in 1:n_entity)\n",
    "            for (j in 1:n_entity)\n",
    "                x[k, i, j] ~ normal(mu[k, i, j], var_x);\n",
    "}\n",
    "\"\"\"\n",
    "dat = {'var_x':1.,\n",
    "       'var_r':1.,\n",
    "       'var_e':1.,\n",
    "       'n_dim':5,\n",
    "       'n_entity':num_entity,\n",
    "       'n_relation':num_relation,\n",
    "       'x':T\n",
    "      }\n",
    "\n",
    "fit = pystan.stan(model_code=code,data=dat,iter=1,chains=1)"
   ]
  },
  {
   "cell_type": "code",
   "execution_count": null,
   "metadata": {},
   "outputs": [],
   "source": [
    "samples = fit.extract()"
   ]
  },
  {
   "cell_type": "code",
   "execution_count": null,
   "metadata": {},
   "outputs": [],
   "source": [
    "E = samples['E']\n",
    "R = samples['R']\n",
    "\n",
    "X = np.zeros_like(trainX)\n",
    "\n",
    "for k in range(num_relation)\n",
    "    X = np.dot(np.dot(E,R[k]), E.T)\n",
    "    \n",
    "A = np.sum((trainX-_X)**2)\n",
    "B = np.sum(trainX**2)\n",
    "fit = 1.-A/B\n",
    "\n",
    "print(fit)"
   ]
  }
 ],
 "metadata": {
  "kernelspec": {
   "display_name": "Python 3",
   "language": "python",
   "name": "python3"
  },
  "language_info": {
   "codemirror_mode": {
    "name": "ipython",
    "version": 3.0
   },
   "file_extension": ".py",
   "mimetype": "text/x-python",
   "name": "python",
   "nbconvert_exporter": "python",
   "pygments_lexer": "ipython3",
   "version": "3.4.3"
  }
 },
 "nbformat": 4,
 "nbformat_minor": 0
}