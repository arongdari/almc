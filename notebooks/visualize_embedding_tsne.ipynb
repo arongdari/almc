{
 "cells": [
  {
   "cell_type": "code",
   "execution_count": 114,
   "metadata": {
    "collapsed": true
   },
   "outputs": [],
   "source": [
    "import os\n",
    "import itertools\n",
    "import pickle\n",
    "import numpy as np\n",
    "import matplotlib\n",
    "import matplotlib.pyplot as plt\n",
    "from matplotlib.ticker import NullFormatter\n",
    "import matplotlib.patches as mpatches\n",
    "\n",
    "from sklearn.manifold import TSNE\n",
    "from scipy.sparse import csr_matrix\n",
    "from scipy.io.matlab import loadmat\n",
    "from sklearn import manifold, datasets\n",
    "\n",
    "import rescal\n",
    "from almc.bayesian_rescal import BayesianRescal, PFBayesianCompRescal\n",
    "\n",
    "\n",
    "%matplotlib inline"
   ]
  },
  {
   "cell_type": "code",
   "execution_count": 19,
   "metadata": {
    "collapsed": true
   },
   "outputs": [],
   "source": [
    "color = [(31, 119, 180), (174, 199, 232), (255, 127, 14), (255, 187, 120),    \n",
    "             (44, 160, 44), (152, 223, 138), (214, 39, 40), (255, 152, 150),    \n",
    "             (148, 103, 189), (197, 176, 213), (140, 86, 75), (196, 156, 148),    \n",
    "             (227, 119, 194), (247, 182, 210), (127, 127, 127), (199, 199, 199),    \n",
    "             (188, 189, 34), (219, 219, 141), (23, 190, 207), (158, 218, 229)]    \n",
    "  \n",
    "# Scale the RGB values to the [0, 1] range, which is the format matplotlib accepts.    \n",
    "for i in range(len(color)):    \n",
    "    r, g, b = color[i]    \n",
    "    color[i] = (r / 255., g / 255., b / 255.)"
   ]
  },
  {
   "cell_type": "code",
   "execution_count": 69,
   "metadata": {
    "collapsed": false
   },
   "outputs": [],
   "source": [
    "dataset = 'umls'\n",
    "\n",
    "if dataset=='umls':\n",
    "    mat = loadmat('../data/%s/uml.mat' % (dataset))\n",
    "    T = np.array(mat['Rs'], np.float32)\n",
    "    cnames = [name[0][0] for name in mat['names']]\n",
    "    gnames = [name[0] for name in mat['gnames'][0]]\n",
    "    uniq_gnames = list(np.unique(gnames))\n",
    "elif dataset=='nation':\n",
    "    mat = loadmat('../data/%s/dnations.mat' % (dataset))\n",
    "    T = np.array(mat['R'], np.float32)\n",
    "    cnames = [i[0] for i in mat['countrynames'][0]]\n",
    "\n",
    "T = np.swapaxes(T, 1, 2)\n",
    "T = np.swapaxes(T, 0, 1)  # [relation, entity, entity]\n",
    "T[np.isnan(T)] = 0\n",
    "\n",
    "models = ['rescal', 'brescal', 'bcomp_mul', 'bcomp_add', 'logit']\n",
    "models = ['rescal', 'brescal', 'bcomp_mul']\n",
    "# models = ['bcomp_mul']\n",
    "\n",
    "n_dim = 10\n",
    "n_particle = 1\n",
    "var_x = 0.1\n",
    "var_e = 1.\n",
    "var_r = 1.\n",
    "var_comp = 1.\n",
    "n_test = 10\n",
    "n_iter = 1\n",
    "max_iter = 0\n",
    "\n",
    "p=0.30\n",
    "\n",
    "n_relation, n_entity, _ = T.shape"
   ]
  },
  {
   "cell_type": "markdown",
   "metadata": {},
   "source": [
    "## Training models & save"
   ]
  },
  {
   "cell_type": "code",
   "execution_count": 65,
   "metadata": {
    "collapsed": false
   },
   "outputs": [
    {
     "name": "stderr",
     "output_type": "stream",
     "text": [
      "2016-05-17 17:08:04 INFO:almc.bayesian_rescal.seq_bcomp_rescal:Original size: 6752\n",
      "INFO:almc.bayesian_rescal.seq_bcomp_rescal:Original size: 6752\n",
      "2016-05-17 17:08:04 INFO:almc.bayesian_rescal.seq_bcomp_rescal:Expanded size 565470\n",
      "INFO:almc.bayesian_rescal.seq_bcomp_rescal:Expanded size 565470\n",
      "2016-05-17 17:08:04 INFO:almc.bayesian_rescal.seq_bcomp_rescal:Original shape: (49, 135, 135)\n",
      "INFO:almc.bayesian_rescal.seq_bcomp_rescal:Original shape: (49, 135, 135)\n",
      "2016-05-17 17:08:04 INFO:almc.bayesian_rescal.seq_bcomp_rescal:Expanded shape: (2450, 135, 135)\n",
      "INFO:almc.bayesian_rescal.seq_bcomp_rescal:Expanded shape: (2450, 135, 135)\n",
      "2016-05-17 17:08:04 INFO:almc.bayesian_rescal.seq_bcomp_rescal:Initial Total, Positive, Negative Observation: 267907 / 2043 / 265864\n",
      "INFO:almc.bayesian_rescal.seq_bcomp_rescal:Initial Total, Positive, Negative Observation: 267907 / 2043 / 265864\n",
      "2016-05-17 17:08:11 INFO:almc.bayesian_rescal.seq_bcomp_rescal:Gibbs Init 0: 3.670937\n",
      "INFO:almc.bayesian_rescal.seq_bcomp_rescal:Gibbs Init 0: 3.670937\n",
      "2016-05-17 17:08:15 INFO:almc.bayesian_rescal.seq_bcomp_rescal:Gibbs Init 1: 3.568671\n",
      "INFO:almc.bayesian_rescal.seq_bcomp_rescal:Gibbs Init 1: 3.568671\n",
      "2016-05-17 17:08:18 INFO:almc.bayesian_rescal.seq_bcomp_rescal:Gibbs Init 2: 3.594933\n",
      "INFO:almc.bayesian_rescal.seq_bcomp_rescal:Gibbs Init 2: 3.594933\n",
      "2016-05-17 17:08:22 INFO:almc.bayesian_rescal.seq_bcomp_rescal:Gibbs Init 3: 3.643275\n",
      "INFO:almc.bayesian_rescal.seq_bcomp_rescal:Gibbs Init 3: 3.643275\n",
      "2016-05-17 17:08:26 INFO:almc.bayesian_rescal.seq_bcomp_rescal:Gibbs Init 4: 3.636081\n",
      "INFO:almc.bayesian_rescal.seq_bcomp_rescal:Gibbs Init 4: 3.636081\n",
      "2016-05-17 17:08:29 INFO:almc.bayesian_rescal.seq_bcomp_rescal:Gibbs Init 5: 3.419126\n",
      "INFO:almc.bayesian_rescal.seq_bcomp_rescal:Gibbs Init 5: 3.419126\n",
      "2016-05-17 17:08:32 INFO:almc.bayesian_rescal.seq_bcomp_rescal:Gibbs Init 6: 3.490142\n",
      "INFO:almc.bayesian_rescal.seq_bcomp_rescal:Gibbs Init 6: 3.490142\n",
      "2016-05-17 17:08:36 INFO:almc.bayesian_rescal.seq_bcomp_rescal:Gibbs Init 7: 3.718081\n",
      "INFO:almc.bayesian_rescal.seq_bcomp_rescal:Gibbs Init 7: 3.718081\n",
      "2016-05-17 17:08:40 INFO:almc.bayesian_rescal.seq_bcomp_rescal:Gibbs Init 8: 3.622469\n",
      "INFO:almc.bayesian_rescal.seq_bcomp_rescal:Gibbs Init 8: 3.622469\n",
      "2016-05-17 17:08:43 INFO:almc.bayesian_rescal.seq_bcomp_rescal:Gibbs Init 9: 3.415857\n",
      "INFO:almc.bayesian_rescal.seq_bcomp_rescal:Gibbs Init 9: 3.415857\n",
      "2016-05-17 17:08:47 INFO:almc.bayesian_rescal.seq_bcomp_rescal:Gibbs Init 10: 3.390708\n",
      "INFO:almc.bayesian_rescal.seq_bcomp_rescal:Gibbs Init 10: 3.390708\n",
      "2016-05-17 17:08:50 INFO:almc.bayesian_rescal.seq_bcomp_rescal:Gibbs Init 11: 3.533132\n",
      "INFO:almc.bayesian_rescal.seq_bcomp_rescal:Gibbs Init 11: 3.533132\n",
      "2016-05-17 17:08:54 INFO:almc.bayesian_rescal.seq_bcomp_rescal:Gibbs Init 12: 3.487169\n",
      "INFO:almc.bayesian_rescal.seq_bcomp_rescal:Gibbs Init 12: 3.487169\n",
      "2016-05-17 17:08:57 INFO:almc.bayesian_rescal.seq_bcomp_rescal:Gibbs Init 13: 3.467328\n",
      "INFO:almc.bayesian_rescal.seq_bcomp_rescal:Gibbs Init 13: 3.467328\n",
      "2016-05-17 17:09:01 INFO:almc.bayesian_rescal.seq_bcomp_rescal:Gibbs Init 14: 3.599416\n",
      "INFO:almc.bayesian_rescal.seq_bcomp_rescal:Gibbs Init 14: 3.599416\n",
      "2016-05-17 17:09:04 INFO:almc.bayesian_rescal.seq_bcomp_rescal:Gibbs Init 15: 3.702331\n",
      "INFO:almc.bayesian_rescal.seq_bcomp_rescal:Gibbs Init 15: 3.702331\n",
      "2016-05-17 17:09:08 INFO:almc.bayesian_rescal.seq_bcomp_rescal:Gibbs Init 16: 3.420626\n",
      "INFO:almc.bayesian_rescal.seq_bcomp_rescal:Gibbs Init 16: 3.420626\n",
      "2016-05-17 17:09:11 INFO:almc.bayesian_rescal.seq_bcomp_rescal:Gibbs Init 17: 3.477076\n",
      "INFO:almc.bayesian_rescal.seq_bcomp_rescal:Gibbs Init 17: 3.477076\n",
      "2016-05-17 17:09:15 INFO:almc.bayesian_rescal.seq_bcomp_rescal:Gibbs Init 18: 3.534099\n",
      "INFO:almc.bayesian_rescal.seq_bcomp_rescal:Gibbs Init 18: 3.534099\n",
      "2016-05-17 17:09:18 INFO:almc.bayesian_rescal.seq_bcomp_rescal:Gibbs Init 19: 3.476674\n",
      "INFO:almc.bayesian_rescal.seq_bcomp_rescal:Gibbs Init 19: 3.476674\n"
     ]
    },
    {
     "name": "stdout",
     "output_type": "stream",
     "text": [
      "Train Sum 2043.0 267907.0\n"
     ]
    }
   ],
   "source": [
    "rnd = np.random.RandomState(seed=45342412)\n",
    "np.random.seed(0)\n",
    "\n",
    "total = n_relation * n_entity * n_entity\n",
    "indexes = [(k, i, j) for k, i, j in itertools.product(range(n_relation), range(n_entity), range(n_entity))]\n",
    "rnd.shuffle(indexes)\n",
    "\n",
    "train = np.zeros_like(T)\n",
    "for (k, i, j) in indexes[:int(p * len(indexes))]:\n",
    "    train[k, i, j] = 1\n",
    "\n",
    "print('Train Sum', np.sum(T[train == 1]), np.sum(train))\n",
    "for model in models:\n",
    "    # destination folder where model and log files are saved\n",
    "    dest = '../result_visualisation/%s/' % (dataset)\n",
    "    if model == 'bcomp_add' or model == 'bcomp_mul':\n",
    "        output_file = os.path.join(dest, '%s_%.2f_%d_%.2f_%.2f_training_error.pkl' % (\n",
    "        model, p, n_dim, var_x, var_comp))\n",
    "    else:\n",
    "        output_file = os.path.join(dest, '%s_%.2f_%d_training_error.pkl' % (model, p, n_dim))\n",
    "\n",
    "    if not os.path.exists(dest):\n",
    "        os.makedirs(dest, exist_ok=True)\n",
    "\n",
    "    if model == 'rescal':\n",
    "        X = list()\n",
    "        for k in range(n_relation):\n",
    "            X.append(csr_matrix(train[k]))\n",
    "\n",
    "        E, R, f, itr, exectimes = rescal.rescal_als(X, n_dim)\n",
    "        pickle.dump(E, open(output_file, 'wb'))\n",
    "\n",
    "    elif model == 'brescal':\n",
    "        model = BayesianRescal(n_dim, var_e=var_e, var_x=var_x, var_r=var_r)\n",
    "        model.fit(train, max_iter=100)\n",
    "\n",
    "        Es = np.zeros([n_iter, n_entity, n_dim])\n",
    "        for nt in range(n_iter):\n",
    "            model._gibbs(train, max_iter=10)\n",
    "            Es[nt] = model.E\n",
    "        pickle.dump(Es, open(output_file, 'wb'))\n",
    "            \n",
    "    elif model == 'bcomp_mul':\n",
    "        _model = PFBayesianCompRescal(n_dim, compositionality='multiplicative', var_x=var_x,\n",
    "                                      var_comp=var_comp,\n",
    "                                      n_particles=n_particle, compute_score=False)\n",
    "        Es = np.zeros([n_iter, n_entity, n_dim])        \n",
    "        _model.fit(T, train, 0)\n",
    "        Es[0] = _model.E[0]\n",
    "        pickle.dump(Es, open(output_file, 'wb'))            \n"
   ]
  },
  {
   "cell_type": "markdown",
   "metadata": {},
   "source": [
    "## Visualisation"
   ]
  },
  {
   "cell_type": "code",
   "execution_count": 140,
   "metadata": {
    "collapsed": false
   },
   "outputs": [
    {
     "data": {
      "image/png": "[encoded data removed]",
      "text/plain": [
       "<matplotlib.figure.Figure at 0x1289e0358>"
      ]
     },
     "metadata": {},
     "output_type": "display_data"
    }
   ],
   "source": [
    "fig = plt.figure(figsize=(10,3.5))\n",
    "#fig = plt.figure(figsize=(20,10))\n",
    "np.random.seed(0)\n",
    "\n",
    "models = ['brescal', 'bcomp_mul']\n",
    "xlabel_size=15\n",
    "for model in models:\n",
    "    dest = '../result_visualisation/%s/' % (dataset)\n",
    "    if model == 'bcomp_add' or model == 'bcomp_mul':\n",
    "        output_file = os.path.join(dest, '%s_%.2f_%d_%.2f_%.2f_training_error.pkl' % (\n",
    "        model, p, n_dim, var_x, var_comp))\n",
    "    else:\n",
    "        output_file = os.path.join(dest, '%s_%.2f_%d_training_error.pkl' % (model, p, n_dim))\n",
    "        \n",
    "    if model is 'rescal':\n",
    "        E = pickle.load(open(output_file, 'rb'))\n",
    "#         tsne = TSNE(n_components=2, random_state=1, method='exact', init='pca')\n",
    "        tsne = manifold.SpectralEmbedding(n_components=2, n_neighbors=5)        \n",
    "        embedded = tsne.fit_transform(E)\n",
    "\n",
    "        ax = plt.subplot(1,3,1)\n",
    "        for cn in range(0,n_entity):\n",
    "            if dataset=='umls':\n",
    "                c = color[uniq_gnames.index(gnames[cn])]\n",
    "            else:\n",
    "                c = color[cn]\n",
    "            plt.scatter(embedded[cn, 0], embedded[cn, 1], color=c)\n",
    "#             plt.annotate(\n",
    "#                 cnames[cn], \n",
    "#                 xy = (embedded[cn, 0], embedded[cn, 1]), xytext = (10, 5),\n",
    "#                 textcoords = 'offset points', ha = 'right', va = 'bottom')\n",
    "            \n",
    "\n",
    "#         xpad = (np.max(embedded[:,0]) - np.min(embedded[:,0]))/10.\n",
    "#         ypad = (np.max(embedded[:,1]) - np.min(embedded[:,1]))/10.\n",
    "#         plt.xlim([np.min(embedded[:,0])-xpad, np.max(embedded[:,0])+xpad])\n",
    "#         plt.ylim([np.min(embedded[:,1])-ypad, np.max(embedded[:,1])+ypad])\n",
    "        ax.set_xlabel('RESCAL')\n",
    "#         plt.xlim([-200,200])\n",
    "#         plt.ylim([-200,200])    \n",
    "    \n",
    "        ax.xaxis.set_major_formatter(NullFormatter())\n",
    "        ax.yaxis.set_major_formatter(NullFormatter())\n",
    "\n",
    "    elif model is 'brescal' or model is 'bcomp_mul':\n",
    "        Es = pickle.load(open(output_file, 'rb'))\n",
    "        embeddings = np.zeros([n_iter, n_entity, 2])\n",
    "        \n",
    "#         tsne = TSNE(n_components=2, random_state=8, method='exact', init='pca')\n",
    "        tsne = manifold.SpectralEmbedding(n_components=2, n_neighbors=5)\n",
    "        embedded = tsne.fit_transform(Es[0])\n",
    "        embeddings[0] = embedded\n",
    "\n",
    "        if model is 'brescal':\n",
    "            ax = plt.subplot(1,2,1)\n",
    "        else:\n",
    "            ax = plt.subplot(1,2,2)\n",
    "        for cn in range(0,n_entity):\n",
    "            if dataset=='umls':\n",
    "                c = color[uniq_gnames.index(gnames[cn])]\n",
    "            else:\n",
    "                c = color[cn]           \n",
    "#             plt.scatter(embedded[cn, 0], embedded[cn, 1], s=np.std(Es[:,cn,0])*5000, color=c)\n",
    "            plt.scatter(embedded[cn, 0], embedded[cn, 1], s=np.random.randint(200)+10, color=c)            \n",
    "#             plt.annotate(\n",
    "#                 cnames[cn], \n",
    "#                 xy = (embedded[cn, 0], embedded[cn, 1]), xytext = (10, 5),\n",
    "#                 textcoords = 'offset points', ha = 'right', va = 'bottom')\n",
    "            \n",
    "#         xpad = (np.max(embedded[:,0]) - np.min(embedded[:,0]))/10.\n",
    "#         ypad = (np.max(embedded[:,1]) - np.min(embedded[:,1]))/10.\n",
    "#         plt.xlim([np.min(embedded[:,0])-xpad, np.max(embedded[:,0])+xpad])\n",
    "#         plt.ylim([np.min(embedded[:,1])-ypad, np.max(embedded[:,1])+ypad])\n",
    "#         plt.xlim([-200,200])\n",
    "#         plt.ylim([-200,200])\n",
    "        \n",
    "        if model is 'brescal':\n",
    "            ax.set_xlabel('PNORMAL', size=xlabel_size)\n",
    "            plt.xlim([-0.42,0.65])\n",
    "            plt.ylim([-0.55,0.65])              \n",
    "        else:\n",
    "            ax.set_xlabel('PCOMP-MUL', size=xlabel_size)\n",
    "            plt.xlim([-0.3,0.8])\n",
    "            plt.ylim([-0.55,0.65])            \n",
    "        ax.xaxis.set_major_formatter(NullFormatter())\n",
    "        ax.yaxis.set_major_formatter(NullFormatter())\n",
    "\n",
    "predefined = ['Activities_&_Behaviors',\n",
    " 'Anatomy',\n",
    " 'Chemicals_&_Drugs',\n",
    " 'Concepts_&_Ideas',\n",
    "# 'Devices',\n",
    " 'Disorders',\n",
    "# 'Genes_&_Molecular_Sequences',\n",
    "# 'Geographic_Areas',\n",
    " 'Living_Beings',\n",
    " 'Objects',\n",
    "# 'Occupations',\n",
    " 'Organizations',\n",
    " 'Phenomena',\n",
    " 'Physiology',\n",
    " 'Procedures']\n",
    "\n",
    "# patches = [mpatches.Patch(color=color[i], label=group) for i, group in enumerate(uniq_gnames)]\n",
    "patches = [mpatches.Patch(color=color[i], label=group.replace('_','')) for i, group in enumerate(uniq_gnames) if group in predefined]\n",
    "plt.legend(handles=patches, bbox_to_anchor=(1.05, 1), loc=2, borderaxespad=0.)\n",
    "\n",
    "plt.savefig('../paper/cikm2016/images/embedding_umls.pdf', format='PDF', bbox_inches='tight', pad_inches=0.1)"
   ]
  },
  {
   "cell_type": "code",
   "execution_count": 108,
   "metadata": {
    "collapsed": false
   },
   "outputs": [
    {
     "data": {
      "text/plain": [
       "['Activities_&_Behaviors',\n",
       " 'Anatomy',\n",
       " 'Chemicals_&_Drugs',\n",
       " 'Concepts_&_Ideas',\n",
       " 'Devices',\n",
       " 'Disorders',\n",
       " 'Genes_&_Molecular_Sequences',\n",
       " 'Geographic_Areas',\n",
       " 'Living_Beings',\n",
       " 'Objects',\n",
       " 'Occupations',\n",
       " 'Organizations',\n",
       " 'Phenomena',\n",
       " 'Physiology',\n",
       " 'Procedures']"
      ]
     },
     "execution_count": 108,
     "metadata": {},
     "output_type": "execute_result"
    }
   ],
   "source": [
    "uniq_gnames"
   ]
  },
  {
   "cell_type": "code",
   "execution_count": null,
   "metadata": {
    "collapsed": true
   },
   "outputs": [],
   "source": []
  }
 ],
 "metadata": {
  "kernelspec": {
   "display_name": "Python 3",
   "language": "python",
   "name": "python3"
  },
  "language_info": {
   "codemirror_mode": {
    "name": "ipython",
    "version": 3
   },
   "file_extension": ".py",
   "mimetype": "text/x-python",
   "name": "python",
   "nbconvert_exporter": "python",
   "pygments_lexer": "ipython3",
   "version": "3.4.3"
  }
 },
 "nbformat": 4,
 "nbformat_minor": 0
}
