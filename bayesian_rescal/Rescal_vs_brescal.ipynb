{
 "cells": [
  {
   "cell_type": "markdown",
   "metadata": {},
   "source": [
    "# RESCAL vs BayesianRESCAL on KINSHIP dataset"
   ]
  },
  {
   "cell_type": "markdown",
   "metadata": {},
   "source": [
    "## 1. Bayesian RESCAL model"
   ]
  },
  {
   "cell_type": "markdown",
   "metadata": {},
   "source": [
    "Here's the generative process of triple (entity, relation, entity):\n",
    "\n",
    "For each entity $i$, a latent representation of the entity $e_i \\in \\mathbb{R}^{D}$ is drawn from the zero mean multivariate-normal distribution with diagonal covariance matrix:\n",
    "\n",
    "$$e_i \\sim N(0, \\sigma_e^2 I_D)$$\n",
    "\n",
    "For each relation $k$, relation matrix $R_k \\in \\mathbb{R}^{D\\times D}$ is drawn from the matrix normal distribution with diagonal covariance matrices:\n",
    "\n",
    "$$R_k \\sim MN(0, \\sigma_r^2 I_D, I_D)$$\n",
    "\n",
    "For each triple $(i, k, j)$, the observed value of the triple $x_{i,k,j}$ is drawn from the normal distribution with bilinear mean and variance:\n",
    "\n",
    "$$x_{ikj} \\sim N(e_i^\\top R_k e_j, \\sigma_x^2)$$\n"
   ]
  },
  {
   "cell_type": "code",
   "execution_count": 1,
   "metadata": {
    "collapsed": false
   },
   "outputs": [],
   "source": [
    "import numpy as np\n",
    "import logging\n",
    "from scipy.io.matlab import loadmat\n",
    "from scipy.sparse import csr_matrix\n",
    "import matplotlib\n",
    "import matplotlib.pyplot as plt\n",
    "from sklearn.metrics import roc_auc_score\n",
    "\n",
    "import rescal\n",
    "from brescal import BayesianRescal\n",
    "\n",
    "%matplotlib inline\n",
    "\n",
    "#logger = logging.getLogger()\n",
    "#logger.setLevel(logging.DEBUG)"
   ]
  },
  {
   "cell_type": "code",
   "execution_count": 2,
   "metadata": {
    "collapsed": false
   },
   "outputs": [
    {
     "name": "stdout",
     "output_type": "stream",
     "text": [
      "(26, 104, 104)\n"
     ]
    }
   ],
   "source": [
    "dataset = 'kinship'\n",
    "mat = loadmat('../data/%s/alyawarradata.mat' % (dataset))\n",
    "T = np.array(mat['Rs'], np.float32)\n",
    "\n",
    "max_iter = 20\n",
    "\n",
    "n_dim = 10\n",
    "T = np.swapaxes(T, 1, 2)\n",
    "T = np.swapaxes(T, 0, 1)  # [relation, entity, entity]\n",
    "n_relation, n_entity, _ = T.shape\n",
    "print(T.shape)"
   ]
  },
  {
   "cell_type": "markdown",
   "metadata": {},
   "source": [
    "## 2. Splitting the kinship dataset into train/test sets"
   ]
  },
  {
   "cell_type": "markdown",
   "metadata": {},
   "source": [
    "`trainT` only contains a partial observation of the original tensor `T`"
   ]
  },
  {
   "cell_type": "code",
   "execution_count": 3,
   "metadata": {
    "collapsed": false
   },
   "outputs": [
    {
     "name": "stdout",
     "output_type": "stream",
     "text": [
      "training size 1036\n",
      "test size 9754\n"
     ]
    }
   ],
   "source": [
    "import itertools\n",
    "trainT = np.zeros_like(T)\n",
    "p = 0.1\n",
    "\n",
    "train_mask = np.random.binomial(1, p, T.shape)\n",
    "trainT[train_mask==1] = T[train_mask==1]\n",
    "test_mask = np.ones_like(T)\n",
    "test_mask[train_mask==1] = 0\n",
    "print('training size %d' % np.sum(trainT))\n",
    "print('test size %d' % np.sum(T[test_mask==1]))"
   ]
  },
  {
   "cell_type": "markdown",
   "metadata": {},
   "source": [
    "## 3. Training BayesianRESCAL"
   ]
  },
  {
   "cell_type": "markdown",
   "metadata": {},
   "source": [
    "### 3.1. Grid search on variance parameters"
   ]
  },
  {
   "cell_type": "markdown",
   "metadata": {},
   "source": [
    "Compare performances of different configuration of variances"
   ]
  },
  {
   "cell_type": "markdown",
   "metadata": {},
   "source": [
    "#### <font color='red'>RESULT(GRID SEARCH)</font>: BayesianRESCAL does not work well when variance of x is equal or larger than 1"
   ]
  },
  {
   "cell_type": "code",
   "execution_count": 4,
   "metadata": {
    "collapsed": false
   },
   "outputs": [
    {
     "name": "stdout",
     "output_type": "stream",
     "text": [
      "var_x:0.010, var_e:1.000, var_r:1.000, AUC-ROC:0.798\n",
      "var_x:0.001, var_e:1.000, var_r:1.000, AUC-ROC:0.872\n",
      "(0.001, 1, 1)\n"
     ]
    }
   ],
   "source": [
    "var_list = [0.01, 0.001]\n",
    "var_e = 1\n",
    "var_r = 1\n",
    "best_roc = 0\n",
    "for var_x in var_list:\n",
    "    model = BayesianRescal(n_dim, var_e=var_e, var_x=var_x, var_r=var_r)\n",
    "    model.fit(trainT, max_iter=max_iter)\n",
    "    _T = model._reconstruct()\n",
    "    score = roc_auc_score(T[test_mask==1], _T[test_mask==1])\n",
    "    print('var_x:{0:3.3f}, var_e:{1:3.3f}, var_r:{2:3.3f}, AUC-ROC:{3:.3f}'.format(var_x, var_e, var_r, score))\n",
    "    if score > best_roc:\n",
    "        best_vars = (var_x, var_e, var_r)\n",
    "        best_model = model\n",
    "        best_roc = score\n",
    "\n",
    "var_x, var_e, var_r = best_vars\n",
    "print(best_vars)"
   ]
  },
  {
   "cell_type": "markdown",
   "metadata": {},
   "source": [
    "### 3.2. Training RESCAL"
   ]
  },
  {
   "cell_type": "code",
   "execution_count": 5,
   "metadata": {
    "collapsed": false
   },
   "outputs": [],
   "source": [
    "X = list()\n",
    "for k in range(n_relation):\n",
    "    X.append(csr_matrix(trainT[k]))\n",
    "    \n",
    "A, R, f, itr, exectimes = rescal.rescal_als(X, n_dim)"
   ]
  },
  {
   "cell_type": "markdown",
   "metadata": {},
   "source": [
    "### 3.3. Compare both models by ROC-AUC"
   ]
  },
  {
   "cell_type": "markdown",
   "metadata": {},
   "source": [
    "#### <font color='red'>RESULT</font>: BayesianRESCAL is comparable with RESCAL"
   ]
  },
  {
   "cell_type": "markdown",
   "metadata": {},
   "source": [
    "#### ROC-AUC score of BRESCAL"
   ]
  },
  {
   "cell_type": "code",
   "execution_count": 6,
   "metadata": {
    "collapsed": false
   },
   "outputs": [
    {
     "name": "stdout",
     "output_type": "stream",
     "text": [
      "0.871707853872\n"
     ]
    }
   ],
   "source": [
    "_T = best_model._reconstruct()\n",
    "print(roc_auc_score(T[test_mask==1], _T[test_mask==1]))"
   ]
  },
  {
   "cell_type": "markdown",
   "metadata": {},
   "source": [
    "#### ROC-AUC score of RESCAL"
   ]
  },
  {
   "cell_type": "code",
   "execution_count": 7,
   "metadata": {
    "collapsed": false
   },
   "outputs": [
    {
     "name": "stdout",
     "output_type": "stream",
     "text": [
      "0.87840503508\n"
     ]
    }
   ],
   "source": [
    "_X = np.zeros_like(T)\n",
    "for k in range(T.shape[0]):\n",
    "    _X[k] = np.dot(np.dot(A, R[k]), A.T)\n",
    "print(roc_auc_score(T[test_mask==1], _X[test_mask==1]))"
   ]
  },
  {
   "cell_type": "markdown",
   "metadata": {},
   "source": [
    "## 4. Initialize Bayesian_RESCAL with RESCAL"
   ]
  },
  {
   "cell_type": "markdown",
   "metadata": {},
   "source": [
    "Let's see that Bayesian_RESCAL performs worse than RESCAL because it can't escape from local optimum."
   ]
  },
  {
   "cell_type": "code",
   "execution_count": 8,
   "metadata": {
    "collapsed": false
   },
   "outputs": [],
   "source": [
    "A, R, f, itr, exectimes = rescal.rescal_als(X, n_dim)\n",
    "model = BayesianRescal(n_dim, var_e=var_e, var_x=var_x, var_r=var_r)\n",
    "model.n_relations = n_relation\n",
    "model.n_entities = n_entity\n",
    "model.E = A\n",
    "model.R = np.zeros([n_relation, n_dim, n_dim])\n",
    "for k in range(n_relation):\n",
    "    model.R[k] = R[k]\n",
    "model._gibbs(trainT, max_iter=5)"
   ]
  },
  {
   "cell_type": "markdown",
   "metadata": {},
   "source": [
    "#### ROC-AUC score of BRESCAL initialized by RESCAL"
   ]
  },
  {
   "cell_type": "code",
   "execution_count": 9,
   "metadata": {
    "collapsed": false
   },
   "outputs": [
    {
     "name": "stdout",
     "output_type": "stream",
     "text": [
      "0.852329532385\n"
     ]
    }
   ],
   "source": [
    "_T = model._reconstruct()\n",
    "print(roc_auc_score(T[test_mask==1], _T[test_mask==1]))"
   ]
  },
  {
   "cell_type": "markdown",
   "metadata": {},
   "source": [
    "## 5. Place difference variances on observed / unobserved data points"
   ]
  },
  {
   "cell_type": "markdown",
   "metadata": {},
   "source": [
    "I adopt idea from implicit feedback approach from the following paper in which they place a different variance on observed/unobserved variables (variance of observed variable is smaller than those of unobserved):\n",
    "\n",
    "*Collaborative Filtering for Implicit Feedback Datasets, Yifan Hu, et al. ICDM2008*"
   ]
  },
  {
   "cell_type": "markdown",
   "metadata": {},
   "source": [
    "#### <font color='red'>RESULT</font>: BayesianRESCAL with controlled variance (CV_BRESCAL) performs slightly better than BRESCAL."
   ]
  },
  {
   "cell_type": "code",
   "execution_count": 10,
   "metadata": {
    "collapsed": false
   },
   "outputs": [
    {
     "name": "stdout",
     "output_type": "stream",
     "text": [
      "0.879965167208\n"
     ]
    }
   ],
   "source": [
    "observed_var = 0.001\n",
    "unobserved_var = 1.\n",
    "n_trial = 1\n",
    "for i in range(n_trial):\n",
    "    model = BayesianRescal(n_dim, var_e=var_e, var_x=var_x, var_r=var_r, controlled_var=True, \n",
    "                           obs_var=observed_var, unobs_var=unobserved_var)\n",
    "    model.fit(trainT, max_iter=max_iter)\n",
    "    _T = model._reconstruct()\n",
    "    print(roc_auc_score(T[test_mask==1], _T[test_mask==1]))"
   ]
  },
  {
   "cell_type": "code",
   "execution_count": 11,
   "metadata": {
    "collapsed": false
   },
   "outputs": [
    {
     "name": "stdout",
     "output_type": "stream",
     "text": [
      "0.932805011012\n"
     ]
    }
   ],
   "source": [
    "observed_var = 0.01\n",
    "unobserved_var = 1.\n",
    "for i in range(n_trial):\n",
    "    model = BayesianRescal(n_dim, var_e=var_e, var_x=var_x, var_r=var_r, controlled_var=True, \n",
    "                           obs_var=observed_var, unobs_var=unobserved_var)\n",
    "    model.fit(trainT, max_iter=max_iter)\n",
    "    _T = model._reconstruct()\n",
    "    print(roc_auc_score(T[test_mask==1], _T[test_mask==1]))"
   ]
  },
  {
   "cell_type": "code",
   "execution_count": 12,
   "metadata": {
    "collapsed": false
   },
   "outputs": [
    {
     "name": "stdout",
     "output_type": "stream",
     "text": [
      "0.755790573864\n"
     ]
    }
   ],
   "source": [
    "observed_var = 0.001\n",
    "unobserved_var = 10.\n",
    "for i in range(n_trial):\n",
    "    model = BayesianRescal(n_dim, var_e=var_e, var_x=var_x, var_r=var_r, controlled_var=True, \n",
    "                           obs_var=observed_var, unobs_var=unobserved_var)\n",
    "    model.fit(trainT, max_iter=max_iter)\n",
    "    _T = model._reconstruct()\n",
    "    print(roc_auc_score(T[test_mask==1], _T[test_mask==1]))"
   ]
  },
  {
   "cell_type": "code",
   "execution_count": 13,
   "metadata": {
    "collapsed": false
   },
   "outputs": [
    {
     "name": "stdout",
     "output_type": "stream",
     "text": [
      "0.549421288247\n"
     ]
    }
   ],
   "source": [
    "observed_var = 0.001\n",
    "unobserved_var = 100.\n",
    "for i in range(n_trial):\n",
    "    model = BayesianRescal(n_dim, var_e=var_e, var_x=var_x, var_r=var_r, controlled_var=True, \n",
    "                           obs_var=observed_var, unobs_var=unobserved_var)\n",
    "    model.fit(trainT, max_iter=max_iter)\n",
    "    _T = model._reconstruct()\n",
    "    print(roc_auc_score(T[test_mask==1], _T[test_mask==1]))"
   ]
  },
  {
   "cell_type": "markdown",
   "metadata": {},
   "source": [
    "## A. Parameter optimization for RESCAL"
   ]
  },
  {
   "cell_type": "markdown",
   "metadata": {},
   "source": [
    "RESCAL also has some parameters to be tuned."
   ]
  },
  {
   "cell_type": "markdown",
   "metadata": {},
   "source": [
    "#### <font color='red'>RESULT</font>: RESCAL is highly robust w.r.t the parameters..."
   ]
  },
  {
   "cell_type": "code",
   "execution_count": 38,
   "metadata": {
    "collapsed": false
   },
   "outputs": [
    {
     "name": "stdout",
     "output_type": "stream",
     "text": [
      "var_x:0.001, var_e:0.001, var_r:0.001, AUC-ROC:0.944\n",
      "var_x:0.001, var_e:0.001, var_r:0.010, AUC-ROC:0.944\n",
      "var_x:0.001, var_e:0.001, var_r:0.100, AUC-ROC:0.944\n",
      "var_x:0.001, var_e:0.001, var_r:1.000, AUC-ROC:0.944\n",
      "var_x:0.001, var_e:0.001, var_r:10.000, AUC-ROC:0.944\n",
      "var_x:0.001, var_e:0.001, var_r:100.000, AUC-ROC:0.944\n",
      "var_x:0.001, var_e:0.010, var_r:0.001, AUC-ROC:0.944\n",
      "var_x:0.001, var_e:0.010, var_r:0.010, AUC-ROC:0.944\n",
      "var_x:0.001, var_e:0.010, var_r:0.100, AUC-ROC:0.944\n",
      "var_x:0.001, var_e:0.010, var_r:1.000, AUC-ROC:0.944\n",
      "var_x:0.001, var_e:0.010, var_r:10.000, AUC-ROC:0.944\n",
      "var_x:0.001, var_e:0.010, var_r:100.000, AUC-ROC:0.944\n",
      "var_x:0.001, var_e:0.100, var_r:0.001, AUC-ROC:0.944\n",
      "var_x:0.001, var_e:0.100, var_r:0.010, AUC-ROC:0.944\n",
      "var_x:0.001, var_e:0.100, var_r:0.100, AUC-ROC:0.944\n",
      "var_x:0.001, var_e:0.100, var_r:1.000, AUC-ROC:0.944\n",
      "var_x:0.001, var_e:0.100, var_r:10.000, AUC-ROC:0.944\n",
      "var_x:0.001, var_e:0.100, var_r:100.000, AUC-ROC:0.944\n",
      "var_x:0.001, var_e:1.000, var_r:0.001, AUC-ROC:0.944\n",
      "var_x:0.001, var_e:1.000, var_r:0.010, AUC-ROC:0.944\n",
      "var_x:0.001, var_e:1.000, var_r:0.100, AUC-ROC:0.944\n",
      "var_x:0.001, var_e:1.000, var_r:1.000, AUC-ROC:0.944\n",
      "var_x:0.001, var_e:1.000, var_r:10.000, AUC-ROC:0.944\n",
      "var_x:0.001, var_e:1.000, var_r:100.000, AUC-ROC:0.944\n",
      "var_x:0.001, var_e:10.000, var_r:0.001, AUC-ROC:0.944\n",
      "var_x:0.001, var_e:10.000, var_r:0.010, AUC-ROC:0.944\n",
      "var_x:0.001, var_e:10.000, var_r:0.100, AUC-ROC:0.944\n",
      "var_x:0.001, var_e:10.000, var_r:1.000, AUC-ROC:0.944\n",
      "var_x:0.001, var_e:10.000, var_r:10.000, AUC-ROC:0.944\n",
      "var_x:0.001, var_e:10.000, var_r:100.000, AUC-ROC:0.944\n",
      "var_x:0.001, var_e:100.000, var_r:0.001, AUC-ROC:0.944\n",
      "var_x:0.001, var_e:100.000, var_r:0.010, AUC-ROC:0.944\n",
      "var_x:0.001, var_e:100.000, var_r:0.100, AUC-ROC:0.944\n",
      "var_x:0.001, var_e:100.000, var_r:1.000, AUC-ROC:0.944\n",
      "var_x:0.001, var_e:100.000, var_r:10.000, AUC-ROC:0.944\n",
      "var_x:0.001, var_e:100.000, var_r:100.000, AUC-ROC:0.944\n",
      "var_x:0.010, var_e:0.001, var_r:0.001, AUC-ROC:0.944\n",
      "var_x:0.010, var_e:0.001, var_r:0.010, AUC-ROC:0.944\n",
      "var_x:0.010, var_e:0.001, var_r:0.100, AUC-ROC:0.944\n",
      "var_x:0.010, var_e:0.001, var_r:1.000, AUC-ROC:0.944\n",
      "var_x:0.010, var_e:0.001, var_r:10.000, AUC-ROC:0.944\n",
      "var_x:0.010, var_e:0.001, var_r:100.000, AUC-ROC:0.944\n",
      "var_x:0.010, var_e:0.010, var_r:0.001, AUC-ROC:0.944\n",
      "var_x:0.010, var_e:0.010, var_r:0.010, AUC-ROC:0.944\n",
      "var_x:0.010, var_e:0.010, var_r:0.100, AUC-ROC:0.944\n",
      "var_x:0.010, var_e:0.010, var_r:1.000, AUC-ROC:0.944\n",
      "var_x:0.010, var_e:0.010, var_r:10.000, AUC-ROC:0.944\n",
      "var_x:0.010, var_e:0.010, var_r:100.000, AUC-ROC:0.944\n",
      "var_x:0.010, var_e:0.100, var_r:0.001, AUC-ROC:0.944\n",
      "var_x:0.010, var_e:0.100, var_r:0.010, AUC-ROC:0.944\n",
      "var_x:0.010, var_e:0.100, var_r:0.100, AUC-ROC:0.944\n",
      "var_x:0.010, var_e:0.100, var_r:1.000, AUC-ROC:0.944\n",
      "var_x:0.010, var_e:0.100, var_r:10.000, AUC-ROC:0.944\n",
      "var_x:0.010, var_e:0.100, var_r:100.000, AUC-ROC:0.944\n",
      "var_x:0.010, var_e:1.000, var_r:0.001, AUC-ROC:0.944\n",
      "var_x:0.010, var_e:1.000, var_r:0.010, AUC-ROC:0.944\n",
      "var_x:0.010, var_e:1.000, var_r:0.100, AUC-ROC:0.944\n",
      "var_x:0.010, var_e:1.000, var_r:1.000, AUC-ROC:0.944\n",
      "var_x:0.010, var_e:1.000, var_r:10.000, AUC-ROC:0.944\n",
      "var_x:0.010, var_e:1.000, var_r:100.000, AUC-ROC:0.944\n",
      "var_x:0.010, var_e:10.000, var_r:0.001, AUC-ROC:0.944\n",
      "var_x:0.010, var_e:10.000, var_r:0.010, AUC-ROC:0.944\n",
      "var_x:0.010, var_e:10.000, var_r:0.100, AUC-ROC:0.944\n",
      "var_x:0.010, var_e:10.000, var_r:1.000, AUC-ROC:0.944\n",
      "var_x:0.010, var_e:10.000, var_r:10.000, AUC-ROC:0.944\n",
      "var_x:0.010, var_e:10.000, var_r:100.000, AUC-ROC:0.944\n",
      "var_x:0.010, var_e:100.000, var_r:0.001, AUC-ROC:0.944\n",
      "var_x:0.010, var_e:100.000, var_r:0.010, AUC-ROC:0.944\n",
      "var_x:0.010, var_e:100.000, var_r:0.100, AUC-ROC:0.944\n",
      "var_x:0.010, var_e:100.000, var_r:1.000, AUC-ROC:0.944\n",
      "var_x:0.010, var_e:100.000, var_r:10.000, AUC-ROC:0.944\n",
      "var_x:0.010, var_e:100.000, var_r:100.000, AUC-ROC:0.944\n",
      "var_x:0.100, var_e:0.001, var_r:0.001, AUC-ROC:0.944\n",
      "var_x:0.100, var_e:0.001, var_r:0.010, AUC-ROC:0.944\n",
      "var_x:0.100, var_e:0.001, var_r:0.100, AUC-ROC:0.944\n",
      "var_x:0.100, var_e:0.001, var_r:1.000, AUC-ROC:0.944\n",
      "var_x:0.100, var_e:0.001, var_r:10.000, AUC-ROC:0.944\n",
      "var_x:0.100, var_e:0.001, var_r:100.000, AUC-ROC:0.944\n",
      "var_x:0.100, var_e:0.010, var_r:0.001, AUC-ROC:0.944\n",
      "var_x:0.100, var_e:0.010, var_r:0.010, AUC-ROC:0.944\n",
      "var_x:0.100, var_e:0.010, var_r:0.100, AUC-ROC:0.944\n",
      "var_x:0.100, var_e:0.010, var_r:1.000, AUC-ROC:0.944\n",
      "var_x:0.100, var_e:0.010, var_r:10.000, AUC-ROC:0.944\n",
      "var_x:0.100, var_e:0.010, var_r:100.000, AUC-ROC:0.944\n",
      "var_x:0.100, var_e:0.100, var_r:0.001, AUC-ROC:0.944\n",
      "var_x:0.100, var_e:0.100, var_r:0.010, AUC-ROC:0.944\n",
      "var_x:0.100, var_e:0.100, var_r:0.100, AUC-ROC:0.944\n",
      "var_x:0.100, var_e:0.100, var_r:1.000, AUC-ROC:0.944\n",
      "var_x:0.100, var_e:0.100, var_r:10.000, AUC-ROC:0.944\n",
      "var_x:0.100, var_e:0.100, var_r:100.000, AUC-ROC:0.944\n",
      "var_x:0.100, var_e:1.000, var_r:0.001, AUC-ROC:0.944\n",
      "var_x:0.100, var_e:1.000, var_r:0.010, AUC-ROC:0.944\n",
      "var_x:0.100, var_e:1.000, var_r:0.100, AUC-ROC:0.944\n",
      "var_x:0.100, var_e:1.000, var_r:1.000, AUC-ROC:0.944\n",
      "var_x:0.100, var_e:1.000, var_r:10.000, AUC-ROC:0.944\n",
      "var_x:0.100, var_e:1.000, var_r:100.000, AUC-ROC:0.944\n",
      "var_x:0.100, var_e:10.000, var_r:0.001, AUC-ROC:0.944\n",
      "var_x:0.100, var_e:10.000, var_r:0.010, AUC-ROC:0.944\n",
      "var_x:0.100, var_e:10.000, var_r:0.100, AUC-ROC:0.944\n",
      "var_x:0.100, var_e:10.000, var_r:1.000, AUC-ROC:0.944\n",
      "var_x:0.100, var_e:10.000, var_r:10.000, AUC-ROC:0.944\n",
      "var_x:0.100, var_e:10.000, var_r:100.000, AUC-ROC:0.944\n",
      "var_x:0.100, var_e:100.000, var_r:0.001, AUC-ROC:0.931\n",
      "var_x:0.100, var_e:100.000, var_r:0.010, AUC-ROC:0.931\n",
      "var_x:0.100, var_e:100.000, var_r:0.100, AUC-ROC:0.931\n",
      "var_x:0.100, var_e:100.000, var_r:1.000, AUC-ROC:0.931\n",
      "var_x:0.100, var_e:100.000, var_r:10.000, AUC-ROC:0.931\n",
      "var_x:0.100, var_e:100.000, var_r:100.000, AUC-ROC:0.931\n",
      "var_x:1.000, var_e:0.001, var_r:0.001, AUC-ROC:0.944\n",
      "var_x:1.000, var_e:0.001, var_r:0.010, AUC-ROC:0.944\n",
      "var_x:1.000, var_e:0.001, var_r:0.100, AUC-ROC:0.944\n",
      "var_x:1.000, var_e:0.001, var_r:1.000, AUC-ROC:0.944\n",
      "var_x:1.000, var_e:0.001, var_r:10.000, AUC-ROC:0.944\n",
      "var_x:1.000, var_e:0.001, var_r:100.000, AUC-ROC:0.944\n",
      "var_x:1.000, var_e:0.010, var_r:0.001, AUC-ROC:0.944\n",
      "var_x:1.000, var_e:0.010, var_r:0.010, AUC-ROC:0.944\n",
      "var_x:1.000, var_e:0.010, var_r:0.100, AUC-ROC:0.944\n",
      "var_x:1.000, var_e:0.010, var_r:1.000, AUC-ROC:0.944\n",
      "var_x:1.000, var_e:0.010, var_r:10.000, AUC-ROC:0.944\n",
      "var_x:1.000, var_e:0.010, var_r:100.000, AUC-ROC:0.944\n",
      "var_x:1.000, var_e:0.100, var_r:0.001, AUC-ROC:0.944\n",
      "var_x:1.000, var_e:0.100, var_r:0.010, AUC-ROC:0.944\n",
      "var_x:1.000, var_e:0.100, var_r:0.100, AUC-ROC:0.944\n",
      "var_x:1.000, var_e:0.100, var_r:1.000, AUC-ROC:0.944\n",
      "var_x:1.000, var_e:0.100, var_r:10.000, AUC-ROC:0.944\n",
      "var_x:1.000, var_e:0.100, var_r:100.000, AUC-ROC:0.944\n",
      "var_x:1.000, var_e:1.000, var_r:0.001, AUC-ROC:0.944\n",
      "var_x:1.000, var_e:1.000, var_r:0.010, AUC-ROC:0.944\n",
      "var_x:1.000, var_e:1.000, var_r:0.100, AUC-ROC:0.944\n",
      "var_x:1.000, var_e:1.000, var_r:1.000, AUC-ROC:0.944\n",
      "var_x:1.000, var_e:1.000, var_r:10.000, AUC-ROC:0.944\n",
      "var_x:1.000, var_e:1.000, var_r:100.000, AUC-ROC:0.944\n",
      "var_x:1.000, var_e:10.000, var_r:0.001, AUC-ROC:0.929\n",
      "var_x:1.000, var_e:10.000, var_r:0.010, AUC-ROC:0.929\n",
      "var_x:1.000, var_e:10.000, var_r:0.100, AUC-ROC:0.929\n",
      "var_x:1.000, var_e:10.000, var_r:1.000, AUC-ROC:0.929\n",
      "var_x:1.000, var_e:10.000, var_r:10.000, AUC-ROC:0.929\n",
      "var_x:1.000, var_e:10.000, var_r:100.000, AUC-ROC:0.929\n",
      "var_x:1.000, var_e:100.000, var_r:0.001, AUC-ROC:0.931\n",
      "var_x:1.000, var_e:100.000, var_r:0.010, AUC-ROC:0.931\n",
      "var_x:1.000, var_e:100.000, var_r:0.100, AUC-ROC:0.931\n",
      "var_x:1.000, var_e:100.000, var_r:1.000, AUC-ROC:0.931\n",
      "var_x:1.000, var_e:100.000, var_r:10.000, AUC-ROC:0.931\n",
      "var_x:1.000, var_e:100.000, var_r:100.000, AUC-ROC:0.931\n",
      "var_x:10.000, var_e:0.001, var_r:0.001, AUC-ROC:0.944\n",
      "var_x:10.000, var_e:0.001, var_r:0.010, AUC-ROC:0.944\n",
      "var_x:10.000, var_e:0.001, var_r:0.100, AUC-ROC:0.944\n",
      "var_x:10.000, var_e:0.001, var_r:1.000, AUC-ROC:0.944\n",
      "var_x:10.000, var_e:0.001, var_r:10.000, AUC-ROC:0.944\n",
      "var_x:10.000, var_e:0.001, var_r:100.000, AUC-ROC:0.944\n",
      "var_x:10.000, var_e:0.010, var_r:0.001, AUC-ROC:0.944\n",
      "var_x:10.000, var_e:0.010, var_r:0.010, AUC-ROC:0.944\n",
      "var_x:10.000, var_e:0.010, var_r:0.100, AUC-ROC:0.944\n",
      "var_x:10.000, var_e:0.010, var_r:1.000, AUC-ROC:0.944\n",
      "var_x:10.000, var_e:0.010, var_r:10.000, AUC-ROC:0.944\n",
      "var_x:10.000, var_e:0.010, var_r:100.000, AUC-ROC:0.944\n",
      "var_x:10.000, var_e:0.100, var_r:0.001, AUC-ROC:0.944\n",
      "var_x:10.000, var_e:0.100, var_r:0.010, AUC-ROC:0.944\n",
      "var_x:10.000, var_e:0.100, var_r:0.100, AUC-ROC:0.944\n",
      "var_x:10.000, var_e:0.100, var_r:1.000, AUC-ROC:0.944\n",
      "var_x:10.000, var_e:0.100, var_r:10.000, AUC-ROC:0.944\n",
      "var_x:10.000, var_e:0.100, var_r:100.000, AUC-ROC:0.944\n",
      "var_x:10.000, var_e:1.000, var_r:0.001, AUC-ROC:0.930\n",
      "var_x:10.000, var_e:1.000, var_r:0.010, AUC-ROC:0.930\n",
      "var_x:10.000, var_e:1.000, var_r:0.100, AUC-ROC:0.930\n",
      "var_x:10.000, var_e:1.000, var_r:1.000, AUC-ROC:0.930\n",
      "var_x:10.000, var_e:1.000, var_r:10.000, AUC-ROC:0.930\n",
      "var_x:10.000, var_e:1.000, var_r:100.000, AUC-ROC:0.930\n",
      "var_x:10.000, var_e:10.000, var_r:0.001, AUC-ROC:0.931\n",
      "var_x:10.000, var_e:10.000, var_r:0.010, AUC-ROC:0.931\n",
      "var_x:10.000, var_e:10.000, var_r:0.100, AUC-ROC:0.931\n",
      "var_x:10.000, var_e:10.000, var_r:1.000, AUC-ROC:0.931\n",
      "var_x:10.000, var_e:10.000, var_r:10.000, AUC-ROC:0.931\n",
      "var_x:10.000, var_e:10.000, var_r:100.000, AUC-ROC:0.931\n",
      "var_x:10.000, var_e:100.000, var_r:0.001, AUC-ROC:0.500\n",
      "var_x:10.000, var_e:100.000, var_r:0.010, AUC-ROC:0.500\n",
      "var_x:10.000, var_e:100.000, var_r:0.100, AUC-ROC:0.500\n",
      "var_x:10.000, var_e:100.000, var_r:1.000, AUC-ROC:0.500\n",
      "var_x:10.000, var_e:100.000, var_r:10.000, AUC-ROC:0.500\n",
      "var_x:10.000, var_e:100.000, var_r:100.000, AUC-ROC:0.500\n",
      "var_x:100.000, var_e:0.001, var_r:0.001, AUC-ROC:0.944\n",
      "var_x:100.000, var_e:0.001, var_r:0.010, AUC-ROC:0.944\n",
      "var_x:100.000, var_e:0.001, var_r:0.100, AUC-ROC:0.944\n",
      "var_x:100.000, var_e:0.001, var_r:1.000, AUC-ROC:0.944\n",
      "var_x:100.000, var_e:0.001, var_r:10.000, AUC-ROC:0.944\n",
      "var_x:100.000, var_e:0.001, var_r:100.000, AUC-ROC:0.944\n",
      "var_x:100.000, var_e:0.010, var_r:0.001, AUC-ROC:0.931\n",
      "var_x:100.000, var_e:0.010, var_r:0.010, AUC-ROC:0.931\n",
      "var_x:100.000, var_e:0.010, var_r:0.100, AUC-ROC:0.931\n",
      "var_x:100.000, var_e:0.010, var_r:1.000, AUC-ROC:0.931\n",
      "var_x:100.000, var_e:0.010, var_r:10.000, AUC-ROC:0.931\n",
      "var_x:100.000, var_e:0.010, var_r:100.000, AUC-ROC:0.931\n",
      "var_x:100.000, var_e:0.100, var_r:0.001, AUC-ROC:0.931\n",
      "var_x:100.000, var_e:0.100, var_r:0.010, AUC-ROC:0.931\n",
      "var_x:100.000, var_e:0.100, var_r:0.100, AUC-ROC:0.931\n",
      "var_x:100.000, var_e:0.100, var_r:1.000, AUC-ROC:0.931\n",
      "var_x:100.000, var_e:0.100, var_r:10.000, AUC-ROC:0.931\n",
      "var_x:100.000, var_e:0.100, var_r:100.000, AUC-ROC:0.931\n",
      "var_x:100.000, var_e:1.000, var_r:0.001, AUC-ROC:0.707\n",
      "var_x:100.000, var_e:1.000, var_r:0.010, AUC-ROC:0.707\n",
      "var_x:100.000, var_e:1.000, var_r:0.100, AUC-ROC:0.707\n",
      "var_x:100.000, var_e:1.000, var_r:1.000, AUC-ROC:0.707\n",
      "var_x:100.000, var_e:1.000, var_r:10.000, AUC-ROC:0.707\n",
      "var_x:100.000, var_e:1.000, var_r:100.000, AUC-ROC:0.707\n",
      "var_x:100.000, var_e:10.000, var_r:0.001, AUC-ROC:0.500\n",
      "var_x:100.000, var_e:10.000, var_r:0.010, AUC-ROC:0.500\n",
      "var_x:100.000, var_e:10.000, var_r:0.100, AUC-ROC:0.500\n",
      "var_x:100.000, var_e:10.000, var_r:1.000, AUC-ROC:0.500\n",
      "var_x:100.000, var_e:10.000, var_r:10.000, AUC-ROC:0.500\n",
      "var_x:100.000, var_e:10.000, var_r:100.000, AUC-ROC:0.500\n",
      "var_x:100.000, var_e:100.000, var_r:0.001, AUC-ROC:0.500\n",
      "var_x:100.000, var_e:100.000, var_r:0.010, AUC-ROC:0.500\n",
      "var_x:100.000, var_e:100.000, var_r:0.100, AUC-ROC:0.500\n",
      "var_x:100.000, var_e:100.000, var_r:1.000, AUC-ROC:0.500\n",
      "var_x:100.000, var_e:100.000, var_r:10.000, AUC-ROC:0.500\n",
      "var_x:100.000, var_e:100.000, var_r:100.000, AUC-ROC:0.500\n",
      "(10.0, 0.1, 0.001) 0.943742194506\n"
     ]
    }
   ],
   "source": [
    "var_list = [0.001, 0.01, 0.1, 1., 10., 100.]\n",
    "best_roc = 0\n",
    "for (var_x, var_e, var_r) in itertools.product(var_list,repeat=3):\n",
    "    A, R, f, itr, exectimes = rescal.rescal_als(X, n_dim, lambda_A=var_x, lambda_R=var_e, lambda_V=var_r)\n",
    "    _X = np.zeros_like(T)\n",
    "    for k in range(T.shape[0]):\n",
    "        _X[k] = np.dot(np.dot(A, R[k]), A.T)\n",
    "    score = roc_auc_score(T.flatten(), _X.flatten())\n",
    "    print('var_x:{0:3.3f}, var_e:{1:3.3f}, var_r:{2:3.3f}, AUC-ROC:{3:.3f}'.format(var_x, var_e, var_r, score))\n",
    "    if score > best_roc:\n",
    "        best_vars = (var_x, var_e, var_r)\n",
    "        best_model = model\n",
    "        best_roc = score\n",
    "        \n",
    "lambda_a, lambda_r, lambda_v = best_vars\n",
    "print(best_vars, best_roc)"
   ]
  },
  {
   "cell_type": "markdown",
   "metadata": {
    "collapsed": true
   },
   "source": [
    "## For paper"
   ]
  },
  {
   "cell_type": "code",
   "execution_count": null,
   "metadata": {
    "collapsed": false
   },
   "outputs": [],
   "source": [
    "import numpy as np\n",
    "import os\n",
    "import itertools\n",
    "from scipy.sparse import csr_matrix\n",
    "import logging\n",
    "import pickle\n",
    "import matplotlib\n",
    "import matplotlib.pyplot as plt\n",
    "from sklearn.metrics import roc_auc_score\n",
    "import time\n",
    "\n",
    "import rescal\n",
    "from brescal import BayesianRescal\n",
    "from runner import load_dataset\n",
    "from seq_brescal import PFBayesianRescal\n",
    "from seq_logit_brescal import PFBayesianLogitRescal\n",
    "\n",
    "%matplotlib inline\n",
    "\n",
    "logger = logging.getLogger()\n",
    "for handler in logger.handlers:\n",
    "    logger.removeHandler(handler)\n",
    "\n",
    "\n",
    "datasets = ['kinship', 'umls', 'nation']\n",
    "\n",
    "result = dict()\n",
    "train_test_validation = dict()\n",
    "n_trial = 10\n",
    "max_iter = 20\n",
    "n_dim = 10\n",
    "\n",
    "models = ['rescal', 'brescal', 'blogit']\n",
    "for dataset in datasets:\n",
    "    train_test_validation[(dataset)] = list()\n",
    "    \n",
    "for model, dataset in itertools.product(models, datasets):\n",
    "    result[(dataset, model)] = list()\n",
    "\n",
    "if not os.path.exists('../result/rescal_vs_brescal.pkl'):\n",
    "    for nt in range(n_trial):\n",
    "        tic = time.time()\n",
    "\n",
    "        for dataset in datasets:\n",
    "            T = load_dataset(dataset)\n",
    "            n_relation, n_entity, _ = T.shape\n",
    "\n",
    "            samples = [(i, j, k) for i, j, k in itertools.product(range(n_relation), range(n_entity), range(n_entity))]\n",
    "            total = np.prod(T.shape)\n",
    "            np.random.shuffle(samples)\n",
    "            train_p = 0.1\n",
    "            validation_p = 0.3\n",
    "            test_p = 1. - validation_p - train_p\n",
    "            train_test_validation[dataset].append(samples)\n",
    "\n",
    "            train_mask = np.zeros_like(T)\n",
    "            validation_mask = np.zeros_like(T)\n",
    "            test_mask = np.zeros_like(T)\n",
    "            for idx in range(int(total * train_p)):\n",
    "                i, j, k = samples[idx]\n",
    "                train_mask[i, j, k] = 1\n",
    "            for idx in range(int(total * validation_p)):\n",
    "                i, j, k = samples[int(total * train_p) + idx]\n",
    "                validation_mask[i, j, k] = 1\n",
    "            for idx in range(int(total * test_p)):\n",
    "                i, j, k = samples[int(total * train_p) + int(total * validation_p) + idx]\n",
    "                test_mask[i, j, k] = 1\n",
    "\n",
    "            trainT = np.zeros_like(T)\n",
    "            trainT[train_mask == 1] = T[train_mask == 1]\n",
    "\n",
    "\n",
    "            lambda_As = [0.01, 0.1, 1.]\n",
    "            lambda_Rs = [0.01, 0.1, 1.]\n",
    "            best_roc = 0\n",
    "            for lambda_A, lambda_R in itertools.product(lambda_As, lambda_Rs):\n",
    "                X = list()\n",
    "                for k in range(n_relation):\n",
    "                    X.append(csr_matrix(trainT[k]))\n",
    "                A, R, f, itr, exectimes = rescal.rescal_als(X, n_dim, lambda_A=lambda_A, lambda_R=lambda_R)\n",
    "                _X = np.zeros_like(T)\n",
    "                for k in range(T.shape[0]):\n",
    "                    _X[k] = np.dot(np.dot(A, R[k]), A.T)\n",
    "                score = roc_auc_score(T[validation_mask == 1], _X[validation_mask == 1])\n",
    "                if score > best_roc:\n",
    "                    best_vars = (lambda_A, lambda_R)\n",
    "                    best_A, best_R = A, R\n",
    "                    best_roc = score\n",
    "\n",
    "            _X = np.zeros_like(T)\n",
    "            for k in range(T.shape[0]):\n",
    "                _X[k] = np.dot(np.dot(best_A, best_R[k]), best_A.T)\n",
    "            score = roc_auc_score(T[test_mask == 1], _X[test_mask == 1])\n",
    "            print('RESCAL', dataset, best_vars, score)\n",
    "            result[(dataset, models[0])].append(score)\n",
    "            \n",
    "            \n",
    "            var_list = [0.001, 0.01, 0.1]\n",
    "            var_e = 1\n",
    "            var_r = 1\n",
    "            best_roc = 0\n",
    "            for var_x in var_list:\n",
    "                _model = PFBayesianRescal(n_dim, var_x=var_x, n_particles=1, compute_score=False,\n",
    "                                          parallel=False, sample_all=True)\n",
    "                seq = _model.fit(T, obs_mask=train_mask.copy(), max_iter=0)\n",
    "                _T = _model._reconstruct(_model.E[0], _model.R[0])\n",
    "                score = roc_auc_score(T[validation_mask == 1], _T[validation_mask == 1])\n",
    "                if score > best_roc:\n",
    "                    best_vars = (var_x, var_e, var_r)\n",
    "                    best_model = _model\n",
    "                    best_roc = score\n",
    "\n",
    "            _T = best_model._reconstruct(best_model.E[0], best_model.R[0])\n",
    "            score = roc_auc_score(T[test_mask == 1], _T[test_mask == 1])\n",
    "            print('BRESCAL', dataset, best_vars, score)\n",
    "            result[(dataset, models[1])].append(score)\n",
    "\n",
    "\n",
    "    #         observed_vars = [0.01, 0.001]\n",
    "    #         unobserved_vars = [1., 10.]\n",
    "    #         best_roc = 0\n",
    "    #         for observed_var, unobserved_var in itertools.product(observed_vars, unobserved_vars):\n",
    "    #             model = BayesianRescal(n_dim, var_e=var_e, var_r=var_r, controlled_var=True,\n",
    "    #                                    obs_var=observed_var, unobs_var=unobserved_var)\n",
    "    #             model.fit(trainT, max_iter=max_iter)\n",
    "    #             _T = model._reconstruct()\n",
    "    #             score = roc_auc_score(T[validation_mask == 1], _T[validation_mask == 1])\n",
    "    #             if score > best_roc:\n",
    "    #                 best_vars = (observed_var, unobserved_var)\n",
    "    #                 best_model = model\n",
    "    #                 best_roc = score\n",
    "\n",
    "    #         _T = best_model._reconstruct()\n",
    "    #         score = roc_auc_score(T[test_mask == 1], _T[test_mask == 1])\n",
    "    #         print('BRESCAL_CTRL', dataset, score)\n",
    "    #         result[(dataset,'brescal_ctrl')].append(score)\n",
    "\n",
    "\n",
    "            _model = PFBayesianLogitRescal(n_dim, n_particles=1, compute_score=False)\n",
    "            seq = _model.fit(T, obs_mask=train_mask.copy(), max_iter=0)\n",
    "            particle = _model.p_weights.argmax()\n",
    "            _T = _model._reconstruct(_model.E[0], _model.R[0])\n",
    "            score = roc_auc_score(T[test_mask == 1], _T[test_mask == 1])\n",
    "            print('BRESCAL_LOGIT', dataset, score)\n",
    "            result[(dataset, models[2])].append(score)\n",
    "\n",
    "        print(time.time() - tic)\n",
    "\n",
    "    pickle.dump([result, train_test_validation], open('../result/rescal_vs_brescal.pkl', 'wb'))"
   ]
  },
  {
   "cell_type": "code",
   "execution_count": 80,
   "metadata": {
    "collapsed": false
   },
   "outputs": [
    {
     "data": {
      "image/png": "[encoded data removed]",
      "text/plain": [
       "<matplotlib.figure.Figure at 0x10c56a8d0>"
      ]
     },
     "metadata": {},
     "output_type": "display_data"
    }
   ],
   "source": [
    "result, samples = pickle.load(open('../result/rescal_vs_brescal.pkl', 'rb'))\n",
    "\n",
    "plt.figure(figsize=(8, 2.4))\n",
    "width = 1\n",
    "title_size = 14\n",
    "label_size = 12\n",
    "\n",
    "tableau20 = [(31, 119, 180), (174, 199, 232), (255, 127, 14), (255, 187, 120),    \n",
    "             (44, 160, 44), (152, 223, 138), (214, 39, 40), (255, 152, 150),    \n",
    "             (148, 103, 189), (197, 176, 213), (140, 86, 75), (196, 156, 148),    \n",
    "             (227, 119, 194), (247, 182, 210), (127, 127, 127), (199, 199, 199),    \n",
    "             (188, 189, 34), (219, 219, 141), (23, 190, 207), (158, 218, 229)]    \n",
    "  \n",
    "# Scale the RGB values to the [0, 1] range, which is the format matplotlib accepts.    \n",
    "for i in range(len(tableau20)):    \n",
    "    r, g, b = tableau20[i]    \n",
    "    tableau20[i] = (r / 255., g / 255., b / 255.)    \n",
    "\n",
    "for plt_no, dataset in enumerate(datasets):\n",
    "    plt.subplot(1, len(datasets), plt_no+1)\n",
    "\n",
    "    for model in models:\n",
    "        mean = np.mean(result[(dataset,model)])\n",
    "        std = np.std(result[(dataset,model)])\n",
    "        label = model.upper()\n",
    "        if model == 'brescal_logit':\n",
    "            label = 'BLOGIT'\n",
    "        plt.bar(models.index(model)+0.15, mean, width-0.3, color=tableau20[models.index(model)], yerr=std, label=label)\n",
    "    plt.xticks(np.arange(len(models))+0.50, ['%s'% (model.upper()) for model in models], rotation=45)\n",
    "\n",
    "    if plt_no == 0:\n",
    "#        plt.legend(loc='lower left')        \n",
    "#        plt.setp(plt.gca().get_legend().get_texts(), fontsize='10')\n",
    "        plt.ylabel('ROC-AUC score', size=label_size)\n",
    "\n",
    "\n",
    "#     plt.tick_params(\n",
    "#         axis='x',          # changes apply to the x-axis\n",
    "#         which='both',      # both major and minor ticks are affected\n",
    "#         bottom='off',      # ticks along the bottom edge are off\n",
    "#         top='off',         # ticks along the top edge are off\n",
    "#         labelbottom='off') # labels along the bottom edge are off\n",
    "\n",
    "    plt.title('%s' % dataset.upper(), size=title_size)\n",
    "    plt.ylim((0.4,1))\n",
    "\n",
    "# plt.savefig('../paper/images/rescal_vs_brescal.pdf', format='PDF', bbox_inches='tight', pad_inches=0.1)\n",
    "plt.show()"
   ]
  },
  {
   "cell_type": "code",
   "execution_count": null,
   "metadata": {
    "collapsed": true
   },
   "outputs": [],
   "source": []
  }
 ],
 "metadata": {
  "kernelspec": {
   "display_name": "Python 3",
   "language": "python",
   "name": "python3"
  },
  "language_info": {
   "codemirror_mode": {
    "name": "ipython",
    "version": 3
   },
   "file_extension": ".py",
   "mimetype": "text/x-python",
   "name": "python",
   "nbconvert_exporter": "python",
   "pygments_lexer": "ipython3",
   "version": "3.4.3"
  }
 },
 "nbformat": 4,
 "nbformat_minor": 0
}
