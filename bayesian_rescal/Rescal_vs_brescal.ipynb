{
 "cells": [
  {
   "cell_type": "markdown",
   "metadata": {},
   "source": [
    "# RESCAL vs BayesianRESCAL on KINSHIP dataset"
   ]
  },
  {
   "cell_type": "markdown",
   "metadata": {},
   "source": [
    "## 1. Bayesian RESCAL model"
   ]
  },
  {
   "cell_type": "markdown",
   "metadata": {},
   "source": [
    "Here's the generative process of triple (entity, relation, entity):\n",
    "\n",
    "For each entity $i$, a latent representation of the entity $e_i \\in \\mathbb{R}^{D}$ is drawn from the zero mean multivariate-normal distribution with diagonal covariance matrix:\n",
    "\n",
    "$$e_i \\sim N(0, \\sigma_e^2 I_D)$$\n",
    "\n",
    "For each relation $k$, relation matrix $R_k \\in \\mathbb{R}^{D\\times D}$ is drawn from the matrix normal distribution with diagonal covariance matrices:\n",
    "\n",
    "$$R_k \\sim MN(0, \\sigma_r^2 I_D, I_D)$$\n",
    "\n",
    "For each triple $(i, k, j)$, the observed value of the triple $x_{i,k,j}$ is drawn from the normal distribution with bilinear mean and variance:\n",
    "\n",
    "$$x_{ikj} \\sim N(e_i^\\top R_k e_j, \\sigma_x^2)$$\n"
   ]
  },
  {
   "cell_type": "code",
   "execution_count": 1,
   "metadata": {
    "collapsed": false
   },
   "outputs": [],
   "source": [
    "import numpy as np\n",
    "import logging\n",
    "from scipy.io.matlab import loadmat\n",
    "from scipy.sparse import csr_matrix\n",
    "import matplotlib\n",
    "import matplotlib.pyplot as plt\n",
    "from sklearn.metrics import roc_auc_score\n",
    "\n",
    "import rescal\n",
    "from brescal import BayesianRescal\n",
    "\n",
    "%matplotlib inline\n",
    "\n",
    "#logger = logging.getLogger()\n",
    "#logger.setLevel(logging.DEBUG)"
   ]
  },
  {
   "cell_type": "code",
   "execution_count": 2,
   "metadata": {
    "collapsed": false
   },
   "outputs": [
    {
     "name": "stdout",
     "output_type": "stream",
     "text": [
      "(26, 104, 104)\n"
     ]
    }
   ],
   "source": [
    "mat = loadmat('../data/alyawarradata.mat')\n",
    "T = np.array(mat['Rs'], np.float32)\n",
    "\n",
    "max_iter = 20\n",
    "\n",
    "n_dim = 5\n",
    "T = np.swapaxes(T, 1, 2)\n",
    "T = np.swapaxes(T, 0, 1)  # [relation, entity, entity]\n",
    "n_relation, n_entity, _ = T.shape\n",
    "print(T.shape)"
   ]
  },
  {
   "cell_type": "markdown",
   "metadata": {},
   "source": [
    "## 2. Splitting the kinship dataset into train/test sets"
   ]
  },
  {
   "cell_type": "markdown",
   "metadata": {},
   "source": [
    "`trainT` only contains a partial observation of the original tensor `T`"
   ]
  },
  {
   "cell_type": "code",
   "execution_count": 3,
   "metadata": {
    "collapsed": false
   },
   "outputs": [],
   "source": [
    "import itertools\n",
    "trainT = np.zeros_like(T)\n",
    "p = 0.5\n",
    "for k in range(n_relation):\n",
    "    for i,j in itertools.product(range(n_entity),repeat=2):\n",
    "        if T[k, i, j] and np.random.binomial(1, p):\n",
    "            trainT[k, i, j] = T[k, i, j]"
   ]
  },
  {
   "cell_type": "markdown",
   "metadata": {},
   "source": [
    "## 3. Training BayesianRESCAL"
   ]
  },
  {
   "cell_type": "markdown",
   "metadata": {},
   "source": [
    "### 3.1. Grid search on variance parameters"
   ]
  },
  {
   "cell_type": "markdown",
   "metadata": {},
   "source": [
    "Compare performances of different configuration of variances"
   ]
  },
  {
   "cell_type": "markdown",
   "metadata": {},
   "source": [
    "#### <font color='red'>RESULT(GRID SEARCH)</font>: BayesianRESCAL does not work well when variance of x is equal or larger than 1"
   ]
  },
  {
   "cell_type": "code",
   "execution_count": 4,
   "metadata": {
    "collapsed": false
   },
   "outputs": [
    {
     "name": "stdout",
     "output_type": "stream",
     "text": [
      "var_x:0.001, var_e:0.001, var_r:0.001, AUC-ROC:0.930\n",
      "var_x:0.001, var_e:0.001, var_r:0.010, AUC-ROC:0.930\n",
      "var_x:0.001, var_e:0.001, var_r:0.100, AUC-ROC:0.930\n",
      "var_x:0.001, var_e:0.001, var_r:1.000, AUC-ROC:0.922\n",
      "var_x:0.001, var_e:0.001, var_r:10.000, AUC-ROC:0.944\n",
      "var_x:0.001, var_e:0.001, var_r:100.000, AUC-ROC:0.943\n",
      "var_x:0.001, var_e:0.010, var_r:0.001, AUC-ROC:0.943\n",
      "var_x:0.001, var_e:0.010, var_r:0.010, AUC-ROC:0.944\n",
      "var_x:0.001, var_e:0.010, var_r:0.100, AUC-ROC:0.931\n",
      "var_x:0.001, var_e:0.010, var_r:1.000, AUC-ROC:0.931\n",
      "var_x:0.001, var_e:0.010, var_r:10.000, AUC-ROC:0.930\n",
      "var_x:0.001, var_e:0.010, var_r:100.000, AUC-ROC:0.944\n",
      "var_x:0.001, var_e:0.100, var_r:0.001, AUC-ROC:0.944\n",
      "var_x:0.001, var_e:0.100, var_r:0.010, AUC-ROC:0.944\n",
      "var_x:0.001, var_e:0.100, var_r:0.100, AUC-ROC:0.944\n",
      "var_x:0.001, var_e:0.100, var_r:1.000, AUC-ROC:0.944\n",
      "var_x:0.001, var_e:0.100, var_r:10.000, AUC-ROC:0.944\n",
      "var_x:0.001, var_e:0.100, var_r:100.000, AUC-ROC:0.931\n",
      "var_x:0.001, var_e:1.000, var_r:0.001, AUC-ROC:0.924\n",
      "var_x:0.001, var_e:1.000, var_r:0.010, AUC-ROC:0.924\n",
      "var_x:0.001, var_e:1.000, var_r:0.100, AUC-ROC:0.942\n",
      "var_x:0.001, var_e:1.000, var_r:1.000, AUC-ROC:0.929\n",
      "var_x:0.001, var_e:1.000, var_r:10.000, AUC-ROC:0.929\n",
      "var_x:0.001, var_e:1.000, var_r:100.000, AUC-ROC:0.944\n",
      "var_x:0.001, var_e:10.000, var_r:0.001, AUC-ROC:0.931\n",
      "var_x:0.001, var_e:10.000, var_r:0.010, AUC-ROC:0.943\n",
      "var_x:0.001, var_e:10.000, var_r:0.100, AUC-ROC:0.930\n",
      "var_x:0.001, var_e:10.000, var_r:1.000, AUC-ROC:0.931\n",
      "var_x:0.001, var_e:10.000, var_r:10.000, AUC-ROC:0.944\n",
      "var_x:0.001, var_e:10.000, var_r:100.000, AUC-ROC:0.944\n",
      "var_x:0.001, var_e:100.000, var_r:0.001, AUC-ROC:0.929\n",
      "var_x:0.001, var_e:100.000, var_r:0.010, AUC-ROC:0.924\n",
      "var_x:0.001, var_e:100.000, var_r:0.100, AUC-ROC:0.923\n",
      "var_x:0.001, var_e:100.000, var_r:1.000, AUC-ROC:0.943\n",
      "var_x:0.001, var_e:100.000, var_r:10.000, AUC-ROC:0.931\n",
      "var_x:0.001, var_e:100.000, var_r:100.000, AUC-ROC:0.930\n",
      "var_x:0.010, var_e:0.001, var_r:0.001, AUC-ROC:0.501\n",
      "var_x:0.010, var_e:0.001, var_r:0.010, AUC-ROC:0.523\n",
      "var_x:0.010, var_e:0.001, var_r:0.100, AUC-ROC:0.924\n",
      "var_x:0.010, var_e:0.001, var_r:1.000, AUC-ROC:0.942\n",
      "var_x:0.010, var_e:0.001, var_r:10.000, AUC-ROC:0.940\n",
      "var_x:0.010, var_e:0.001, var_r:100.000, AUC-ROC:0.942\n",
      "var_x:0.010, var_e:0.010, var_r:0.001, AUC-ROC:0.932\n",
      "var_x:0.010, var_e:0.010, var_r:0.010, AUC-ROC:0.930\n",
      "var_x:0.010, var_e:0.010, var_r:0.100, AUC-ROC:0.941\n",
      "var_x:0.010, var_e:0.010, var_r:1.000, AUC-ROC:0.941\n",
      "var_x:0.010, var_e:0.010, var_r:10.000, AUC-ROC:0.922\n",
      "var_x:0.010, var_e:0.010, var_r:100.000, AUC-ROC:0.922\n",
      "var_x:0.010, var_e:0.100, var_r:0.001, AUC-ROC:0.929\n",
      "var_x:0.010, var_e:0.100, var_r:0.010, AUC-ROC:0.942\n",
      "var_x:0.010, var_e:0.100, var_r:0.100, AUC-ROC:0.929\n",
      "var_x:0.010, var_e:0.100, var_r:1.000, AUC-ROC:0.930\n",
      "var_x:0.010, var_e:0.100, var_r:10.000, AUC-ROC:0.940\n",
      "var_x:0.010, var_e:0.100, var_r:100.000, AUC-ROC:0.929\n",
      "var_x:0.010, var_e:1.000, var_r:0.001, AUC-ROC:0.941\n",
      "var_x:0.010, var_e:1.000, var_r:0.010, AUC-ROC:0.941\n",
      "var_x:0.010, var_e:1.000, var_r:0.100, AUC-ROC:0.941\n",
      "var_x:0.010, var_e:1.000, var_r:1.000, AUC-ROC:0.930\n",
      "var_x:0.010, var_e:1.000, var_r:10.000, AUC-ROC:0.941\n",
      "var_x:0.010, var_e:1.000, var_r:100.000, AUC-ROC:0.929\n",
      "var_x:0.010, var_e:10.000, var_r:0.001, AUC-ROC:0.941\n",
      "var_x:0.010, var_e:10.000, var_r:0.010, AUC-ROC:0.941\n",
      "var_x:0.010, var_e:10.000, var_r:0.100, AUC-ROC:0.929\n",
      "var_x:0.010, var_e:10.000, var_r:1.000, AUC-ROC:0.929\n",
      "var_x:0.010, var_e:10.000, var_r:10.000, AUC-ROC:0.927\n",
      "var_x:0.010, var_e:10.000, var_r:100.000, AUC-ROC:0.941\n",
      "var_x:0.010, var_e:100.000, var_r:0.001, AUC-ROC:0.941\n",
      "var_x:0.010, var_e:100.000, var_r:0.010, AUC-ROC:0.941\n",
      "var_x:0.010, var_e:100.000, var_r:0.100, AUC-ROC:0.941\n",
      "var_x:0.010, var_e:100.000, var_r:1.000, AUC-ROC:0.941\n",
      "var_x:0.010, var_e:100.000, var_r:10.000, AUC-ROC:0.930\n",
      "var_x:0.010, var_e:100.000, var_r:100.000, AUC-ROC:0.941\n",
      "var_x:0.100, var_e:0.001, var_r:0.001, AUC-ROC:0.499\n",
      "var_x:0.100, var_e:0.001, var_r:0.010, AUC-ROC:0.505\n",
      "var_x:0.100, var_e:0.001, var_r:0.100, AUC-ROC:0.502\n",
      "var_x:0.100, var_e:0.001, var_r:1.000, AUC-ROC:0.510\n",
      "var_x:0.100, var_e:0.001, var_r:10.000, AUC-ROC:0.903\n",
      "var_x:0.100, var_e:0.001, var_r:100.000, AUC-ROC:0.915\n",
      "var_x:0.100, var_e:0.010, var_r:0.001, AUC-ROC:0.503\n",
      "var_x:0.100, var_e:0.010, var_r:0.010, AUC-ROC:0.511\n",
      "var_x:0.100, var_e:0.010, var_r:0.100, AUC-ROC:0.911\n",
      "var_x:0.100, var_e:0.010, var_r:1.000, AUC-ROC:0.913\n",
      "var_x:0.100, var_e:0.010, var_r:10.000, AUC-ROC:0.912\n",
      "var_x:0.100, var_e:0.010, var_r:100.000, AUC-ROC:0.909\n",
      "var_x:0.100, var_e:0.100, var_r:0.001, AUC-ROC:0.911\n",
      "var_x:0.100, var_e:0.100, var_r:0.010, AUC-ROC:0.921\n",
      "var_x:0.100, var_e:0.100, var_r:0.100, AUC-ROC:0.921\n",
      "var_x:0.100, var_e:0.100, var_r:1.000, AUC-ROC:0.904\n",
      "var_x:0.100, var_e:0.100, var_r:10.000, AUC-ROC:0.902\n",
      "var_x:0.100, var_e:0.100, var_r:100.000, AUC-ROC:0.907\n",
      "var_x:0.100, var_e:1.000, var_r:0.001, AUC-ROC:0.922\n",
      "var_x:0.100, var_e:1.000, var_r:0.010, AUC-ROC:0.905\n",
      "var_x:0.100, var_e:1.000, var_r:0.100, AUC-ROC:0.920\n",
      "var_x:0.100, var_e:1.000, var_r:1.000, AUC-ROC:0.917\n",
      "var_x:0.100, var_e:1.000, var_r:10.000, AUC-ROC:0.914\n",
      "var_x:0.100, var_e:1.000, var_r:100.000, AUC-ROC:0.912\n",
      "var_x:0.100, var_e:10.000, var_r:0.001, AUC-ROC:0.917\n",
      "var_x:0.100, var_e:10.000, var_r:0.010, AUC-ROC:0.912\n",
      "var_x:0.100, var_e:10.000, var_r:0.100, AUC-ROC:0.914\n",
      "var_x:0.100, var_e:10.000, var_r:1.000, AUC-ROC:0.902\n",
      "var_x:0.100, var_e:10.000, var_r:10.000, AUC-ROC:0.913\n",
      "var_x:0.100, var_e:10.000, var_r:100.000, AUC-ROC:0.902\n",
      "var_x:0.100, var_e:100.000, var_r:0.001, AUC-ROC:0.913\n",
      "var_x:0.100, var_e:100.000, var_r:0.010, AUC-ROC:0.938\n",
      "var_x:0.100, var_e:100.000, var_r:0.100, AUC-ROC:0.912\n",
      "var_x:0.100, var_e:100.000, var_r:1.000, AUC-ROC:0.916\n",
      "var_x:0.100, var_e:100.000, var_r:10.000, AUC-ROC:0.921\n",
      "var_x:0.100, var_e:100.000, var_r:100.000, AUC-ROC:0.916\n",
      "var_x:1.000, var_e:0.001, var_r:0.001, AUC-ROC:0.496\n",
      "var_x:1.000, var_e:0.001, var_r:0.010, AUC-ROC:0.505\n",
      "var_x:1.000, var_e:0.001, var_r:0.100, AUC-ROC:0.504\n",
      "var_x:1.000, var_e:0.001, var_r:1.000, AUC-ROC:0.509\n",
      "var_x:1.000, var_e:0.001, var_r:10.000, AUC-ROC:0.503\n",
      "var_x:1.000, var_e:0.001, var_r:100.000, AUC-ROC:0.499\n",
      "var_x:1.000, var_e:0.010, var_r:0.001, AUC-ROC:0.498\n",
      "var_x:1.000, var_e:0.010, var_r:0.010, AUC-ROC:0.496\n",
      "var_x:1.000, var_e:0.010, var_r:0.100, AUC-ROC:0.504\n",
      "var_x:1.000, var_e:0.010, var_r:1.000, AUC-ROC:0.504\n",
      "var_x:1.000, var_e:0.010, var_r:10.000, AUC-ROC:0.501\n",
      "var_x:1.000, var_e:0.010, var_r:100.000, AUC-ROC:0.510\n",
      "var_x:1.000, var_e:0.100, var_r:0.001, AUC-ROC:0.506\n",
      "var_x:1.000, var_e:0.100, var_r:0.010, AUC-ROC:0.501\n",
      "var_x:1.000, var_e:0.100, var_r:0.100, AUC-ROC:0.503\n",
      "var_x:1.000, var_e:0.100, var_r:1.000, AUC-ROC:0.506\n",
      "var_x:1.000, var_e:0.100, var_r:10.000, AUC-ROC:0.507\n",
      "var_x:1.000, var_e:0.100, var_r:100.000, AUC-ROC:0.506\n",
      "var_x:1.000, var_e:1.000, var_r:0.001, AUC-ROC:0.503\n",
      "var_x:1.000, var_e:1.000, var_r:0.010, AUC-ROC:0.510\n",
      "var_x:1.000, var_e:1.000, var_r:0.100, AUC-ROC:0.502\n",
      "var_x:1.000, var_e:1.000, var_r:1.000, AUC-ROC:0.510\n",
      "var_x:1.000, var_e:1.000, var_r:10.000, AUC-ROC:0.508\n",
      "var_x:1.000, var_e:1.000, var_r:100.000, AUC-ROC:0.512\n",
      "var_x:1.000, var_e:10.000, var_r:0.001, AUC-ROC:0.502\n",
      "var_x:1.000, var_e:10.000, var_r:0.010, AUC-ROC:0.506\n",
      "var_x:1.000, var_e:10.000, var_r:0.100, AUC-ROC:0.507\n",
      "var_x:1.000, var_e:10.000, var_r:1.000, AUC-ROC:0.504\n",
      "var_x:1.000, var_e:10.000, var_r:10.000, AUC-ROC:0.508\n",
      "var_x:1.000, var_e:10.000, var_r:100.000, AUC-ROC:0.502\n",
      "var_x:1.000, var_e:100.000, var_r:0.001, AUC-ROC:0.504\n",
      "var_x:1.000, var_e:100.000, var_r:0.010, AUC-ROC:0.502\n",
      "var_x:1.000, var_e:100.000, var_r:0.100, AUC-ROC:0.502\n",
      "var_x:1.000, var_e:100.000, var_r:1.000, AUC-ROC:0.507\n",
      "var_x:1.000, var_e:100.000, var_r:10.000, AUC-ROC:0.502\n",
      "var_x:1.000, var_e:100.000, var_r:100.000, AUC-ROC:0.507\n",
      "var_x:10.000, var_e:0.001, var_r:0.001, AUC-ROC:0.500\n",
      "var_x:10.000, var_e:0.001, var_r:0.010, AUC-ROC:0.499\n",
      "var_x:10.000, var_e:0.001, var_r:0.100, AUC-ROC:0.502\n",
      "var_x:10.000, var_e:0.001, var_r:1.000, AUC-ROC:0.494\n",
      "var_x:10.000, var_e:0.001, var_r:10.000, AUC-ROC:0.506\n",
      "var_x:10.000, var_e:0.001, var_r:100.000, AUC-ROC:0.499\n",
      "var_x:10.000, var_e:0.010, var_r:0.001, AUC-ROC:0.495\n",
      "var_x:10.000, var_e:0.010, var_r:0.010, AUC-ROC:0.503\n",
      "var_x:10.000, var_e:0.010, var_r:0.100, AUC-ROC:0.504\n",
      "var_x:10.000, var_e:0.010, var_r:1.000, AUC-ROC:0.493\n",
      "var_x:10.000, var_e:0.010, var_r:10.000, AUC-ROC:0.500\n",
      "var_x:10.000, var_e:0.010, var_r:100.000, AUC-ROC:0.497\n",
      "var_x:10.000, var_e:0.100, var_r:0.001, AUC-ROC:0.499\n",
      "var_x:10.000, var_e:0.100, var_r:0.010, AUC-ROC:0.504\n",
      "var_x:10.000, var_e:0.100, var_r:0.100, AUC-ROC:0.501\n",
      "var_x:10.000, var_e:0.100, var_r:1.000, AUC-ROC:0.496\n",
      "var_x:10.000, var_e:0.100, var_r:10.000, AUC-ROC:0.501\n",
      "var_x:10.000, var_e:0.100, var_r:100.000, AUC-ROC:0.501\n",
      "var_x:10.000, var_e:1.000, var_r:0.001, AUC-ROC:0.502\n",
      "var_x:10.000, var_e:1.000, var_r:0.010, AUC-ROC:0.496\n",
      "var_x:10.000, var_e:1.000, var_r:0.100, AUC-ROC:0.504\n",
      "var_x:10.000, var_e:1.000, var_r:1.000, AUC-ROC:0.498\n",
      "var_x:10.000, var_e:1.000, var_r:10.000, AUC-ROC:0.506\n",
      "var_x:10.000, var_e:1.000, var_r:100.000, AUC-ROC:0.502\n",
      "var_x:10.000, var_e:10.000, var_r:0.001, AUC-ROC:0.497\n",
      "var_x:10.000, var_e:10.000, var_r:0.010, AUC-ROC:0.506\n",
      "var_x:10.000, var_e:10.000, var_r:0.100, AUC-ROC:0.499\n",
      "var_x:10.000, var_e:10.000, var_r:1.000, AUC-ROC:0.504\n",
      "var_x:10.000, var_e:10.000, var_r:10.000, AUC-ROC:0.501\n",
      "var_x:10.000, var_e:10.000, var_r:100.000, AUC-ROC:0.502\n",
      "var_x:10.000, var_e:100.000, var_r:0.001, AUC-ROC:0.501\n",
      "var_x:10.000, var_e:100.000, var_r:0.010, AUC-ROC:0.498\n",
      "var_x:10.000, var_e:100.000, var_r:0.100, AUC-ROC:0.497\n",
      "var_x:10.000, var_e:100.000, var_r:1.000, AUC-ROC:0.504\n",
      "var_x:10.000, var_e:100.000, var_r:10.000, AUC-ROC:0.501\n",
      "var_x:10.000, var_e:100.000, var_r:100.000, AUC-ROC:0.498\n",
      "var_x:100.000, var_e:0.001, var_r:0.001, AUC-ROC:0.497\n",
      "var_x:100.000, var_e:0.001, var_r:0.010, AUC-ROC:0.498\n",
      "var_x:100.000, var_e:0.001, var_r:0.100, AUC-ROC:0.496\n",
      "var_x:100.000, var_e:0.001, var_r:1.000, AUC-ROC:0.497\n",
      "var_x:100.000, var_e:0.001, var_r:10.000, AUC-ROC:0.499\n",
      "var_x:100.000, var_e:0.001, var_r:100.000, AUC-ROC:0.498\n",
      "var_x:100.000, var_e:0.010, var_r:0.001, AUC-ROC:0.499\n",
      "var_x:100.000, var_e:0.010, var_r:0.010, AUC-ROC:0.495\n",
      "var_x:100.000, var_e:0.010, var_r:0.100, AUC-ROC:0.493\n",
      "var_x:100.000, var_e:0.010, var_r:1.000, AUC-ROC:0.503\n",
      "var_x:100.000, var_e:0.010, var_r:10.000, AUC-ROC:0.503\n",
      "var_x:100.000, var_e:0.010, var_r:100.000, AUC-ROC:0.504\n",
      "var_x:100.000, var_e:0.100, var_r:0.001, AUC-ROC:0.498\n",
      "var_x:100.000, var_e:0.100, var_r:0.010, AUC-ROC:0.501\n",
      "var_x:100.000, var_e:0.100, var_r:0.100, AUC-ROC:0.493\n",
      "var_x:100.000, var_e:0.100, var_r:1.000, AUC-ROC:0.495\n",
      "var_x:100.000, var_e:0.100, var_r:10.000, AUC-ROC:0.504\n",
      "var_x:100.000, var_e:0.100, var_r:100.000, AUC-ROC:0.500\n",
      "var_x:100.000, var_e:1.000, var_r:0.001, AUC-ROC:0.503\n",
      "var_x:100.000, var_e:1.000, var_r:0.010, AUC-ROC:0.501\n",
      "var_x:100.000, var_e:1.000, var_r:0.100, AUC-ROC:0.503\n",
      "var_x:100.000, var_e:1.000, var_r:1.000, AUC-ROC:0.496\n",
      "var_x:100.000, var_e:1.000, var_r:10.000, AUC-ROC:0.498\n",
      "var_x:100.000, var_e:1.000, var_r:100.000, AUC-ROC:0.501\n",
      "var_x:100.000, var_e:10.000, var_r:0.001, AUC-ROC:0.494\n",
      "var_x:100.000, var_e:10.000, var_r:0.010, AUC-ROC:0.505\n",
      "var_x:100.000, var_e:10.000, var_r:0.100, AUC-ROC:0.496\n",
      "var_x:100.000, var_e:10.000, var_r:1.000, AUC-ROC:0.501\n",
      "var_x:100.000, var_e:10.000, var_r:10.000, AUC-ROC:0.502\n",
      "var_x:100.000, var_e:10.000, var_r:100.000, AUC-ROC:0.504\n",
      "var_x:100.000, var_e:100.000, var_r:0.001, AUC-ROC:0.498\n",
      "var_x:100.000, var_e:100.000, var_r:0.010, AUC-ROC:0.504\n",
      "var_x:100.000, var_e:100.000, var_r:0.100, AUC-ROC:0.501\n",
      "var_x:100.000, var_e:100.000, var_r:1.000, AUC-ROC:0.497\n",
      "var_x:100.000, var_e:100.000, var_r:10.000, AUC-ROC:0.503\n",
      "var_x:100.000, var_e:100.000, var_r:100.000, AUC-ROC:0.500\n",
      "(0.001, 1.0, 100.0)\n"
     ]
    }
   ],
   "source": [
    "var_list = [0.001, 0.01, 0.1, 1., 10., 100.]\n",
    "best_roc = 0\n",
    "for (var_x, var_e, var_r) in itertools.product(var_list,repeat=3):\n",
    "    model = BayesianRescal(n_dim, var_e=var_e, var_x=var_x, var_r=var_r)\n",
    "    model.fit(trainT, max_iter=max_iter)\n",
    "    _T = model._reconstruct()\n",
    "    score = roc_auc_score(T.flatten(), _T.flatten())\n",
    "    print('var_x:{0:3.3f}, var_e:{1:3.3f}, var_r:{2:3.3f}, AUC-ROC:{3:.3f}'.format(var_x, var_e, var_r, score))\n",
    "    if score > best_roc:\n",
    "        best_vars = (var_x, var_e, var_r)\n",
    "        best_model = model\n",
    "        best_roc = score\n",
    "        \n",
    "var_x, var_e, var_r = best_vars\n",
    "print(best_vars)"
   ]
  },
  {
   "cell_type": "markdown",
   "metadata": {},
   "source": [
    "### 3.2. Training RESCAL"
   ]
  },
  {
   "cell_type": "code",
   "execution_count": 5,
   "metadata": {
    "collapsed": false
   },
   "outputs": [],
   "source": [
    "X = list()\n",
    "for k in range(n_relation):\n",
    "    X.append(csr_matrix(trainT[k]))\n",
    "    \n",
    "A, R, f, itr, exectimes = rescal.rescal_als(X, n_dim)"
   ]
  },
  {
   "cell_type": "markdown",
   "metadata": {},
   "source": [
    "### 3.3. Compare both models by ROC-AUC"
   ]
  },
  {
   "cell_type": "markdown",
   "metadata": {},
   "source": [
    "#### <font color='red'>RESULT</font>: BayesianRESCAL is comparable with RESCAL"
   ]
  },
  {
   "cell_type": "markdown",
   "metadata": {},
   "source": [
    "#### ROC-AUC score of BRESCAL"
   ]
  },
  {
   "cell_type": "code",
   "execution_count": 6,
   "metadata": {
    "collapsed": false
   },
   "outputs": [
    {
     "name": "stdout",
     "output_type": "stream",
     "text": [
      "0.944133926181\n"
     ]
    }
   ],
   "source": [
    "_T = best_model._reconstruct()\n",
    "print(roc_auc_score(T.flatten(), _T.flatten()))"
   ]
  },
  {
   "cell_type": "markdown",
   "metadata": {},
   "source": [
    "#### ROC-AUC score of RESCAL"
   ]
  },
  {
   "cell_type": "code",
   "execution_count": 7,
   "metadata": {
    "collapsed": false
   },
   "outputs": [
    {
     "name": "stdout",
     "output_type": "stream",
     "text": [
      "0.943559626861\n"
     ]
    }
   ],
   "source": [
    "_X = np.zeros_like(T)\n",
    "for k in range(T.shape[0]):\n",
    "    _X[k] = np.dot(np.dot(A, R[k]), A.T)\n",
    "print(roc_auc_score(T.flatten(), _X.flatten()))"
   ]
  },
  {
   "cell_type": "markdown",
   "metadata": {},
   "source": [
    "## 4. Initialize Bayesian_RESCAL with RESCAL"
   ]
  },
  {
   "cell_type": "markdown",
   "metadata": {},
   "source": [
    "Let's see that Bayesian_RESCAL performs worse than RESCAL because it can't escape from local optimum."
   ]
  },
  {
   "cell_type": "code",
   "execution_count": 8,
   "metadata": {
    "collapsed": false
   },
   "outputs": [],
   "source": [
    "A, R, f, itr, exectimes = rescal.rescal_als(X, n_dim)\n",
    "model = BayesianRescal(n_dim, var_e=var_e, var_x=var_x, var_r=var_r)\n",
    "model.n_relations = n_relation\n",
    "model.n_entities = n_entity\n",
    "model.E = A\n",
    "model.R = np.zeros([n_relation, n_dim, n_dim])\n",
    "for k in range(n_relation):\n",
    "    model.R[k] = R[k]\n",
    "model._gibbs(trainT, max_iter=5)"
   ]
  },
  {
   "cell_type": "markdown",
   "metadata": {},
   "source": [
    "#### ROC-AUC score of BRESCAL initialized by RESCAL"
   ]
  },
  {
   "cell_type": "code",
   "execution_count": 9,
   "metadata": {
    "collapsed": false
   },
   "outputs": [
    {
     "name": "stdout",
     "output_type": "stream",
     "text": [
      "0.943522089717\n"
     ]
    }
   ],
   "source": [
    "_T = model._reconstruct()\n",
    "print(roc_auc_score(T.flatten(), _T.flatten()))"
   ]
  },
  {
   "cell_type": "markdown",
   "metadata": {},
   "source": [
    "## 5. Place difference variances on observed / unobserved data points"
   ]
  },
  {
   "cell_type": "markdown",
   "metadata": {},
   "source": [
    "I adopt idea from implicit feedback approach from the following paper in which they place a different variance on observed/unobserved variables (variance of observed variable is smaller than those of unobserved):\n",
    "\n",
    "*Collaborative Filtering for Implicit Feedback Datasets, Yifan Hu, et al. ICDM2008*"
   ]
  },
  {
   "cell_type": "markdown",
   "metadata": {},
   "source": [
    "#### <font color='red'>RESULT</font>: BayesianRESCAL with controlled variance (CV_BRESCAL) performs slightly better than BRESCAL."
   ]
  },
  {
   "cell_type": "code",
   "execution_count": 36,
   "metadata": {
    "collapsed": false
   },
   "outputs": [
    {
     "name": "stdout",
     "output_type": "stream",
     "text": [
      "0.96603468367\n",
      "0.954228095078\n",
      "0.92305263092\n",
      "0.965225282285\n",
      "0.962037325525\n",
      "0.956771656304\n",
      "0.953578395038\n",
      "0.959729215416\n",
      "0.933131698528\n",
      "0.941166348379\n",
      "0.966307331788\n",
      "0.967347638378\n",
      "0.953822041785\n",
      "0.955325682658\n",
      "0.956017684061\n",
      "0.934671161096\n",
      "0.955844075267\n",
      "0.961994553618\n",
      "0.964478976009\n",
      "0.966871021753\n"
     ]
    }
   ],
   "source": [
    "observed_var = 0.001\n",
    "unobserved_var = 1.\n",
    "for i in range(20):\n",
    "    model = BayesianRescal(n_dim, var_e=var_e, var_x=var_x, var_r=var_r, controlled_var=True, \n",
    "                           obs_var=observed_var, unobs_var=unobserved_var)\n",
    "    model.fit(trainT, max_iter=max_iter)\n",
    "    _T = model._reconstruct()\n",
    "    print(roc_auc_score(T.flatten(), _T.flatten()))"
   ]
  },
  {
   "cell_type": "code",
   "execution_count": 32,
   "metadata": {
    "collapsed": true
   },
   "outputs": [
    {
     "name": "stdout",
     "output_type": "stream",
     "text": [
      "0.946752745901\n",
      "0.951022258144\n",
      "0.949277739471\n",
      "0.940403984303\n",
      "0.943663270871\n",
      "0.949165964603\n",
      "0.954419131324\n",
      "0.947390551757\n",
      "0.95124657367\n",
      "0.947585875852\n",
      "0.950249743091\n",
      "0.948909541357\n",
      "0.951616264297\n",
      "0.943449345877\n",
      "0.921866171787\n",
      "0.948273586321\n",
      "0.910919494767\n",
      "0.95790799183\n",
      "0.949043871343\n",
      "0.951578882231\n"
     ]
    }
   ],
   "source": [
    "observed_var = 0.01\n",
    "unobserved_var = 10.\n",
    "for i in range(20):\n",
    "    model = BayesianRescal(n_dim, var_e=var_e, var_x=var_x, var_r=var_r, controlled_var=True, \n",
    "                           obs_var=observed_var, unobs_var=unobserved_var)\n",
    "    model.fit(trainT, max_iter=max_iter)\n",
    "    _T = model._reconstruct()\n",
    "    print(roc_auc_score(T.flatten(), _T.flatten()))"
   ]
  },
  {
   "cell_type": "code",
   "execution_count": 34,
   "metadata": {
    "collapsed": true
   },
   "outputs": [
    {
     "name": "stdout",
     "output_type": "stream",
     "text": [
      "0.909336196341\n",
      "0.928269713257\n",
      "0.90857881325\n",
      "0.868543133987\n",
      "0.914083476551\n",
      "0.934207291839\n",
      "0.892281324341\n",
      "0.918217649862\n",
      "0.926920518916\n",
      "0.888205897972\n",
      "0.880706106016\n",
      "0.885897443608\n",
      "0.935934838012\n",
      "0.891455154027\n",
      "0.92816627693\n",
      "0.919767655984\n",
      "0.934340133081\n",
      "0.902647562343\n",
      "0.906719971984\n",
      "0.906657896616\n"
     ]
    }
   ],
   "source": [
    "observed_var = 0.001\n",
    "unobserved_var = 10.\n",
    "for i in range(20):\n",
    "    model = BayesianRescal(n_dim, var_e=var_e, var_x=var_x, var_r=var_r, controlled_var=True, \n",
    "                           obs_var=observed_var, unobs_var=unobserved_var)\n",
    "    model.fit(trainT, max_iter=max_iter)\n",
    "    _T = model._reconstruct()\n",
    "    print(roc_auc_score(T.flatten(), _T.flatten()))"
   ]
  },
  {
   "cell_type": "code",
   "execution_count": 35,
   "metadata": {
    "collapsed": true
   },
   "outputs": [
    {
     "name": "stdout",
     "output_type": "stream",
     "text": [
      "0.682337007569\n",
      "0.639304674764\n",
      "0.642063749628\n",
      "0.596862736435\n",
      "0.592735167711\n",
      "0.595027997806\n",
      "0.688270381752\n",
      "0.803068396661\n",
      "0.699368893833\n",
      "0.82732955638\n",
      "0.675697237709\n",
      "0.79420091759\n",
      "0.605186305543\n",
      "0.673282545858\n",
      "0.614933612245\n",
      "0.720779307686\n",
      "0.686679387371\n",
      "0.647647091524\n",
      "0.682062844833\n",
      "0.575856356785\n"
     ]
    }
   ],
   "source": [
    "observed_var = 0.001\n",
    "unobserved_var = 100.\n",
    "for i in range(20):\n",
    "    model = BayesianRescal(n_dim, var_e=var_e, var_x=var_x, var_r=var_r, controlled_var=True, \n",
    "                           obs_var=observed_var, unobs_var=unobserved_var)\n",
    "    model.fit(trainT, max_iter=max_iter)\n",
    "    _T = model._reconstruct()\n",
    "    print(roc_auc_score(T.flatten(), _T.flatten()))"
   ]
  },
  {
   "cell_type": "markdown",
   "metadata": {},
   "source": [
    "## A. Parameter optimization for RESCAL"
   ]
  },
  {
   "cell_type": "markdown",
   "metadata": {},
   "source": [
    "RESCAL also has some parameters to be tuned."
   ]
  },
  {
   "cell_type": "markdown",
   "metadata": {},
   "source": [
    "#### <font color='red'>RESULT</font>: RESCAL is highly robust w.r.t the parameters..."
   ]
  },
  {
   "cell_type": "code",
   "execution_count": 38,
   "metadata": {
    "collapsed": false
   },
   "outputs": [
    {
     "name": "stdout",
     "output_type": "stream",
     "text": [
      "var_x:0.001, var_e:0.001, var_r:0.001, AUC-ROC:0.944\n",
      "var_x:0.001, var_e:0.001, var_r:0.010, AUC-ROC:0.944\n",
      "var_x:0.001, var_e:0.001, var_r:0.100, AUC-ROC:0.944\n",
      "var_x:0.001, var_e:0.001, var_r:1.000, AUC-ROC:0.944\n",
      "var_x:0.001, var_e:0.001, var_r:10.000, AUC-ROC:0.944\n",
      "var_x:0.001, var_e:0.001, var_r:100.000, AUC-ROC:0.944\n",
      "var_x:0.001, var_e:0.010, var_r:0.001, AUC-ROC:0.944\n",
      "var_x:0.001, var_e:0.010, var_r:0.010, AUC-ROC:0.944\n",
      "var_x:0.001, var_e:0.010, var_r:0.100, AUC-ROC:0.944\n",
      "var_x:0.001, var_e:0.010, var_r:1.000, AUC-ROC:0.944\n",
      "var_x:0.001, var_e:0.010, var_r:10.000, AUC-ROC:0.944\n",
      "var_x:0.001, var_e:0.010, var_r:100.000, AUC-ROC:0.944\n",
      "var_x:0.001, var_e:0.100, var_r:0.001, AUC-ROC:0.944\n",
      "var_x:0.001, var_e:0.100, var_r:0.010, AUC-ROC:0.944\n",
      "var_x:0.001, var_e:0.100, var_r:0.100, AUC-ROC:0.944\n",
      "var_x:0.001, var_e:0.100, var_r:1.000, AUC-ROC:0.944\n",
      "var_x:0.001, var_e:0.100, var_r:10.000, AUC-ROC:0.944\n",
      "var_x:0.001, var_e:0.100, var_r:100.000, AUC-ROC:0.944\n",
      "var_x:0.001, var_e:1.000, var_r:0.001, AUC-ROC:0.944\n",
      "var_x:0.001, var_e:1.000, var_r:0.010, AUC-ROC:0.944\n",
      "var_x:0.001, var_e:1.000, var_r:0.100, AUC-ROC:0.944\n",
      "var_x:0.001, var_e:1.000, var_r:1.000, AUC-ROC:0.944\n",
      "var_x:0.001, var_e:1.000, var_r:10.000, AUC-ROC:0.944\n",
      "var_x:0.001, var_e:1.000, var_r:100.000, AUC-ROC:0.944\n",
      "var_x:0.001, var_e:10.000, var_r:0.001, AUC-ROC:0.944\n",
      "var_x:0.001, var_e:10.000, var_r:0.010, AUC-ROC:0.944\n",
      "var_x:0.001, var_e:10.000, var_r:0.100, AUC-ROC:0.944\n",
      "var_x:0.001, var_e:10.000, var_r:1.000, AUC-ROC:0.944\n",
      "var_x:0.001, var_e:10.000, var_r:10.000, AUC-ROC:0.944\n",
      "var_x:0.001, var_e:10.000, var_r:100.000, AUC-ROC:0.944\n",
      "var_x:0.001, var_e:100.000, var_r:0.001, AUC-ROC:0.944\n",
      "var_x:0.001, var_e:100.000, var_r:0.010, AUC-ROC:0.944\n",
      "var_x:0.001, var_e:100.000, var_r:0.100, AUC-ROC:0.944\n",
      "var_x:0.001, var_e:100.000, var_r:1.000, AUC-ROC:0.944\n",
      "var_x:0.001, var_e:100.000, var_r:10.000, AUC-ROC:0.944\n",
      "var_x:0.001, var_e:100.000, var_r:100.000, AUC-ROC:0.944\n",
      "var_x:0.010, var_e:0.001, var_r:0.001, AUC-ROC:0.944\n",
      "var_x:0.010, var_e:0.001, var_r:0.010, AUC-ROC:0.944\n",
      "var_x:0.010, var_e:0.001, var_r:0.100, AUC-ROC:0.944\n",
      "var_x:0.010, var_e:0.001, var_r:1.000, AUC-ROC:0.944\n",
      "var_x:0.010, var_e:0.001, var_r:10.000, AUC-ROC:0.944\n",
      "var_x:0.010, var_e:0.001, var_r:100.000, AUC-ROC:0.944\n",
      "var_x:0.010, var_e:0.010, var_r:0.001, AUC-ROC:0.944\n",
      "var_x:0.010, var_e:0.010, var_r:0.010, AUC-ROC:0.944\n",
      "var_x:0.010, var_e:0.010, var_r:0.100, AUC-ROC:0.944\n",
      "var_x:0.010, var_e:0.010, var_r:1.000, AUC-ROC:0.944\n",
      "var_x:0.010, var_e:0.010, var_r:10.000, AUC-ROC:0.944\n",
      "var_x:0.010, var_e:0.010, var_r:100.000, AUC-ROC:0.944\n",
      "var_x:0.010, var_e:0.100, var_r:0.001, AUC-ROC:0.944\n",
      "var_x:0.010, var_e:0.100, var_r:0.010, AUC-ROC:0.944\n",
      "var_x:0.010, var_e:0.100, var_r:0.100, AUC-ROC:0.944\n",
      "var_x:0.010, var_e:0.100, var_r:1.000, AUC-ROC:0.944\n",
      "var_x:0.010, var_e:0.100, var_r:10.000, AUC-ROC:0.944\n",
      "var_x:0.010, var_e:0.100, var_r:100.000, AUC-ROC:0.944\n",
      "var_x:0.010, var_e:1.000, var_r:0.001, AUC-ROC:0.944\n",
      "var_x:0.010, var_e:1.000, var_r:0.010, AUC-ROC:0.944\n",
      "var_x:0.010, var_e:1.000, var_r:0.100, AUC-ROC:0.944\n",
      "var_x:0.010, var_e:1.000, var_r:1.000, AUC-ROC:0.944\n",
      "var_x:0.010, var_e:1.000, var_r:10.000, AUC-ROC:0.944\n",
      "var_x:0.010, var_e:1.000, var_r:100.000, AUC-ROC:0.944\n",
      "var_x:0.010, var_e:10.000, var_r:0.001, AUC-ROC:0.944\n",
      "var_x:0.010, var_e:10.000, var_r:0.010, AUC-ROC:0.944\n",
      "var_x:0.010, var_e:10.000, var_r:0.100, AUC-ROC:0.944\n",
      "var_x:0.010, var_e:10.000, var_r:1.000, AUC-ROC:0.944\n",
      "var_x:0.010, var_e:10.000, var_r:10.000, AUC-ROC:0.944\n",
      "var_x:0.010, var_e:10.000, var_r:100.000, AUC-ROC:0.944\n",
      "var_x:0.010, var_e:100.000, var_r:0.001, AUC-ROC:0.944\n",
      "var_x:0.010, var_e:100.000, var_r:0.010, AUC-ROC:0.944\n",
      "var_x:0.010, var_e:100.000, var_r:0.100, AUC-ROC:0.944\n",
      "var_x:0.010, var_e:100.000, var_r:1.000, AUC-ROC:0.944\n",
      "var_x:0.010, var_e:100.000, var_r:10.000, AUC-ROC:0.944\n",
      "var_x:0.010, var_e:100.000, var_r:100.000, AUC-ROC:0.944\n",
      "var_x:0.100, var_e:0.001, var_r:0.001, AUC-ROC:0.944\n",
      "var_x:0.100, var_e:0.001, var_r:0.010, AUC-ROC:0.944\n",
      "var_x:0.100, var_e:0.001, var_r:0.100, AUC-ROC:0.944\n",
      "var_x:0.100, var_e:0.001, var_r:1.000, AUC-ROC:0.944\n",
      "var_x:0.100, var_e:0.001, var_r:10.000, AUC-ROC:0.944\n",
      "var_x:0.100, var_e:0.001, var_r:100.000, AUC-ROC:0.944\n",
      "var_x:0.100, var_e:0.010, var_r:0.001, AUC-ROC:0.944\n",
      "var_x:0.100, var_e:0.010, var_r:0.010, AUC-ROC:0.944\n",
      "var_x:0.100, var_e:0.010, var_r:0.100, AUC-ROC:0.944\n",
      "var_x:0.100, var_e:0.010, var_r:1.000, AUC-ROC:0.944\n",
      "var_x:0.100, var_e:0.010, var_r:10.000, AUC-ROC:0.944\n",
      "var_x:0.100, var_e:0.010, var_r:100.000, AUC-ROC:0.944\n",
      "var_x:0.100, var_e:0.100, var_r:0.001, AUC-ROC:0.944\n",
      "var_x:0.100, var_e:0.100, var_r:0.010, AUC-ROC:0.944\n",
      "var_x:0.100, var_e:0.100, var_r:0.100, AUC-ROC:0.944\n",
      "var_x:0.100, var_e:0.100, var_r:1.000, AUC-ROC:0.944\n",
      "var_x:0.100, var_e:0.100, var_r:10.000, AUC-ROC:0.944\n",
      "var_x:0.100, var_e:0.100, var_r:100.000, AUC-ROC:0.944\n",
      "var_x:0.100, var_e:1.000, var_r:0.001, AUC-ROC:0.944\n",
      "var_x:0.100, var_e:1.000, var_r:0.010, AUC-ROC:0.944\n",
      "var_x:0.100, var_e:1.000, var_r:0.100, AUC-ROC:0.944\n",
      "var_x:0.100, var_e:1.000, var_r:1.000, AUC-ROC:0.944\n",
      "var_x:0.100, var_e:1.000, var_r:10.000, AUC-ROC:0.944\n",
      "var_x:0.100, var_e:1.000, var_r:100.000, AUC-ROC:0.944\n",
      "var_x:0.100, var_e:10.000, var_r:0.001, AUC-ROC:0.944\n",
      "var_x:0.100, var_e:10.000, var_r:0.010, AUC-ROC:0.944\n",
      "var_x:0.100, var_e:10.000, var_r:0.100, AUC-ROC:0.944\n",
      "var_x:0.100, var_e:10.000, var_r:1.000, AUC-ROC:0.944\n",
      "var_x:0.100, var_e:10.000, var_r:10.000, AUC-ROC:0.944\n",
      "var_x:0.100, var_e:10.000, var_r:100.000, AUC-ROC:0.944\n",
      "var_x:0.100, var_e:100.000, var_r:0.001, AUC-ROC:0.931\n",
      "var_x:0.100, var_e:100.000, var_r:0.010, AUC-ROC:0.931\n",
      "var_x:0.100, var_e:100.000, var_r:0.100, AUC-ROC:0.931\n",
      "var_x:0.100, var_e:100.000, var_r:1.000, AUC-ROC:0.931\n",
      "var_x:0.100, var_e:100.000, var_r:10.000, AUC-ROC:0.931\n",
      "var_x:0.100, var_e:100.000, var_r:100.000, AUC-ROC:0.931\n",
      "var_x:1.000, var_e:0.001, var_r:0.001, AUC-ROC:0.944\n",
      "var_x:1.000, var_e:0.001, var_r:0.010, AUC-ROC:0.944\n",
      "var_x:1.000, var_e:0.001, var_r:0.100, AUC-ROC:0.944\n",
      "var_x:1.000, var_e:0.001, var_r:1.000, AUC-ROC:0.944\n",
      "var_x:1.000, var_e:0.001, var_r:10.000, AUC-ROC:0.944\n",
      "var_x:1.000, var_e:0.001, var_r:100.000, AUC-ROC:0.944\n",
      "var_x:1.000, var_e:0.010, var_r:0.001, AUC-ROC:0.944\n",
      "var_x:1.000, var_e:0.010, var_r:0.010, AUC-ROC:0.944\n",
      "var_x:1.000, var_e:0.010, var_r:0.100, AUC-ROC:0.944\n",
      "var_x:1.000, var_e:0.010, var_r:1.000, AUC-ROC:0.944\n",
      "var_x:1.000, var_e:0.010, var_r:10.000, AUC-ROC:0.944\n",
      "var_x:1.000, var_e:0.010, var_r:100.000, AUC-ROC:0.944\n",
      "var_x:1.000, var_e:0.100, var_r:0.001, AUC-ROC:0.944\n",
      "var_x:1.000, var_e:0.100, var_r:0.010, AUC-ROC:0.944\n",
      "var_x:1.000, var_e:0.100, var_r:0.100, AUC-ROC:0.944\n",
      "var_x:1.000, var_e:0.100, var_r:1.000, AUC-ROC:0.944\n",
      "var_x:1.000, var_e:0.100, var_r:10.000, AUC-ROC:0.944\n",
      "var_x:1.000, var_e:0.100, var_r:100.000, AUC-ROC:0.944\n",
      "var_x:1.000, var_e:1.000, var_r:0.001, AUC-ROC:0.944\n",
      "var_x:1.000, var_e:1.000, var_r:0.010, AUC-ROC:0.944\n",
      "var_x:1.000, var_e:1.000, var_r:0.100, AUC-ROC:0.944\n",
      "var_x:1.000, var_e:1.000, var_r:1.000, AUC-ROC:0.944\n",
      "var_x:1.000, var_e:1.000, var_r:10.000, AUC-ROC:0.944\n",
      "var_x:1.000, var_e:1.000, var_r:100.000, AUC-ROC:0.944\n",
      "var_x:1.000, var_e:10.000, var_r:0.001, AUC-ROC:0.929\n",
      "var_x:1.000, var_e:10.000, var_r:0.010, AUC-ROC:0.929\n",
      "var_x:1.000, var_e:10.000, var_r:0.100, AUC-ROC:0.929\n",
      "var_x:1.000, var_e:10.000, var_r:1.000, AUC-ROC:0.929\n",
      "var_x:1.000, var_e:10.000, var_r:10.000, AUC-ROC:0.929\n",
      "var_x:1.000, var_e:10.000, var_r:100.000, AUC-ROC:0.929\n",
      "var_x:1.000, var_e:100.000, var_r:0.001, AUC-ROC:0.931\n",
      "var_x:1.000, var_e:100.000, var_r:0.010, AUC-ROC:0.931\n",
      "var_x:1.000, var_e:100.000, var_r:0.100, AUC-ROC:0.931\n",
      "var_x:1.000, var_e:100.000, var_r:1.000, AUC-ROC:0.931\n",
      "var_x:1.000, var_e:100.000, var_r:10.000, AUC-ROC:0.931\n",
      "var_x:1.000, var_e:100.000, var_r:100.000, AUC-ROC:0.931\n",
      "var_x:10.000, var_e:0.001, var_r:0.001, AUC-ROC:0.944\n",
      "var_x:10.000, var_e:0.001, var_r:0.010, AUC-ROC:0.944\n",
      "var_x:10.000, var_e:0.001, var_r:0.100, AUC-ROC:0.944\n",
      "var_x:10.000, var_e:0.001, var_r:1.000, AUC-ROC:0.944\n",
      "var_x:10.000, var_e:0.001, var_r:10.000, AUC-ROC:0.944\n",
      "var_x:10.000, var_e:0.001, var_r:100.000, AUC-ROC:0.944\n",
      "var_x:10.000, var_e:0.010, var_r:0.001, AUC-ROC:0.944\n",
      "var_x:10.000, var_e:0.010, var_r:0.010, AUC-ROC:0.944\n",
      "var_x:10.000, var_e:0.010, var_r:0.100, AUC-ROC:0.944\n",
      "var_x:10.000, var_e:0.010, var_r:1.000, AUC-ROC:0.944\n",
      "var_x:10.000, var_e:0.010, var_r:10.000, AUC-ROC:0.944\n",
      "var_x:10.000, var_e:0.010, var_r:100.000, AUC-ROC:0.944\n",
      "var_x:10.000, var_e:0.100, var_r:0.001, AUC-ROC:0.944\n",
      "var_x:10.000, var_e:0.100, var_r:0.010, AUC-ROC:0.944\n",
      "var_x:10.000, var_e:0.100, var_r:0.100, AUC-ROC:0.944\n",
      "var_x:10.000, var_e:0.100, var_r:1.000, AUC-ROC:0.944\n",
      "var_x:10.000, var_e:0.100, var_r:10.000, AUC-ROC:0.944\n",
      "var_x:10.000, var_e:0.100, var_r:100.000, AUC-ROC:0.944\n",
      "var_x:10.000, var_e:1.000, var_r:0.001, AUC-ROC:0.930\n",
      "var_x:10.000, var_e:1.000, var_r:0.010, AUC-ROC:0.930\n",
      "var_x:10.000, var_e:1.000, var_r:0.100, AUC-ROC:0.930\n",
      "var_x:10.000, var_e:1.000, var_r:1.000, AUC-ROC:0.930\n",
      "var_x:10.000, var_e:1.000, var_r:10.000, AUC-ROC:0.930\n",
      "var_x:10.000, var_e:1.000, var_r:100.000, AUC-ROC:0.930\n",
      "var_x:10.000, var_e:10.000, var_r:0.001, AUC-ROC:0.931\n",
      "var_x:10.000, var_e:10.000, var_r:0.010, AUC-ROC:0.931\n",
      "var_x:10.000, var_e:10.000, var_r:0.100, AUC-ROC:0.931\n",
      "var_x:10.000, var_e:10.000, var_r:1.000, AUC-ROC:0.931\n",
      "var_x:10.000, var_e:10.000, var_r:10.000, AUC-ROC:0.931\n",
      "var_x:10.000, var_e:10.000, var_r:100.000, AUC-ROC:0.931\n",
      "var_x:10.000, var_e:100.000, var_r:0.001, AUC-ROC:0.500\n",
      "var_x:10.000, var_e:100.000, var_r:0.010, AUC-ROC:0.500\n",
      "var_x:10.000, var_e:100.000, var_r:0.100, AUC-ROC:0.500\n",
      "var_x:10.000, var_e:100.000, var_r:1.000, AUC-ROC:0.500\n",
      "var_x:10.000, var_e:100.000, var_r:10.000, AUC-ROC:0.500\n",
      "var_x:10.000, var_e:100.000, var_r:100.000, AUC-ROC:0.500\n",
      "var_x:100.000, var_e:0.001, var_r:0.001, AUC-ROC:0.944\n",
      "var_x:100.000, var_e:0.001, var_r:0.010, AUC-ROC:0.944\n",
      "var_x:100.000, var_e:0.001, var_r:0.100, AUC-ROC:0.944\n",
      "var_x:100.000, var_e:0.001, var_r:1.000, AUC-ROC:0.944\n",
      "var_x:100.000, var_e:0.001, var_r:10.000, AUC-ROC:0.944\n",
      "var_x:100.000, var_e:0.001, var_r:100.000, AUC-ROC:0.944\n",
      "var_x:100.000, var_e:0.010, var_r:0.001, AUC-ROC:0.931\n",
      "var_x:100.000, var_e:0.010, var_r:0.010, AUC-ROC:0.931\n",
      "var_x:100.000, var_e:0.010, var_r:0.100, AUC-ROC:0.931\n",
      "var_x:100.000, var_e:0.010, var_r:1.000, AUC-ROC:0.931\n",
      "var_x:100.000, var_e:0.010, var_r:10.000, AUC-ROC:0.931\n",
      "var_x:100.000, var_e:0.010, var_r:100.000, AUC-ROC:0.931\n",
      "var_x:100.000, var_e:0.100, var_r:0.001, AUC-ROC:0.931\n",
      "var_x:100.000, var_e:0.100, var_r:0.010, AUC-ROC:0.931\n",
      "var_x:100.000, var_e:0.100, var_r:0.100, AUC-ROC:0.931\n",
      "var_x:100.000, var_e:0.100, var_r:1.000, AUC-ROC:0.931\n",
      "var_x:100.000, var_e:0.100, var_r:10.000, AUC-ROC:0.931\n",
      "var_x:100.000, var_e:0.100, var_r:100.000, AUC-ROC:0.931\n",
      "var_x:100.000, var_e:1.000, var_r:0.001, AUC-ROC:0.707\n",
      "var_x:100.000, var_e:1.000, var_r:0.010, AUC-ROC:0.707\n",
      "var_x:100.000, var_e:1.000, var_r:0.100, AUC-ROC:0.707\n",
      "var_x:100.000, var_e:1.000, var_r:1.000, AUC-ROC:0.707\n",
      "var_x:100.000, var_e:1.000, var_r:10.000, AUC-ROC:0.707\n",
      "var_x:100.000, var_e:1.000, var_r:100.000, AUC-ROC:0.707\n",
      "var_x:100.000, var_e:10.000, var_r:0.001, AUC-ROC:0.500\n",
      "var_x:100.000, var_e:10.000, var_r:0.010, AUC-ROC:0.500\n",
      "var_x:100.000, var_e:10.000, var_r:0.100, AUC-ROC:0.500\n",
      "var_x:100.000, var_e:10.000, var_r:1.000, AUC-ROC:0.500\n",
      "var_x:100.000, var_e:10.000, var_r:10.000, AUC-ROC:0.500\n",
      "var_x:100.000, var_e:10.000, var_r:100.000, AUC-ROC:0.500\n",
      "var_x:100.000, var_e:100.000, var_r:0.001, AUC-ROC:0.500\n",
      "var_x:100.000, var_e:100.000, var_r:0.010, AUC-ROC:0.500\n",
      "var_x:100.000, var_e:100.000, var_r:0.100, AUC-ROC:0.500\n",
      "var_x:100.000, var_e:100.000, var_r:1.000, AUC-ROC:0.500\n",
      "var_x:100.000, var_e:100.000, var_r:10.000, AUC-ROC:0.500\n",
      "var_x:100.000, var_e:100.000, var_r:100.000, AUC-ROC:0.500\n",
      "(10.0, 0.1, 0.001) 0.943742194506\n"
     ]
    }
   ],
   "source": [
    "var_list = [0.001, 0.01, 0.1, 1., 10., 100.]\n",
    "best_roc = 0\n",
    "for (var_x, var_e, var_r) in itertools.product(var_list,repeat=3):\n",
    "    A, R, f, itr, exectimes = rescal.rescal_als(X, n_dim, lambda_A=var_x, lambda_R=var_e, lambda_V=var_r)\n",
    "    _X = np.zeros_like(T)\n",
    "    for k in range(T.shape[0]):\n",
    "        _X[k] = np.dot(np.dot(A, R[k]), A.T)\n",
    "    score = roc_auc_score(T.flatten(), _X.flatten())\n",
    "    print('var_x:{0:3.3f}, var_e:{1:3.3f}, var_r:{2:3.3f}, AUC-ROC:{3:.3f}'.format(var_x, var_e, var_r, score))\n",
    "    if score > best_roc:\n",
    "        best_vars = (var_x, var_e, var_r)\n",
    "        best_model = model\n",
    "        best_roc = score\n",
    "        \n",
    "lambda_a, lambda_r, lambda_v = best_vars\n",
    "print(best_vars, best_roc)"
   ]
  },
  {
   "cell_type": "code",
   "execution_count": null,
   "metadata": {
    "collapsed": true
   },
   "outputs": [],
   "source": []
  }
 ],
 "metadata": {
  "kernelspec": {
   "display_name": "Python 3",
   "language": "python",
   "name": "python3"
  },
  "language_info": {
   "codemirror_mode": {
    "name": "ipython",
    "version": 3
   },
   "file_extension": ".py",
   "mimetype": "text/x-python",
   "name": "python",
   "nbconvert_exporter": "python",
   "pygments_lexer": "ipython3",
   "version": "3.4.3"
  }
 },
 "nbformat": 4,
 "nbformat_minor": 0
}
