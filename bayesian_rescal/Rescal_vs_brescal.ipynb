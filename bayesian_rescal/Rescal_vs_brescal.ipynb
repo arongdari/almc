{
 "cells": [
  {
   "cell_type": "markdown",
   "metadata": {},
   "source": [
    "# RESCAL vs BayesianRESCAL on KINSHIP dataset"
   ]
  },
  {
   "cell_type": "code",
   "execution_count": 55,
   "metadata": {
    "collapsed": false
   },
   "outputs": [],
   "source": [
    "import numpy as np\n",
    "import logging\n",
    "from brescal import BayesianRescal\n",
    "from scipy.io.matlab import loadmat\n",
    "from scipy.sparse import csr_matrix\n",
    "import matplotlib\n",
    "import matplotlib.pyplot as plt\n",
    "%matplotlib inline  \n",
    "\n",
    "import rescal\n",
    "\n",
    "logger = logging.getLogger()\n",
    "logger.setLevel(logging.INFO)"
   ]
  },
  {
   "cell_type": "code",
   "execution_count": 56,
   "metadata": {
    "collapsed": false
   },
   "outputs": [
    {
     "name": "stdout",
     "output_type": "stream",
     "text": [
      "(26, 104, 104)\n"
     ]
    }
   ],
   "source": [
    "mat = loadmat('../data/alyawarradata.mat')\n",
    "T = np.array(mat['Rs'], np.float32)\n",
    "\n",
    "D = 5\n",
    "T = np.swapaxes(T, 1, 2)\n",
    "T = np.swapaxes(T, 0, 1)  # [relation, entity, entity]\n",
    "num_relation, num_entity, _ = T.shape\n",
    "print(T.shape)"
   ]
  },
  {
   "cell_type": "code",
   "execution_count": 57,
   "metadata": {
    "collapsed": false
   },
   "outputs": [],
   "source": [
    "import itertools\n",
    "trainT = np.zeros_like(T)\n",
    "p = 1\n",
    "for k in range(num_relation):\n",
    "    for i,j in itertools.product(range(num_entity),repeat=2):\n",
    "        if T[k, i, j] and np.random.binomial(1, p):\n",
    "            trainT[k, i, j] = 1"
   ]
  },
  {
   "cell_type": "markdown",
   "metadata": {},
   "source": [
    "## Training RESCAL"
   ]
  },
  {
   "cell_type": "markdown",
   "metadata": {},
   "source": [
    "```output = fit (normalized reconstruction error) | changes in fit | elapsed time```"
   ]
  },
  {
   "cell_type": "code",
   "execution_count": 58,
   "metadata": {
    "collapsed": false
   },
   "outputs": [
    {
     "name": "stderr",
     "output_type": "stream",
     "text": [
      "INFO:RESCAL:[  0] fit: 0.14301 | delta: 1.4e-01 | secs: 0.01207\n",
      "INFO:RESCAL:[  1] fit: 0.20000 | delta: 5.7e-02 | secs: 0.01414\n",
      "INFO:RESCAL:[  2] fit: 0.22227 | delta: 2.2e-02 | secs: 0.01595\n",
      "INFO:RESCAL:[  3] fit: 0.23262 | delta: 1.0e-02 | secs: 0.01381\n",
      "INFO:RESCAL:[  4] fit: 0.24004 | delta: 7.4e-03 | secs: 0.01330\n",
      "INFO:RESCAL:[  5] fit: 0.24663 | delta: 6.6e-03 | secs: 0.01492\n",
      "INFO:RESCAL:[  6] fit: 0.25038 | delta: 3.7e-03 | secs: 0.01532\n",
      "INFO:RESCAL:[  7] fit: 0.25203 | delta: 1.7e-03 | secs: 0.01359\n",
      "INFO:RESCAL:[  8] fit: 0.25284 | delta: 8.1e-04 | secs: 0.01498\n",
      "INFO:RESCAL:[  9] fit: 0.25329 | delta: 4.5e-04 | secs: 0.01493\n",
      "INFO:RESCAL:[ 10] fit: 0.25356 | delta: 2.6e-04 | secs: 0.01486\n",
      "INFO:RESCAL:[ 11] fit: 0.25372 | delta: 1.6e-04 | secs: 0.01542\n",
      "INFO:RESCAL:[ 12] fit: 0.25383 | delta: 1.1e-04 | secs: 0.01617\n",
      "INFO:RESCAL:[ 13] fit: 0.25390 | delta: 7.9e-05 | secs: 0.01633\n"
     ]
    }
   ],
   "source": [
    "X = list()\n",
    "for k in range(num_relation):\n",
    "    X.append(csr_matrix(trainT[k]))\n",
    "    \n",
    "A, R, f, itr, exectimes = rescal.rescal_als(X, D)"
   ]
  },
  {
   "cell_type": "markdown",
   "metadata": {},
   "source": [
    "## Training BayesianRESCAL"
   ]
  },
  {
   "cell_type": "markdown",
   "metadata": {},
   "source": [
    "```output = log-likelihood | fit | elapsed time```"
   ]
  },
  {
   "cell_type": "code",
   "execution_count": 59,
   "metadata": {
    "collapsed": false,
    "scrolled": true
   },
   "outputs": [
    {
     "name": "stderr",
     "output_type": "stream",
     "text": [
      "INFO:brescal:[  0] LL: -5960.260 | fit: -0.05770 |  sec: 0.206\n",
      "INFO:brescal:[  1] LL: -5804.599 | fit: -0.05902 |  sec: 0.208\n",
      "INFO:brescal:[  2] LL: -5758.575 | fit: -0.05865 |  sec: 0.190\n",
      "INFO:brescal:[  3] LL: -5715.261 | fit: -0.05390 |  sec: 0.199\n",
      "INFO:brescal:[  4] LL: -5644.974 | fit: -0.04051 |  sec: 0.271\n",
      "INFO:brescal:[  5] LL: -5425.924 | fit: 0.00568 |  sec: 0.224\n",
      "INFO:brescal:[  6] LL: -5179.480 | fit: 0.05885 |  sec: 0.199\n",
      "INFO:brescal:[  7] LL: -5078.191 | fit: 0.08469 |  sec: 0.200\n",
      "INFO:brescal:[  8] LL: -4995.866 | fit: 0.10293 |  sec: 0.188\n",
      "INFO:brescal:[  9] LL: -4956.870 | fit: 0.11305 |  sec: 0.192\n",
      "INFO:brescal:[ 10] LL: -4941.775 | fit: 0.11890 |  sec: 0.186\n",
      "INFO:brescal:[ 11] LL: -4881.196 | fit: 0.13010 |  sec: 0.183\n",
      "INFO:brescal:[ 12] LL: -4859.562 | fit: 0.13119 |  sec: 0.187\n",
      "INFO:brescal:[ 13] LL: -4839.320 | fit: 0.13355 |  sec: 0.183\n",
      "INFO:brescal:[ 14] LL: -4840.061 | fit: 0.13498 |  sec: 0.186\n",
      "INFO:brescal:[ 15] LL: -4814.839 | fit: 0.14224 |  sec: 0.192\n",
      "INFO:brescal:[ 16] LL: -4852.636 | fit: 0.13754 |  sec: 0.184\n",
      "INFO:brescal:[ 17] LL: -4829.427 | fit: 0.13796 |  sec: 0.185\n",
      "INFO:brescal:[ 18] LL: -4909.057 | fit: 0.12561 |  sec: 0.186\n",
      "INFO:brescal:[ 19] LL: -4895.941 | fit: 0.13234 |  sec: 0.185\n"
     ]
    }
   ],
   "source": [
    "var_e = 1.; var_x = 1.; var_r = 1.\n",
    "model = BayesianRescal(D, var_e=var_e, var_x=var_x, var_r=var_r)\n",
    "model.fit(trainT, max_iter=20)"
   ]
  },
  {
   "cell_type": "markdown",
   "metadata": {},
   "source": [
    "## Compare both models by ROC-AUC"
   ]
  },
  {
   "cell_type": "markdown",
   "metadata": {},
   "source": [
    "#### ROC-AUC score of BRESCAL"
   ]
  },
  {
   "cell_type": "code",
   "execution_count": 60,
   "metadata": {
    "collapsed": false
   },
   "outputs": [
    {
     "name": "stdout",
     "output_type": "stream",
     "text": [
      "0.912949753695\n"
     ]
    }
   ],
   "source": [
    "from sklearn.metrics import roc_auc_score\n",
    "_T = model._reconstruct()\n",
    "print(roc_auc_score(T.flatten(), _T.flatten()))"
   ]
  },
  {
   "cell_type": "markdown",
   "metadata": {},
   "source": [
    "#### ROC-AUC score of RESCAL"
   ]
  },
  {
   "cell_type": "code",
   "execution_count": 61,
   "metadata": {
    "collapsed": false
   },
   "outputs": [
    {
     "name": "stdout",
     "output_type": "stream",
     "text": [
      "0.938404085088\n"
     ]
    }
   ],
   "source": [
    "_X = np.zeros_like(T)\n",
    "for k in range(T.shape[0]):\n",
    "    _X[k] = np.dot(np.dot(A, R[k]), A.T)\n",
    "print(roc_auc_score(T.flatten(), _X.flatten()))"
   ]
  },
  {
   "cell_type": "markdown",
   "metadata": {},
   "source": [
    "## Initialize Bayesian_RESCAL with RESCAL"
   ]
  },
  {
   "cell_type": "markdown",
   "metadata": {},
   "source": [
    "Let's see that Bayesian_RESCAL performs worse than RESCAL because it can't escape from local optimum."
   ]
  },
  {
   "cell_type": "code",
   "execution_count": 62,
   "metadata": {
    "collapsed": false
   },
   "outputs": [
    {
     "name": "stderr",
     "output_type": "stream",
     "text": [
      "INFO:RESCAL:[  0] fit: 0.14301 | delta: 1.4e-01 | secs: 0.01367\n",
      "INFO:RESCAL:[  1] fit: 0.20000 | delta: 5.7e-02 | secs: 0.01450\n",
      "INFO:RESCAL:[  2] fit: 0.22227 | delta: 2.2e-02 | secs: 0.01279\n",
      "INFO:RESCAL:[  3] fit: 0.23262 | delta: 1.0e-02 | secs: 0.01321\n",
      "INFO:RESCAL:[  4] fit: 0.24004 | delta: 7.4e-03 | secs: 0.01225\n",
      "INFO:RESCAL:[  5] fit: 0.24663 | delta: 6.6e-03 | secs: 0.01216\n",
      "INFO:RESCAL:[  6] fit: 0.25038 | delta: 3.7e-03 | secs: 0.01312\n",
      "INFO:RESCAL:[  7] fit: 0.25203 | delta: 1.7e-03 | secs: 0.01222\n",
      "INFO:RESCAL:[  8] fit: 0.25284 | delta: 8.1e-04 | secs: 0.01256\n",
      "INFO:RESCAL:[  9] fit: 0.25329 | delta: 4.5e-04 | secs: 0.01222\n",
      "INFO:RESCAL:[ 10] fit: 0.25356 | delta: 2.6e-04 | secs: 0.01260\n",
      "INFO:RESCAL:[ 11] fit: 0.25372 | delta: 1.6e-04 | secs: 0.01322\n",
      "INFO:RESCAL:[ 12] fit: 0.25383 | delta: 1.1e-04 | secs: 0.01231\n",
      "INFO:RESCAL:[ 13] fit: 0.25390 | delta: 7.9e-05 | secs: 0.01278\n",
      "INFO:brescal:[  0] LL: -4759.940 | fit: 0.14582 |  sec: 0.183\n",
      "INFO:brescal:[  1] LL: -4819.234 | fit: 0.13498 |  sec: 0.198\n",
      "INFO:brescal:[  2] LL: -4821.589 | fit: 0.13111 |  sec: 0.205\n",
      "INFO:brescal:[  3] LL: -4812.596 | fit: 0.13209 |  sec: 0.219\n",
      "INFO:brescal:[  4] LL: -4761.624 | fit: 0.14295 |  sec: 0.220\n"
     ]
    }
   ],
   "source": [
    "A, R, f, itr, exectimes = rescal.rescal_als(X, D)\n",
    "model = BayesianRescal(D, var_e=var_e, var_x=var_x, var_r=var_r)\n",
    "model.n_relations = num_relation\n",
    "model.n_entities = num_entity\n",
    "model.E = A\n",
    "model.R = np.zeros([num_relation, D, D])\n",
    "for k in range(num_relation):\n",
    "    model.R[k] = R[k]\n",
    "model._gibbs(trainT, max_iter=5)"
   ]
  },
  {
   "cell_type": "code",
   "execution_count": 63,
   "metadata": {
    "collapsed": false
   },
   "outputs": [
    {
     "name": "stdout",
     "output_type": "stream",
     "text": [
      "0.878177958976\n"
     ]
    }
   ],
   "source": [
    "from sklearn.metrics import roc_auc_score\n",
    "_T = model._reconstruct()\n",
    "print(roc_auc_score(T.flatten(), _T.flatten()))"
   ]
  }
 ],
 "metadata": {
  "kernelspec": {
   "display_name": "Python 3",
   "language": "python",
   "name": "python3"
  },
  "language_info": {
   "codemirror_mode": {
    "name": "ipython",
    "version": 3
   },
   "file_extension": ".py",
   "mimetype": "text/x-python",
   "name": "python",
   "nbconvert_exporter": "python",
   "pygments_lexer": "ipython3",
   "version": "3.4.3"
  }
 },
 "nbformat": 4,
 "nbformat_minor": 0
}
