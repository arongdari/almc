{
 "cells": [
  {
   "cell_type": "markdown",
   "metadata": {},
   "source": [
    "# RESCAL vs BRESCAL on KINSHIP dataset"
   ]
  },
  {
   "cell_type": "code",
   "execution_count": 1,
   "metadata": {
    "collapsed": false
   },
   "outputs": [],
   "source": [
    "import numpy as np\n",
    "import logging\n",
    "from brescal import BayesianRescal\n",
    "from scipy.io.matlab import loadmat\n",
    "from scipy.sparse import csr_matrix\n",
    "import rescal\n",
    "\n",
    "logger = logging.getLogger()\n",
    "logger.setLevel(logging.INFO)"
   ]
  },
  {
   "cell_type": "code",
   "execution_count": 2,
   "metadata": {
    "collapsed": false
   },
   "outputs": [
    {
     "name": "stdout",
     "output_type": "stream",
     "text": [
      "(26, 104, 104)\n"
     ]
    }
   ],
   "source": [
    "mat = loadmat('../data/alyawarradata.mat')\n",
    "T = np.array(mat['Rs'], np.float32)\n",
    "\n",
    "D = 10\n",
    "T = np.swapaxes(T, 1, 2)\n",
    "T = np.swapaxes(T, 0, 1)  # [relation, entity, entity]\n",
    "print(T.shape)"
   ]
  },
  {
   "cell_type": "code",
   "execution_count": 3,
   "metadata": {
    "collapsed": false
   },
   "outputs": [],
   "source": [
    "X = list()\n",
    "for k in range(T.shape[0]):\n",
    "    X.append(csr_matrix(T[k]))"
   ]
  },
  {
   "cell_type": "markdown",
   "metadata": {},
   "source": [
    "## Training RESCAL"
   ]
  },
  {
   "cell_type": "code",
   "execution_count": 4,
   "metadata": {
    "collapsed": false
   },
   "outputs": [
    {
     "name": "stderr",
     "output_type": "stream",
     "text": [
      "INFO:RESCAL:[  0] fit: 0.27769 | delta: 2.8e-01 | secs: 0.01237\n",
      "INFO:RESCAL:[  1] fit: 0.40272 | delta: 1.3e-01 | secs: 0.01403\n",
      "INFO:RESCAL:[  2] fit: 0.44362 | delta: 4.1e-02 | secs: 0.01600\n",
      "INFO:RESCAL:[  3] fit: 0.45316 | delta: 9.5e-03 | secs: 0.01364\n",
      "INFO:RESCAL:[  4] fit: 0.45624 | delta: 3.1e-03 | secs: 0.01642\n",
      "INFO:RESCAL:[  5] fit: 0.45793 | delta: 1.7e-03 | secs: 0.01500\n",
      "INFO:RESCAL:[  6] fit: 0.45907 | delta: 1.1e-03 | secs: 0.01440\n",
      "INFO:RESCAL:[  7] fit: 0.45988 | delta: 8.2e-04 | secs: 0.01491\n",
      "INFO:RESCAL:[  8] fit: 0.46047 | delta: 5.8e-04 | secs: 0.01607\n",
      "INFO:RESCAL:[  9] fit: 0.46087 | delta: 4.0e-04 | secs: 0.01639\n",
      "INFO:RESCAL:[ 10] fit: 0.46113 | delta: 2.7e-04 | secs: 0.01399\n",
      "INFO:RESCAL:[ 11] fit: 0.46131 | delta: 1.7e-04 | secs: 0.01520\n",
      "INFO:RESCAL:[ 12] fit: 0.46141 | delta: 1.1e-04 | secs: 0.01466\n",
      "INFO:RESCAL:[ 13] fit: 0.46148 | delta: 6.8e-05 | secs: 0.01471\n",
      "INFO:RESCAL:[ 14] fit: 0.46152 | delta: 4.2e-05 | secs: 0.01442\n",
      "INFO:RESCAL:[ 15] fit: 0.46155 | delta: 2.6e-05 | secs: 0.01492\n",
      "INFO:RESCAL:[ 16] fit: 0.46157 | delta: 1.6e-05 | secs: 0.01546\n",
      "INFO:RESCAL:[ 17] fit: 0.46158 | delta: 1.0e-05 | secs: 0.01748\n",
      "INFO:RESCAL:[ 18] fit: 0.46158 | delta: 6.5e-06 | secs: 0.01375\n",
      "INFO:RESCAL:[ 19] fit: 0.46159 | delta: 4.3e-06 | secs: 0.01701\n",
      "INFO:RESCAL:[ 20] fit: 0.46159 | delta: 2.9e-06 | secs: 0.01999\n",
      "INFO:RESCAL:[ 21] fit: 0.46159 | delta: 2.0e-06 | secs: 0.01362\n",
      "INFO:RESCAL:[ 22] fit: 0.46159 | delta: 1.4e-06 | secs: 0.01680\n",
      "INFO:RESCAL:[ 23] fit: 0.46159 | delta: 9.8e-07 | secs: 0.01536\n",
      "INFO:RESCAL:[ 24] fit: 0.46159 | delta: 7.1e-07 | secs: 0.01543\n",
      "INFO:RESCAL:[ 25] fit: 0.46159 | delta: 5.3e-07 | secs: 0.01698\n",
      "INFO:RESCAL:[ 26] fit: 0.46160 | delta: 3.9e-07 | secs: 0.01585\n",
      "INFO:RESCAL:[ 27] fit: 0.46160 | delta: 2.9e-07 | secs: 0.01517\n",
      "INFO:RESCAL:[ 28] fit: 0.46160 | delta: 2.2e-07 | secs: 0.01537\n",
      "INFO:RESCAL:[ 29] fit: 0.46160 | delta: 1.6e-07 | secs: 0.01549\n",
      "INFO:RESCAL:[ 30] fit: 0.46160 | delta: 1.2e-07 | secs: 0.01615\n",
      "INFO:RESCAL:[ 31] fit: 0.46160 | delta: 8.8e-08 | secs: 0.01593\n"
     ]
    }
   ],
   "source": [
    "A, R, f, itr, exectimes = rescal.rescal_als(X, D, lambda_A=1., lambda_R=1., lambda_V=1., conv=1e-7)"
   ]
  },
  {
   "cell_type": "markdown",
   "metadata": {},
   "source": [
    "### Sum of absolute difference between training & reconstructed tensor"
   ]
  },
  {
   "cell_type": "code",
   "execution_count": 5,
   "metadata": {
    "collapsed": false
   },
   "outputs": [
    {
     "name": "stdout",
     "output_type": "stream",
     "text": [
      "13602.5352998\n"
     ]
    }
   ],
   "source": [
    "r_error = 0\n",
    "for k in range(T.shape[0]):\n",
    "    r_error += np.sum(np.abs(X[k] - np.dot(A, np.dot(R[k], A.T))))\n",
    "print(r_error)"
   ]
  },
  {
   "cell_type": "markdown",
   "metadata": {},
   "source": [
    "## Training BRESCAL\n",
    "output = log-likelihood | fit(same as rescal) | reconstruction error | elapsed time"
   ]
  },
  {
   "cell_type": "code",
   "execution_count": 8,
   "metadata": {
    "collapsed": false
   },
   "outputs": [
    {
     "name": "stderr",
     "output_type": "stream",
     "text": [
      "INFO:brescal:[  0] LL: -7168.084 | fit: -0.24023 | r_error: 31056.276 | sec: 23.717\n",
      "INFO:brescal:[  1] LL: -6765.410 | fit: -0.22943 | r_error: 31330.334 | sec: 23.416\n",
      "INFO:brescal:[  2] LL: -6450.716 | fit: -0.18208 | r_error: 31151.977 | sec: 23.174\n",
      "INFO:brescal:[  3] LL: -6163.941 | fit: -0.09584 | r_error: 30719.674 | sec: 23.085\n",
      "INFO:brescal:[  4] LL: -5985.478 | fit: 0.01450 | r_error: 27853.141 | sec: 22.485\n",
      "INFO:brescal:[  5] LL: -6045.536 | fit: 0.05220 | r_error: 26268.135 | sec: 24.220\n",
      "INFO:brescal:[  6] LL: -5960.362 | fit: 0.08622 | r_error: 25179.227 | sec: 1585.807\n",
      "INFO:brescal:[  7] LL: -5986.730 | fit: 0.08716 | r_error: 25815.982 | sec: 25.193\n",
      "INFO:brescal:[  8] LL: -5888.989 | fit: 0.10672 | r_error: 26108.126 | sec: 26.794\n",
      "INFO:brescal:[  9] LL: -5748.285 | fit: 0.12596 | r_error: 25283.767 | sec: 24.386\n",
      "INFO:brescal:[ 10] LL: -5782.145 | fit: 0.13152 | r_error: 25895.003 | sec: 24.653\n",
      "INFO:brescal:[ 11] LL: -5752.581 | fit: 0.12467 | r_error: 25518.474 | sec: 23.301\n",
      "INFO:brescal:[ 12] LL: -5716.094 | fit: 0.14068 | r_error: 25876.690 | sec: 23.302\n",
      "INFO:brescal:[ 13] LL: -5655.165 | fit: 0.14896 | r_error: 25757.143 | sec: 24.291\n",
      "INFO:brescal:[ 14] LL: -5674.069 | fit: 0.14675 | r_error: 25881.736 | sec: 23.848\n",
      "INFO:brescal:[ 15] LL: -5664.869 | fit: 0.14745 | r_error: 25993.365 | sec: 24.501\n",
      "INFO:brescal:[ 16] LL: -5736.792 | fit: 0.13249 | r_error: 26361.731 | sec: 24.349\n",
      "INFO:brescal:[ 17] LL: -5746.146 | fit: 0.14377 | r_error: 25350.518 | sec: 23.676\n",
      "INFO:brescal:[ 18] LL: -5698.222 | fit: 0.14005 | r_error: 25296.918 | sec: 22.373\n",
      "INFO:brescal:[ 19] LL: -5698.430 | fit: 0.13155 | r_error: 25836.989 | sec: 22.499\n",
      "INFO:brescal:[ 20] LL: -5775.934 | fit: 0.12342 | r_error: 25913.949 | sec: 22.669\n",
      "INFO:brescal:[ 21] LL: -5751.598 | fit: 0.13642 | r_error: 24985.439 | sec: 22.042\n",
      "INFO:brescal:[ 22] LL: -5685.353 | fit: 0.14479 | r_error: 25286.120 | sec: 22.066\n",
      "INFO:brescal:[ 23] LL: -5718.016 | fit: 0.13844 | r_error: 25862.768 | sec: 22.093\n",
      "INFO:brescal:[ 24] LL: -5755.264 | fit: 0.13788 | r_error: 25296.357 | sec: 22.114\n",
      "INFO:brescal:[ 25] LL: -5679.621 | fit: 0.13517 | r_error: 25190.412 | sec: 22.023\n",
      "INFO:brescal:[ 26] LL: -5711.547 | fit: 0.12636 | r_error: 26401.654 | sec: 22.014\n",
      "INFO:brescal:[ 27] LL: -5711.875 | fit: 0.13908 | r_error: 25321.326 | sec: 22.045\n",
      "INFO:brescal:[ 28] LL: -5635.619 | fit: 0.14419 | r_error: 25314.091 | sec: 22.020\n",
      "INFO:brescal:[ 29] LL: -5631.203 | fit: 0.14747 | r_error: 25982.143 | sec: 22.631\n",
      "INFO:brescal:[ 30] LL: -5674.224 | fit: 0.14387 | r_error: 26297.247 | sec: 22.002\n",
      "INFO:brescal:[ 31] LL: -5678.088 | fit: 0.14461 | r_error: 26132.978 | sec: 22.014\n",
      "INFO:brescal:[ 32] LL: -5648.178 | fit: 0.14434 | r_error: 25843.327 | sec: 22.034\n",
      "INFO:brescal:[ 33] LL: -5690.748 | fit: 0.14470 | r_error: 26206.640 | sec: 22.044\n",
      "INFO:brescal:[ 34] LL: -5589.134 | fit: 0.15123 | r_error: 25660.479 | sec: 22.169\n",
      "INFO:brescal:[ 35] LL: -5756.811 | fit: 0.13738 | r_error: 25797.355 | sec: 22.091\n",
      "INFO:brescal:[ 36] LL: -5738.904 | fit: 0.13182 | r_error: 25541.269 | sec: 21.977\n",
      "INFO:brescal:[ 37] LL: -5738.447 | fit: 0.13217 | r_error: 25123.331 | sec: 22.016\n",
      "INFO:brescal:[ 38] LL: -5699.242 | fit: 0.14023 | r_error: 25810.732 | sec: 21.961\n",
      "INFO:brescal:[ 39] LL: -5620.732 | fit: 0.14098 | r_error: 25536.527 | sec: 22.003\n",
      "INFO:brescal:[ 40] LL: -5695.824 | fit: 0.13915 | r_error: 25832.916 | sec: 21.999\n",
      "INFO:brescal:[ 41] LL: -5690.691 | fit: 0.13822 | r_error: 26103.194 | sec: 22.051\n",
      "INFO:brescal:[ 42] LL: -5644.363 | fit: 0.14710 | r_error: 25242.655 | sec: 22.103\n",
      "INFO:brescal:[ 43] LL: -5674.319 | fit: 0.13400 | r_error: 26287.366 | sec: 22.039\n",
      "INFO:brescal:[ 44] LL: -5644.244 | fit: 0.13985 | r_error: 26118.740 | sec: 22.067\n",
      "INFO:brescal:[ 45] LL: -5708.667 | fit: 0.14053 | r_error: 25810.075 | sec: 22.039\n",
      "INFO:brescal:[ 46] LL: -5661.094 | fit: 0.14186 | r_error: 25928.252 | sec: 21.983\n",
      "INFO:brescal:[ 47] LL: -5663.303 | fit: 0.14420 | r_error: 25611.820 | sec: 23.547\n",
      "INFO:brescal:[ 48] LL: -5730.173 | fit: 0.13536 | r_error: 26044.535 | sec: 22.635\n",
      "INFO:brescal:[ 49] LL: -5667.261 | fit: 0.14313 | r_error: 26162.112 | sec: 21.966\n",
      "INFO:brescal:[ 50] LL: -5726.154 | fit: 0.13917 | r_error: 26075.816 | sec: 22.059\n",
      "INFO:brescal:[ 51] LL: -5717.882 | fit: 0.13268 | r_error: 26042.361 | sec: 22.103\n",
      "INFO:brescal:[ 52] LL: -5636.611 | fit: 0.14574 | r_error: 25824.562 | sec: 22.028\n",
      "INFO:brescal:[ 53] LL: -5722.622 | fit: 0.13233 | r_error: 26735.420 | sec: 21.979\n",
      "INFO:brescal:[ 54] LL: -5699.049 | fit: 0.13706 | r_error: 25971.966 | sec: 22.049\n",
      "INFO:brescal:[ 55] LL: -5749.568 | fit: 0.13592 | r_error: 25502.114 | sec: 22.000\n",
      "INFO:brescal:[ 56] LL: -5683.041 | fit: 0.14179 | r_error: 25578.316 | sec: 22.150\n",
      "INFO:brescal:[ 57] LL: -5684.687 | fit: 0.13424 | r_error: 25346.089 | sec: 22.037\n",
      "INFO:brescal:[ 58] LL: -5773.545 | fit: 0.12420 | r_error: 26331.276 | sec: 22.060\n",
      "INFO:brescal:[ 59] LL: -5718.156 | fit: 0.13602 | r_error: 25878.544 | sec: 22.052\n",
      "INFO:brescal:[ 60] LL: -5736.383 | fit: 0.13040 | r_error: 25888.174 | sec: 22.077\n",
      "INFO:brescal:[ 61] LL: -5742.050 | fit: 0.13227 | r_error: 25771.369 | sec: 22.168\n",
      "INFO:brescal:[ 62] LL: -5819.829 | fit: 0.12199 | r_error: 26387.589 | sec: 21.995\n",
      "INFO:brescal:[ 63] LL: -5790.228 | fit: 0.13043 | r_error: 25892.174 | sec: 22.033\n",
      "INFO:brescal:[ 64] LL: -5768.918 | fit: 0.13448 | r_error: 25178.999 | sec: 22.087\n",
      "INFO:brescal:[ 65] LL: -5744.351 | fit: 0.13501 | r_error: 25654.847 | sec: 22.025\n",
      "INFO:brescal:[ 66] LL: -5767.204 | fit: 0.12317 | r_error: 25791.476 | sec: 22.014\n",
      "INFO:brescal:[ 67] LL: -5755.376 | fit: 0.12804 | r_error: 26055.983 | sec: 22.099\n",
      "INFO:brescal:[ 68] LL: -5745.343 | fit: 0.13836 | r_error: 25631.498 | sec: 22.048\n",
      "INFO:brescal:[ 69] LL: -5765.130 | fit: 0.13775 | r_error: 25562.576 | sec: 22.000\n",
      "INFO:brescal:[ 70] LL: -5724.308 | fit: 0.13069 | r_error: 25473.293 | sec: 22.553\n",
      "INFO:brescal:[ 71] LL: -5757.704 | fit: 0.12282 | r_error: 25986.896 | sec: 21.942\n",
      "INFO:brescal:[ 72] LL: -5760.776 | fit: 0.12630 | r_error: 25846.644 | sec: 21.093\n",
      "INFO:brescal:[ 73] LL: -5672.338 | fit: 0.14111 | r_error: 25828.757 | sec: 21.991\n",
      "INFO:brescal:[ 74] LL: -5653.632 | fit: 0.14863 | r_error: 25605.296 | sec: 22.112\n",
      "INFO:brescal:[ 75] LL: -5639.519 | fit: 0.13844 | r_error: 26173.147 | sec: 22.037\n",
      "INFO:brescal:[ 76] LL: -5719.505 | fit: 0.13610 | r_error: 26500.157 | sec: 22.070\n",
      "INFO:brescal:[ 77] LL: -5638.273 | fit: 0.14284 | r_error: 25461.735 | sec: 22.135\n",
      "INFO:brescal:[ 78] LL: -5622.871 | fit: 0.14264 | r_error: 26154.147 | sec: 22.076\n",
      "INFO:brescal:[ 79] LL: -5641.949 | fit: 0.14748 | r_error: 25769.139 | sec: 22.089\n",
      "INFO:brescal:[ 80] LL: -5653.749 | fit: 0.13883 | r_error: 25762.722 | sec: 22.036\n",
      "INFO:brescal:[ 81] LL: -5665.944 | fit: 0.13431 | r_error: 26040.217 | sec: 22.026\n",
      "INFO:brescal:[ 82] LL: -5631.331 | fit: 0.15184 | r_error: 25645.260 | sec: 22.051\n",
      "INFO:brescal:[ 83] LL: -5636.196 | fit: 0.14426 | r_error: 25745.199 | sec: 22.082\n",
      "INFO:brescal:[ 84] LL: -5635.329 | fit: 0.13571 | r_error: 26139.460 | sec: 22.057\n",
      "INFO:brescal:[ 85] LL: -5689.699 | fit: 0.13552 | r_error: 26199.289 | sec: 22.017\n",
      "INFO:brescal:[ 86] LL: -5730.688 | fit: 0.13727 | r_error: 26114.638 | sec: 22.136\n",
      "INFO:brescal:[ 87] LL: -5750.158 | fit: 0.13335 | r_error: 25836.837 | sec: 23.741\n",
      "INFO:brescal:[ 88] LL: -5741.360 | fit: 0.13485 | r_error: 25791.174 | sec: 24.891\n",
      "INFO:brescal:[ 89] LL: -5736.208 | fit: 0.13338 | r_error: 25385.261 | sec: 23.762\n",
      "INFO:brescal:[ 90] LL: -5687.483 | fit: 0.13667 | r_error: 25128.537 | sec: 21.909\n",
      "INFO:brescal:[ 91] LL: -5723.715 | fit: 0.13189 | r_error: 26006.564 | sec: 22.524\n",
      "INFO:brescal:[ 92] LL: -5813.684 | fit: 0.12851 | r_error: 26136.517 | sec: 21.898\n",
      "INFO:brescal:[ 93] LL: -5813.613 | fit: 0.12129 | r_error: 25504.812 | sec: 21.919\n",
      "INFO:brescal:[ 94] LL: -5726.258 | fit: 0.13005 | r_error: 25822.053 | sec: 21.982\n",
      "INFO:brescal:[ 95] LL: -5699.439 | fit: 0.13273 | r_error: 25654.875 | sec: 22.107\n",
      "INFO:brescal:[ 96] LL: -5711.575 | fit: 0.13240 | r_error: 25941.050 | sec: 21.862\n",
      "INFO:brescal:[ 97] LL: -5680.111 | fit: 0.14134 | r_error: 26082.642 | sec: 21.714\n",
      "INFO:brescal:[ 98] LL: -5734.515 | fit: 0.12997 | r_error: 26214.096 | sec: 21.604\n",
      "INFO:brescal:[ 99] LL: -5767.109 | fit: 0.13240 | r_error: 25753.884 | sec: 21.673\n"
     ]
    }
   ],
   "source": [
    "model = BayesianRescal(D)\n",
    "model.fit(T)"
   ]
  },
  {
   "cell_type": "code",
   "execution_count": null,
   "metadata": {
    "collapsed": true
   },
   "outputs": [],
   "source": []
  }
 ],
 "metadata": {
  "kernelspec": {
   "display_name": "Python 3",
   "language": "python",
   "name": "python3"
  },
  "language_info": {
   "codemirror_mode": {
    "name": "ipython",
    "version": 3
   },
   "file_extension": ".py",
   "mimetype": "text/x-python",
   "name": "python",
   "nbconvert_exporter": "python",
   "pygments_lexer": "ipython3",
   "version": "3.4.3"
  }
 },
 "nbformat": 4,
 "nbformat_minor": 0
}
