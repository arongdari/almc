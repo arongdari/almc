{
 "cells": [
  {
   "cell_type": "code",
   "execution_count": 2,
   "metadata": {
    "collapsed": true
   },
   "outputs": [],
   "source": [
    "import os\n",
    "import itertools\n",
    "import sys\n",
    "import numpy as np\n",
    "import pickle\n",
    "from scipy.io.matlab import loadmat\n",
    "from seq_brescal import PFBayesianRescal\n",
    "from seq_bcomp_rescal import PFBayesianCompRescal\n",
    "from seq_logit_brescal import PFBayesianLogitRescal\n",
    "from sklearn.metrics import mean_squared_error, roc_auc_score\n",
    "from runner import load_dataset\n",
    "import matplotlib\n",
    "import matplotlib.pyplot as plt\n",
    "from matplotlib.markers import MarkerStyle\n",
    "\n",
    "%matplotlib inline"
   ]
  },
  {
   "cell_type": "code",
   "execution_count": 3,
   "metadata": {
    "collapsed": true
   },
   "outputs": [],
   "source": [
    "def plot_result(result, ps, models, width = 0.006):\n",
    "    plt.figure()\n",
    "    fig, ax = plt.subplots(figsize=(12,8))\n",
    "    for model in models:\n",
    "        mean = np.zeros(len(ps))\n",
    "        std = np.zeros(len(ps))\n",
    "        for i, p in enumerate(ps):\n",
    "            mean[i] = np.mean(result[(model,p)])\n",
    "            std[i] = np.std(result[(model,p)])\n",
    "        ax.bar(ps + width*models.index(model), mean, width, color=color[models.index(model)], yerr=std, label=model)\n",
    "    ax.set_xticks(ps+width*2)\n",
    "    ax.set_xticklabels(['%.2f'% (p) for p in ps])\n",
    "    ax.legend(loc='upper left')\n",
    "    plt.show()"
   ]
  },
  {
   "cell_type": "code",
   "execution_count": 4,
   "metadata": {
    "collapsed": true
   },
   "outputs": [],
   "source": [
    "color = [(31, 119, 180), (174, 199, 232), (255, 127, 14), (255, 187, 120),    \n",
    "             (44, 160, 44), (152, 223, 138), (214, 39, 40), (255, 152, 150),    \n",
    "             (148, 103, 189), (197, 176, 213), (140, 86, 75), (196, 156, 148),    \n",
    "             (227, 119, 194), (247, 182, 210), (127, 127, 127), (199, 199, 199),    \n",
    "             (188, 189, 34), (219, 219, 141), (23, 190, 207), (158, 218, 229)]    \n",
    "  \n",
    "# Scale the RGB values to the [0, 1] range, which is the format matplotlib accepts.    \n",
    "for i in range(len(color)):    \n",
    "    r, g, b = color[i]    \n",
    "    color[i] = (r / 255., g / 255., b / 255.)"
   ]
  },
  {
   "cell_type": "markdown",
   "metadata": {},
   "source": [
    "# ps = np.linspace(0.05, 0.3, 6)"
   ]
  },
  {
   "cell_type": "code",
   "execution_count": 5,
   "metadata": {
    "collapsed": false
   },
   "outputs": [
    {
     "ename": "NameError",
     "evalue": "name 'legend_size' is not defined",
     "output_type": "error",
     "traceback": [
      "\u001b[0;31m---------------------------------------------------------------------------\u001b[0m",
      "\u001b[0;31mNameError\u001b[0m                                 Traceback (most recent call last)",
      "\u001b[0;32m<ipython-input-5-1aa79f84243b>\u001b[0m in \u001b[0;36m<module>\u001b[0;34m()\u001b[0m\n\u001b[1;32m     51\u001b[0m         \u001b[0mplt\u001b[0m\u001b[0;34m.\u001b[0m\u001b[0mylim\u001b[0m\u001b[0;34m(\u001b[0m\u001b[0;34m(\u001b[0m\u001b[0;36m0.4\u001b[0m\u001b[0;34m,\u001b[0m \u001b[0;36m1\u001b[0m\u001b[0;34m)\u001b[0m\u001b[0;34m)\u001b[0m\u001b[0;34m\u001b[0m\u001b[0m\n\u001b[1;32m     52\u001b[0m     \u001b[0;32mif\u001b[0m \u001b[0mdataset\u001b[0m \u001b[0;34m==\u001b[0m \u001b[0;34m'kinship'\u001b[0m\u001b[0;34m:\u001b[0m\u001b[0;34m\u001b[0m\u001b[0m\n\u001b[0;32m---> 53\u001b[0;31m         \u001b[0mplt\u001b[0m\u001b[0;34m.\u001b[0m\u001b[0mlegend\u001b[0m\u001b[0;34m(\u001b[0m\u001b[0mloc\u001b[0m\u001b[0;34m=\u001b[0m\u001b[0;34m'lower right'\u001b[0m\u001b[0;34m,\u001b[0m \u001b[0mprop\u001b[0m\u001b[0;34m=\u001b[0m\u001b[0;34m{\u001b[0m\u001b[0;34m'size'\u001b[0m\u001b[0;34m:\u001b[0m\u001b[0mlegend_size\u001b[0m\u001b[0;34m}\u001b[0m\u001b[0;34m)\u001b[0m\u001b[0;34m\u001b[0m\u001b[0m\n\u001b[0m\u001b[1;32m     54\u001b[0m     \u001b[0mplt\u001b[0m\u001b[0;34m.\u001b[0m\u001b[0msavefig\u001b[0m\u001b[0;34m(\u001b[0m\u001b[0;34m'../paper/images/comp_training_error_%s.pdf'\u001b[0m \u001b[0;34m%\u001b[0m \u001b[0;34m(\u001b[0m\u001b[0mdataset\u001b[0m\u001b[0;34m)\u001b[0m\u001b[0;34m,\u001b[0m \u001b[0mformat\u001b[0m\u001b[0;34m=\u001b[0m\u001b[0;34m'PDF'\u001b[0m\u001b[0;34m,\u001b[0m \u001b[0mbbox_inches\u001b[0m\u001b[0;34m=\u001b[0m\u001b[0;34m'tight'\u001b[0m\u001b[0;34m,\u001b[0m \u001b[0mpad_inches\u001b[0m\u001b[0;34m=\u001b[0m\u001b[0;36m0.1\u001b[0m\u001b[0;34m)\u001b[0m\u001b[0;34m\u001b[0m\u001b[0m\n",
      "\u001b[0;31mNameError\u001b[0m: name 'legend_size' is not defined"
     ]
    },
    {
     "data": {
      "image/png": "[encoded data removed]",
      "text/plain": [
       "<matplotlib.figure.Figure at 0x109fcc5f8>"
      ]
     },
     "metadata": {},
     "output_type": "display_data"
    },
    {
     "data": {
      "image/png": "[encoded data removed]",
      "text/plain": [
       "<matplotlib.figure.Figure at 0x109fcc6d8>"
      ]
     },
     "metadata": {},
     "output_type": "display_data"
    }
   ],
   "source": [
    "var_comps = dict()\n",
    "var_comps['nation'] = 10\n",
    "var_comps['kinship'] = 100\n",
    "var_comps['umls'] = 1\n",
    "var_x = 0.1\n",
    "    \n",
    "datasets = ['nation', 'kinship', 'umls']\n",
    "models = ['rescal', 'brescal', 'bcomp_mul', 'bcomp_add', 'logit']\n",
    "\n",
    "for dataset in datasets:\n",
    "    ps = np.linspace(0.05, 0.3, 6)\n",
    "    n_dim = 10\n",
    "    n_particle = 1\n",
    "\n",
    "    n_test = 10\n",
    "    max_iter = 1\n",
    "\n",
    "    title_size = 14\n",
    "    label_size = 12\n",
    "    legend_size=9\n",
    "\n",
    "    width = 0.16\n",
    "    result = pickle.load(open('../result/%s/training_error_10.pkl' % dataset, 'rb'))\n",
    "    rescal_result =  pickle.load(open('../result/%s/rescal_training_error_10.pkl' % dataset, 'rb'))\n",
    "\n",
    "    var_comp = var_comps[dataset]\n",
    "\n",
    "    plt.figure(figsize=(8,2.4))\n",
    "\n",
    "    for model in models:\n",
    "        mean = np.zeros(len(ps))\n",
    "        std = np.zeros(len(ps))\n",
    "        for i, p in enumerate(ps):\n",
    "            if model=='rescal':\n",
    "                mean[i] = np.mean(rescal_result[(model, p)])\n",
    "                std[i] = np.std(rescal_result[(model, p)])\n",
    "            else:            \n",
    "                mean[i] = np.mean(result[(model, p, var_comp)])\n",
    "                std[i] = np.std(result[(model, p, var_comp)])\n",
    "        model_name = model\n",
    "        if model == 'logit':\n",
    "            model_name ='blogit'\n",
    "        if model == 'brescal':            \n",
    "            model_name = 'bnormal'\n",
    "        plt.bar(np.arange(len(ps)) + width*models.index(model), mean, width, color=color[models.index(model)], yerr=std, label=model_name.upper())\n",
    "\n",
    "    plt.xticks(np.arange(len(ps)) + width*3, ['%.2f'% (p) for p in ps])\n",
    "    plt.title(dataset.upper(), size=title_size)\n",
    "    if dataset == 'nation':\n",
    "        plt.ylim((0.4, 0.9))\n",
    "    else:\n",
    "        plt.ylim((0.4, 1))     \n",
    "    if dataset == 'kinship':\n",
    "        plt.legend(loc='lower right', prop={'size':legend_size})\n",
    "    plt.savefig('../paper/images/comp_training_error_%s.pdf' % (dataset), format='PDF', bbox_inches='tight', pad_inches=0.1)"
   ]
  },
  {
   "cell_type": "markdown",
   "metadata": {},
   "source": [
    "# ps = np.linspace(0.01, 0.14, 14)"
   ]
  },
  {
   "cell_type": "code",
   "execution_count": 7,
   "metadata": {
    "collapsed": false
   },
   "outputs": [
    {
     "data": {
      "image/png": "[encoded data removed]",
      "text/plain": [
       "<matplotlib.figure.Figure at 0x10b633198>"
      ]
     },
     "metadata": {},
     "output_type": "display_data"
    },
    {
     "data": {
      "image/png": "[encoded data removed]",
      "text/plain": [
       "<matplotlib.figure.Figure at 0x10b7c5eb8>"
      ]
     },
     "metadata": {},
     "output_type": "display_data"
    },
    {
     "data": {
      "image/png": "[encoded data removed]",
      "text/plain": [
       "<matplotlib.figure.Figure at 0x10bdd4390>"
      ]
     },
     "metadata": {},
     "output_type": "display_data"
    }
   ],
   "source": [
    "var_comps = dict()\n",
    "var_comps['nation'] = 10\n",
    "var_comps['kinship'] = 100\n",
    "var_comps['umls'] = 1\n",
    "\n",
    "datasets = ['nation', 'kinship', 'umls']\n",
    "models = ['rescal', 'brescal', 'bcomp_mul', 'bcomp_add', 'logit']\n",
    "ps = np.linspace(0.01, 0.14, 14)\n",
    "ps = ps[::2]\n",
    "\n",
    "for dataset in datasets:\n",
    "    n_dim = 10\n",
    "    n_particle = 1\n",
    "    n_test = 10\n",
    "    max_iter = 1\n",
    "\n",
    "    title_size = 14\n",
    "    label_size = 12\n",
    "    legend_size=9\n",
    "\n",
    "    width = 0.18\n",
    "    if dataset == 'umls':\n",
    "        comp_result = pickle.load(open('../result/%s/frontal_training_error_10_0.10.pkl' % dataset, 'rb'))\n",
    "    result = pickle.load(open('../result/%s/frontal_training_error_10.pkl' % dataset, 'rb'))\n",
    "    rescal_result =  pickle.load(open('../result/%s/rescal_frontal_training_error_10.pkl' % dataset, 'rb'))\n",
    "    if dataset=='kinship':\n",
    "        result = pickle.load(open('../result/%s/frontal_training_error_10_0.00_without_identity.pkl' % dataset, 'rb'))\n",
    "        rescal_result =  pickle.load(open('../result/%s/rescal_frontal_training_error_10_without_identity.pkl' % dataset, 'rb'))\n",
    "        comp_result = pickle.load(open('../result/%s/frontal_training_error_10_without_identity_comp.pkl' % dataset, 'rb'))\n",
    "\n",
    "    plt.figure(figsize=(8,2.4))\n",
    "\n",
    "    for model in models:\n",
    "        var_comp = var_comps[dataset]\n",
    "        mean = np.zeros(len(ps))\n",
    "        std = np.zeros(len(ps))\n",
    "        for i, p in enumerate(ps):\n",
    "            if model=='rescal':\n",
    "                mean[i] = np.mean(rescal_result[(model, p)])\n",
    "                std[i] = np.std(rescal_result[(model, p)])\n",
    "            elif (model=='bcomp_mul' or model=='bcomp_add') and (dataset=='umls'):\n",
    "                mean[i] = np.mean(comp_result[(model, p, var_comp)])\n",
    "                std[i] = np.std(comp_result[(model, p, var_comp)])\n",
    "            elif (model=='bcomp_mul' or model=='bcomp_add') and (dataset=='kinship'):\n",
    "                var_x = 0.01\n",
    "                var_comp=1\n",
    "                mean[i] = np.mean(comp_result[(model, p, var_x, var_comp)])\n",
    "                std[i] = np.std(comp_result[(model, p, var_x, var_comp)])                \n",
    "            else:\n",
    "                mean[i] = np.mean(result[(model, p, var_comp)])\n",
    "                std[i] = np.std(result[(model, p, var_comp)])\n",
    "        model_name = model\n",
    "        if model == 'logit':\n",
    "            model_name ='blogit'\n",
    "        if model == 'brescal':            \n",
    "            model_name = 'bnormal'\n",
    "            \n",
    "        _color = color[models.index(model)]\n",
    "        if model=='rescal':\n",
    "            _color=color[1]\n",
    "        if model=='brescal':\n",
    "            _color=color[0]\n",
    "        plt.bar(np.arange(len(ps)) + width*models.index(model), mean, width, color=_color, yerr=std, label=model_name.upper())\n",
    "\n",
    "    plt.xticks(np.arange(len(ps)) + width*3, ['%.2f'% (p) for p in ps])\n",
    "    plt.title(dataset.upper(), size=title_size)\n",
    "    if dataset == 'nation':\n",
    "        plt.ylim((0.4, 0.8))\n",
    "        plt.legend(loc='upper left', prop={'size':legend_size})\n",
    "    else:\n",
    "        plt.ylim((0.4, 1))\n",
    "    plt.savefig('../paper/images/comp_training_error_%s_small.pdf' % (dataset), format='PDF', bbox_inches='tight', pad_inches=0.1)"
   ]
  },
  {
   "cell_type": "code",
   "execution_count": null,
   "metadata": {
    "collapsed": true
   },
   "outputs": [],
   "source": []
  }
 ],
 "metadata": {
  "kernelspec": {
   "display_name": "Python 3",
   "language": "python",
   "name": "python3"
  },
  "language_info": {
   "codemirror_mode": {
    "name": "ipython",
    "version": 3
   },
   "file_extension": ".py",
   "mimetype": "text/x-python",
   "name": "python",
   "nbconvert_exporter": "python",
   "pygments_lexer": "ipython3",
   "version": "3.4.3"
  }
 },
 "nbformat": 4,
 "nbformat_minor": 0
}
