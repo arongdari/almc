{
 "cells": [
  {
   "cell_type": "markdown",
   "metadata": {},
   "source": [
    "# Experiments with Toy (synthetic) dataset"
   ]
  },
  {
   "cell_type": "markdown",
   "metadata": {},
   "source": [
    "Generate data\n",
    "\n",
    "$E \\sim N(0, \\sigma_e^2 I)$\n",
    "\n",
    "for each $k$\n",
    "\n",
    "$R_k \\sim MN(0, \\sigma_r^2 I, I)$\n",
    "\n",
    "$X_k \\sim N(ER_kE^\\top, \\sigma_x^2)$\n",
    "\n",
    "and fit the models with this dataset."
   ]
  },
  {
   "cell_type": "code",
   "execution_count": 1,
   "metadata": {
    "collapsed": false
   },
   "outputs": [],
   "source": [
    "import numpy as np\n",
    "import logging\n",
    "import itertools\n",
    "from scipy.sparse import csr_matrix\n",
    "import rescal\n",
    "from brescal import BayesianRescal\n",
    "\n",
    "%matplotlib inline  \n",
    "logger = logging.getLogger()\n",
    "logger.setLevel(logging.INFO)\n",
    "\n",
    "n_entity = 10\n",
    "n_dim = 5\n",
    "n_relation = 20\n",
    "\n",
    "var_e = 1.\n",
    "var_r = 1.\n",
    "var_x = 1.\n",
    "e_mean = np.zeros(n_dim)\n",
    "r_mean = np.zeros(n_dim**2)\n",
    "E = np.random.multivariate_normal(e_mean, np.identity(n_dim) * var_e, size = n_entity)\n",
    "R = np.zeros([n_relation, n_dim, n_dim])\n",
    "for k in range(n_relation):\n",
    "    R[k] = np.random.multivariate_normal(r_mean, np.identity(n_dim**2)*var_r).reshape(n_dim,n_dim)\n",
    "X = np.zeros([n_relation, n_entity, n_entity])\n",
    "for k in range(n_relation):\n",
    "    ERET = np.dot(np.dot(E, R[k]), E.T)\n",
    "    for i,j in itertools.product(range(n_entity), repeat=2):\n",
    "        X[k,i,j] = np.random.normal(ERET[i,j], var_x)"
   ]
  },
  {
   "cell_type": "code",
   "execution_count": 2,
   "metadata": {
    "collapsed": false
   },
   "outputs": [],
   "source": [
    "import itertools\n",
    "trainX = np.zeros_like(X)\n",
    "p = 1\n",
    "for k in range(n_relation):\n",
    "    for i,j in itertools.product(range(n_entity),repeat=2):\n",
    "        if X[k, i, j] and np.random.binomial(1, p):\n",
    "            trainX[k, i, j] = X[k, i, j]"
   ]
  },
  {
   "cell_type": "code",
   "execution_count": 3,
   "metadata": {
    "collapsed": false
   },
   "outputs": [
    {
     "name": "stderr",
     "output_type": "stream",
     "text": [
      "INFO:brescal:[  0] LL: -10096.246 | fit: 0.35320 |  sec: 0.020\n",
      "INFO:brescal:[  1] LL: -1687.381 | fit: 0.91687 |  sec: 0.020\n",
      "INFO:brescal:[  2] LL: -1406.120 | fit: 0.93255 |  sec: 0.020\n",
      "INFO:brescal:[  3] LL: -1380.027 | fit: 0.93100 |  sec: 0.022\n",
      "INFO:brescal:[  4] LL: -1363.825 | fit: 0.93096 |  sec: 0.021\n",
      "INFO:brescal:[  5] LL: -1342.647 | fit: 0.93152 |  sec: 0.021\n",
      "INFO:brescal:[  6] LL: -1336.328 | fit: 0.93045 |  sec: 0.023\n",
      "INFO:brescal:[  7] LL: -1311.620 | fit: 0.93008 |  sec: 0.023\n",
      "INFO:brescal:[  8] LL: -1248.554 | fit: 0.93404 |  sec: 0.023\n",
      "INFO:brescal:[  9] LL: -1300.673 | fit: 0.93093 |  sec: 0.024\n"
     ]
    }
   ],
   "source": [
    "model = BayesianRescal(n_dim, var_e=var_e, var_x=var_x, var_r=var_r)\n",
    "model.fit(trainX, max_iter=10)"
   ]
  },
  {
   "cell_type": "code",
   "execution_count": 4,
   "metadata": {
    "collapsed": false
   },
   "outputs": [
    {
     "name": "stderr",
     "output_type": "stream",
     "text": [
      "INFO:RESCAL:[  0] fit: 0.94523 | delta: 9.5e-01 | secs: 0.00836\n",
      "INFO:RESCAL:[  1] fit: 0.95052 | delta: 5.3e-03 | secs: 0.01008\n",
      "INFO:RESCAL:[  2] fit: 0.95056 | delta: 3.7e-05 | secs: 0.00966\n"
     ]
    }
   ],
   "source": [
    "csr_X = list()\n",
    "for k in range(n_relation):\n",
    "    csr_X.append(csr_matrix(trainX[k]))\n",
    "    \n",
    "E, R, f, itr, exectimes = rescal.rescal_als(csr_X, n_dim)"
   ]
  },
  {
   "cell_type": "code",
   "execution_count": 5,
   "metadata": {
    "collapsed": false
   },
   "outputs": [
    {
     "name": "stdout",
     "output_type": "stream",
     "text": [
      "BayesRESCAL:Element-wise squared error: 2039.106\n",
      "RESCAL:Element-wise squared error: 1459.629\n"
     ]
    }
   ],
   "source": [
    "_X = model._reconstruct()\n",
    "\n",
    "print(\"BayesRESCAL:Element-wise squared error: %.3f\" %(np.sum((X-_X)**2)))\n",
    "\n",
    "_X = np.zeros_like(X)\n",
    "for k in range(n_relation):\n",
    "    _X[k] = np.dot(np.dot(E, R[k]), E.T)\n",
    "    \n",
    "print(\"RESCAL:Element-wise squared error: %.3f\" %(np.sum((X-_X)**2)))"
   ]
  },
  {
   "cell_type": "markdown",
   "metadata": {},
   "source": [
    "## Split data into training/test data"
   ]
  },
  {
   "cell_type": "markdown",
   "metadata": {},
   "source": [
    "... but both models consider the input tensor as a full tensor."
   ]
  },
  {
   "cell_type": "code",
   "execution_count": 6,
   "metadata": {
    "collapsed": false
   },
   "outputs": [
    {
     "name": "stderr",
     "output_type": "stream",
     "text": [
      "INFO:brescal:[  0] LL: -5724.418 | fit: 0.15797 |  sec: 0.030\n",
      "INFO:brescal:[  1] LL: -3229.894 | fit: 0.53372 |  sec: 0.025\n",
      "INFO:brescal:[  2] LL: -2748.292 | fit: 0.60793 |  sec: 0.026\n",
      "INFO:brescal:[  3] LL: -2706.598 | fit: 0.61562 |  sec: 0.021\n",
      "INFO:brescal:[  4] LL: -2736.216 | fit: 0.61561 |  sec: 0.019\n",
      "INFO:brescal:[  5] LL: -2669.917 | fit: 0.62856 |  sec: 0.022\n",
      "INFO:brescal:[  6] LL: -2669.637 | fit: 0.62725 |  sec: 0.022\n",
      "INFO:brescal:[  7] LL: -2615.053 | fit: 0.63538 |  sec: 0.019\n",
      "INFO:brescal:[  8] LL: -2580.257 | fit: 0.64210 |  sec: 0.022\n",
      "INFO:brescal:[  9] LL: -2599.580 | fit: 0.63955 |  sec: 0.020\n"
     ]
    }
   ],
   "source": [
    "import itertools\n",
    "trainX = np.zeros_like(X)\n",
    "p = 0.5\n",
    "for k in range(n_relation):\n",
    "    for i,j in itertools.product(range(n_entity),repeat=2):\n",
    "        if X[k, i, j] and np.random.binomial(1, p):\n",
    "            trainX[k, i, j] = X[k, i, j]\n",
    "model = BayesianRescal(n_dim, var_e=var_e, var_x=var_x, var_r=var_r)\n",
    "model.fit(trainX, max_iter=10)            "
   ]
  },
  {
   "cell_type": "code",
   "execution_count": 7,
   "metadata": {
    "collapsed": false
   },
   "outputs": [
    {
     "name": "stderr",
     "output_type": "stream",
     "text": [
      "INFO:RESCAL:[  0] fit: 0.61358 | delta: 6.1e-01 | secs: 0.00677\n",
      "INFO:RESCAL:[  1] fit: 0.63865 | delta: 2.5e-02 | secs: 0.00893\n",
      "INFO:RESCAL:[  2] fit: 0.65052 | delta: 1.2e-02 | secs: 0.00809\n",
      "INFO:RESCAL:[  3] fit: 0.65754 | delta: 7.0e-03 | secs: 0.00949\n",
      "INFO:RESCAL:[  4] fit: 0.66245 | delta: 4.9e-03 | secs: 0.00865\n",
      "INFO:RESCAL:[  5] fit: 0.66666 | delta: 4.2e-03 | secs: 0.01015\n",
      "INFO:RESCAL:[  6] fit: 0.67081 | delta: 4.1e-03 | secs: 0.01077\n",
      "INFO:RESCAL:[  7] fit: 0.67490 | delta: 4.1e-03 | secs: 0.00922\n",
      "INFO:RESCAL:[  8] fit: 0.67845 | delta: 3.5e-03 | secs: 0.00944\n",
      "INFO:RESCAL:[  9] fit: 0.68103 | delta: 2.6e-03 | secs: 0.00663\n",
      "INFO:RESCAL:[ 10] fit: 0.68264 | delta: 1.6e-03 | secs: 0.00796\n",
      "INFO:RESCAL:[ 11] fit: 0.68356 | delta: 9.2e-04 | secs: 0.00994\n",
      "INFO:RESCAL:[ 12] fit: 0.68405 | delta: 5.0e-04 | secs: 0.00974\n",
      "INFO:RESCAL:[ 13] fit: 0.68432 | delta: 2.6e-04 | secs: 0.00962\n",
      "INFO:RESCAL:[ 14] fit: 0.68445 | delta: 1.4e-04 | secs: 0.01009\n",
      "INFO:RESCAL:[ 15] fit: 0.68453 | delta: 7.2e-05 | secs: 0.00932\n"
     ]
    }
   ],
   "source": [
    "csr_X = list()\n",
    "for k in range(n_relation):\n",
    "    csr_X.append(csr_matrix(trainX[k]))\n",
    "    \n",
    "E, R, f, itr, exectimes = rescal.rescal_als(csr_X, n_dim)"
   ]
  },
  {
   "cell_type": "code",
   "execution_count": 8,
   "metadata": {
    "collapsed": false
   },
   "outputs": [
    {
     "name": "stdout",
     "output_type": "stream",
     "text": [
      "BayesRESCAL:Element-wise squared error on training data: 4834.098\n",
      "BayesRESCAL:Element-wise squared error on test data: 11758.921\n",
      "\n",
      "RESCAL:Element-wise squared error on training data: 4230.879\n",
      "RESCAL:Element-wise squared error on test data: 11964.977\n"
     ]
    }
   ],
   "source": [
    "_bX = model._reconstruct()\n",
    "\n",
    "print(\"BayesRESCAL:Element-wise squared error on training data: %.3f\" %(np.sum((trainX-_bX)**2)))\n",
    "print(\"BayesRESCAL:Element-wise squared error on test data: %.3f\\n\" %(np.sum((X-_bX)[trainX==0]**2)))\n",
    "\n",
    "_X = np.zeros_like(X)\n",
    "for k in range(n_relation):\n",
    "    _X[k] = np.dot(np.dot(E, R[k]), E.T)\n",
    "    \n",
    "print(\"RESCAL:Element-wise squared error on training data: %.3f\" %(np.sum((trainX-_X)**2)))\n",
    "print(\"RESCAL:Element-wise squared error on test data: %.3f\" %(np.sum((X-_X)[trainX==0]**2)))"
   ]
  },
  {
   "cell_type": "markdown",
   "metadata": {},
   "source": [
    "## Fit"
   ]
  },
  {
   "cell_type": "markdown",
   "metadata": {},
   "source": [
    "Fit $= 1 - A / B$\n",
    "\n",
    "$A = \\sum_{i,k,j}(x_{i,k,j} - \\hat{x}_{i,k,j})^2 \\quad\\quad$ where $\\hat{x}$ is a predicted value of triple $(i,k,j)$. This is the sum of squared error.\n",
    "\n",
    "$B = \\sum_{i,k,j}(x_{i,k,j}) \\quad\\quad\\quad\\quad$ = Sum of squared datapoints.\n",
    "\n",
    "$A$ is the objective function of RESCAL"
   ]
  },
  {
   "cell_type": "code",
   "execution_count": 9,
   "metadata": {
    "collapsed": false
   },
   "outputs": [
    {
     "name": "stdout",
     "output_type": "stream",
     "text": [
      "0.684526131412\n"
     ]
    }
   ],
   "source": [
    "A = np.sum((trainX-_X)**2)\n",
    "B = np.sum(trainX**2)\n",
    "fit = 1.-A/B\n",
    "print(fit)"
   ]
  },
  {
   "cell_type": "markdown",
   "metadata": {},
   "source": [
    "## Control variance of observed/unobserved data"
   ]
  },
  {
   "cell_type": "markdown",
   "metadata": {},
   "source": [
    "Placing different variances (var_x) on observed/unobserved points will improve the factorisation performance. (Implicit feedback)\n",
    "\n",
    "Variance of observed elements (```obs_var```) = 1\n",
    "\n",
    "Variance of unboserved elements (```unobs_var```) = 10000 (=almost do not care about unobserved data points)"
   ]
  },
  {
   "cell_type": "code",
   "execution_count": 10,
   "metadata": {
    "collapsed": false
   },
   "outputs": [
    {
     "name": "stderr",
     "output_type": "stream",
     "text": [
      "INFO:brescal:[  0] LL: -5185.936 | fit: 0.24084 |  sec: 0.038\n",
      "INFO:brescal:[  1] LL: -3302.678 | fit: 0.51882 |  sec: 0.045\n",
      "INFO:brescal:[  2] LL: -2936.063 | fit: 0.57449 |  sec: 0.033\n",
      "INFO:brescal:[  3] LL: -2825.958 | fit: 0.59436 |  sec: 0.042\n",
      "INFO:brescal:[  4] LL: -2838.909 | fit: 0.59877 |  sec: 0.037\n",
      "INFO:brescal:[  5] LL: -2848.886 | fit: 0.60563 |  sec: 0.040\n",
      "INFO:brescal:[  6] LL: -2928.899 | fit: 0.60557 |  sec: 0.038\n",
      "INFO:brescal:[  7] LL: -3087.699 | fit: 0.60195 |  sec: 0.039\n",
      "INFO:brescal:[  8] LL: -3195.070 | fit: 0.60407 |  sec: 0.036\n",
      "INFO:brescal:[  9] LL: -3360.056 | fit: 0.60046 |  sec: 0.038\n"
     ]
    },
    {
     "name": "stdout",
     "output_type": "stream",
     "text": [
      "BayesRESCAL:Element-wise squared error on training data: 4834.098\n",
      "BayesRESCAL:Element-wise squared error on test data: 11758.921\n",
      "\n",
      "RESCAL:Element-wise squared error on training data: 4230.879\n",
      "RESCAL:Element-wise squared error on test data: 11964.977\n",
      "\n",
      "CV_BayesRESCAL:Element-wise squared error on training data: 5358.326\n",
      "CV_BayesRESCAL:Element-wise squared error on test data: 10939.803\n"
     ]
    }
   ],
   "source": [
    "model = BayesianRescal(n_dim, var_e=var_e, var_x=var_x, var_r=var_r, controlled_var=True, obs_var=1., unobs_var=10000.)\n",
    "model.fit(trainX, max_iter=10)\n",
    "_cX = model._reconstruct()\n",
    "\n",
    "print(\"BayesRESCAL:Element-wise squared error on training data: %.3f\" %(np.sum((trainX-_bX)**2)))\n",
    "print(\"BayesRESCAL:Element-wise squared error on test data: %.3f\\n\" %(np.sum((X-_bX)[trainX==0]**2)))\n",
    "\n",
    "print(\"RESCAL:Element-wise squared error on training data: %.3f\" %(np.sum((trainX-_X)**2)))\n",
    "print(\"RESCAL:Element-wise squared error on test data: %.3f\\n\" %(np.sum((X-_X)[trainX==0]**2)))\n",
    "\n",
    "print(\"CV_BayesRESCAL:Element-wise squared error on training data: %.3f\" %(np.sum((trainX-_cX)**2)))\n",
    "print(\"CV_BayesRESCAL:Element-wise squared error on test data: %.3f\" %(np.sum((X-_cX)[trainX==0]**2)))"
   ]
  },
  {
   "cell_type": "markdown",
   "metadata": {},
   "source": [
    "### Controlled variance approach reduced the squared error on test data"
   ]
  }
 ],
 "metadata": {
  "kernelspec": {
   "display_name": "Python 3",
   "language": "python",
   "name": "python3"
  },
  "language_info": {
   "codemirror_mode": {
    "name": "ipython",
    "version": 3
   },
   "file_extension": ".py",
   "mimetype": "text/x-python",
   "name": "python",
   "nbconvert_exporter": "python",
   "pygments_lexer": "ipython3",
   "version": "3.4.3"
  }
 },
 "nbformat": 4,
 "nbformat_minor": 0
}
