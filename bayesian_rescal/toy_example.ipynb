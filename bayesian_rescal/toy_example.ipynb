{
 "cells": [
  {
   "cell_type": "markdown",
   "metadata": {},
   "source": [
    "# Experiments with Toy (synthetic) dataset"
   ]
  },
  {
   "cell_type": "markdown",
   "metadata": {},
   "source": [
    "Generate data\n",
    "\n",
    "$E \\sim N(0, \\sigma_e^2 I)$\n",
    "\n",
    "for each $k$\n",
    "\n",
    "$R_k \\sim MN(0, \\sigma_r^2 I, I)$\n",
    "\n",
    "$X_k \\sim N(ER_kE^\\top, \\sigma_x^2)$\n",
    "\n",
    "and fit the models with this dataset."
   ]
  },
  {
   "cell_type": "code",
   "execution_count": 11,
   "metadata": {
    "collapsed": false
   },
   "outputs": [],
   "source": [
    "import numpy as np\n",
    "import logging\n",
    "import itertools\n",
    "from scipy.sparse import csr_matrix\n",
    "import rescal\n",
    "from brescal import BayesianRescal\n",
    "\n",
    "%matplotlib inline  \n",
    "logger = logging.getLogger()\n",
    "logger.setLevel(logging.INFO)\n",
    "\n",
    "max_iter = 20\n",
    "\n",
    "n_entity = 10\n",
    "n_dim = 5\n",
    "n_relation = 20\n",
    "\n",
    "var_e = 1.\n",
    "var_r = 1.\n",
    "var_x = 1.\n",
    "e_mean = np.zeros(n_dim)\n",
    "r_mean = np.zeros(n_dim**2)\n",
    "E = np.random.multivariate_normal(e_mean, np.identity(n_dim) * var_e, size = n_entity)\n",
    "R = np.zeros([n_relation, n_dim, n_dim])\n",
    "for k in range(n_relation):\n",
    "    R[k] = np.random.multivariate_normal(r_mean, np.identity(n_dim**2)*var_r).reshape(n_dim,n_dim)\n",
    "X = np.zeros([n_relation, n_entity, n_entity])\n",
    "for k in range(n_relation):\n",
    "    ERET = np.dot(np.dot(E, R[k]), E.T)\n",
    "    for i,j in itertools.product(range(n_entity), repeat=2):\n",
    "        X[k,i,j] = np.random.normal(ERET[i,j], var_x)"
   ]
  },
  {
   "cell_type": "code",
   "execution_count": 12,
   "metadata": {
    "collapsed": false
   },
   "outputs": [],
   "source": [
    "import itertools\n",
    "trainX = np.zeros_like(X)\n",
    "p = 1\n",
    "for k in range(n_relation):\n",
    "    for i,j in itertools.product(range(n_entity),repeat=2):\n",
    "        if X[k, i, j] and np.random.binomial(1, p):\n",
    "            trainX[k, i, j] = X[k, i, j]"
   ]
  },
  {
   "cell_type": "code",
   "execution_count": 13,
   "metadata": {
    "collapsed": false
   },
   "outputs": [
    {
     "name": "stderr",
     "output_type": "stream",
     "text": [
      "INFO:brescal:[INIT] LL: -60480.755 | fit: -0.42100\n",
      "INFO:brescal:[  0] LL: -19991.532 | fit: 0.61257 |  sec: 0.020\n",
      "INFO:brescal:[  1] LL: -5961.656 | fit: 0.95448 |  sec: 0.018\n",
      "INFO:brescal:[  2] LL: -5207.340 | fit: 0.96671 |  sec: 0.021\n",
      "INFO:brescal:[  3] LL: -4836.556 | fit: 0.97027 |  sec: 0.022\n",
      "INFO:brescal:[  4] LL: -4603.180 | fit: 0.97219 |  sec: 0.020\n",
      "INFO:brescal:[  5] LL: -4440.849 | fit: 0.97322 |  sec: 0.020\n",
      "INFO:brescal:[  6] LL: -4345.156 | fit: 0.97387 |  sec: 0.020\n",
      "INFO:brescal:[  7] LL: -4261.078 | fit: 0.97432 |  sec: 0.021\n",
      "INFO:brescal:[  8] LL: -4246.298 | fit: 0.97422 |  sec: 0.021\n",
      "INFO:brescal:[  9] LL: -4190.940 | fit: 0.97492 |  sec: 0.026\n",
      "INFO:brescal:[ 10] LL: -4178.886 | fit: 0.97443 |  sec: 0.022\n",
      "INFO:brescal:[ 11] LL: -4167.557 | fit: 0.97387 |  sec: 0.020\n",
      "INFO:brescal:[ 12] LL: -4090.523 | fit: 0.97534 |  sec: 0.019\n",
      "INFO:brescal:[ 13] LL: -4072.417 | fit: 0.97449 |  sec: 0.020\n",
      "INFO:brescal:[ 14] LL: -4018.654 | fit: 0.97481 |  sec: 0.020\n",
      "INFO:brescal:[ 15] LL: -3977.947 | fit: 0.97490 |  sec: 0.019\n",
      "INFO:brescal:[ 16] LL: -3937.127 | fit: 0.97547 |  sec: 0.020\n",
      "INFO:brescal:[ 17] LL: -3912.645 | fit: 0.97568 |  sec: 0.020\n",
      "INFO:brescal:[ 18] LL: -3909.708 | fit: 0.97515 |  sec: 0.020\n",
      "INFO:brescal:[ 19] LL: -3870.625 | fit: 0.97586 |  sec: 0.021\n"
     ]
    }
   ],
   "source": [
    "model = BayesianRescal(n_dim, var_e=var_e, var_x=var_x, var_r=var_r)\n",
    "model.fit(trainX, max_iter=max_iter)"
   ]
  },
  {
   "cell_type": "code",
   "execution_count": 14,
   "metadata": {
    "collapsed": false
   },
   "outputs": [
    {
     "name": "stderr",
     "output_type": "stream",
     "text": [
      "INFO:RESCAL:[  0] fit: 0.98179 | delta: 9.8e-01 | secs: 0.00663\n",
      "INFO:RESCAL:[  1] fit: 0.98192 | delta: 1.3e-04 | secs: 0.00833\n",
      "INFO:RESCAL:[  2] fit: 0.98192 | delta: 2.9e-07 | secs: 0.00981\n"
     ]
    }
   ],
   "source": [
    "csr_X = list()\n",
    "for k in range(n_relation):\n",
    "    csr_X.append(csr_matrix(trainX[k]))\n",
    "    \n",
    "E, R, f, itr, exectimes = rescal.rescal_als(csr_X, n_dim)"
   ]
  },
  {
   "cell_type": "code",
   "execution_count": 15,
   "metadata": {
    "collapsed": false
   },
   "outputs": [
    {
     "name": "stdout",
     "output_type": "stream",
     "text": [
      "BayesRESCAL:Element-wise squared error: 1971.791\n",
      "RESCAL:Element-wise squared error: 1477.210\n"
     ]
    }
   ],
   "source": [
    "_X = model._reconstruct()\n",
    "\n",
    "print(\"BayesRESCAL:Element-wise squared error: %.3f\" %(np.sum((X-_X)**2)))\n",
    "\n",
    "_X = np.zeros_like(X)\n",
    "for k in range(n_relation):\n",
    "    _X[k] = np.dot(np.dot(E, R[k]), E.T)\n",
    "    \n",
    "print(\"RESCAL:Element-wise squared error: %.3f\" %(np.sum((X-_X)**2)))"
   ]
  },
  {
   "cell_type": "markdown",
   "metadata": {},
   "source": [
    "## Split data into training/test data"
   ]
  },
  {
   "cell_type": "markdown",
   "metadata": {},
   "source": [
    "... but both models consider the input tensor as a full tensor."
   ]
  },
  {
   "cell_type": "code",
   "execution_count": 16,
   "metadata": {
    "collapsed": false
   },
   "outputs": [
    {
     "name": "stderr",
     "output_type": "stream",
     "text": [
      "INFO:brescal:[INIT] LL: -36683.364 | fit: -0.61710\n",
      "INFO:brescal:[  0] LL: -16153.299 | fit: 0.37381 |  sec: 0.024\n",
      "INFO:brescal:[  1] LL: -12296.431 | fit: 0.56791 |  sec: 0.019\n",
      "INFO:brescal:[  2] LL: -10921.524 | fit: 0.63153 |  sec: 0.020\n",
      "INFO:brescal:[  3] LL: -10578.255 | fit: 0.64262 |  sec: 0.020\n",
      "INFO:brescal:[  4] LL: -10401.813 | fit: 0.64773 |  sec: 0.020\n",
      "INFO:brescal:[  5] LL: -10276.329 | fit: 0.64935 |  sec: 0.020\n",
      "INFO:brescal:[  6] LL: -10204.490 | fit: 0.65081 |  sec: 0.020\n",
      "INFO:brescal:[  7] LL: -10128.645 | fit: 0.65272 |  sec: 0.020\n",
      "INFO:brescal:[  8] LL: -10088.756 | fit: 0.65335 |  sec: 0.019\n",
      "INFO:brescal:[  9] LL: -10094.159 | fit: 0.65310 |  sec: 0.020\n",
      "INFO:brescal:[ 10] LL: -10081.900 | fit: 0.65400 |  sec: 0.019\n",
      "INFO:brescal:[ 11] LL: -10077.738 | fit: 0.65359 |  sec: 0.019\n",
      "INFO:brescal:[ 12] LL: -10086.612 | fit: 0.65247 |  sec: 0.019\n",
      "INFO:brescal:[ 13] LL: -10062.461 | fit: 0.65352 |  sec: 0.019\n",
      "INFO:brescal:[ 14] LL: -10071.100 | fit: 0.65297 |  sec: 0.019\n",
      "INFO:brescal:[ 15] LL: -10048.566 | fit: 0.65432 |  sec: 0.020\n",
      "INFO:brescal:[ 16] LL: -10016.412 | fit: 0.65581 |  sec: 0.019\n",
      "INFO:brescal:[ 17] LL: -9989.560 | fit: 0.65619 |  sec: 0.020\n",
      "INFO:brescal:[ 18] LL: -10022.224 | fit: 0.65450 |  sec: 0.020\n",
      "INFO:brescal:[ 19] LL: -9970.158 | fit: 0.65687 |  sec: 0.020\n"
     ]
    }
   ],
   "source": [
    "import itertools\n",
    "trainX = np.zeros_like(X)\n",
    "p = 0.5 # proportion of training data points\n",
    "for k in range(n_relation):\n",
    "    for i,j in itertools.product(range(n_entity),repeat=2):\n",
    "        if X[k, i, j] and np.random.binomial(1, p):\n",
    "            trainX[k, i, j] = X[k, i, j]\n",
    "            \n",
    "model = BayesianRescal(n_dim, var_e=var_e, var_x=var_x, var_r=var_r)\n",
    "model.fit(trainX, max_iter=max_iter)            "
   ]
  },
  {
   "cell_type": "code",
   "execution_count": 17,
   "metadata": {
    "collapsed": false
   },
   "outputs": [
    {
     "name": "stderr",
     "output_type": "stream",
     "text": [
      "INFO:RESCAL:[  0] fit: 0.63314 | delta: 6.3e-01 | secs: 0.00675\n",
      "INFO:RESCAL:[  1] fit: 0.66118 | delta: 2.8e-02 | secs: 0.00777\n",
      "INFO:RESCAL:[  2] fit: 0.66740 | delta: 6.2e-03 | secs: 0.00953\n",
      "INFO:RESCAL:[  3] fit: 0.66932 | delta: 1.9e-03 | secs: 0.00762\n",
      "INFO:RESCAL:[  4] fit: 0.67027 | delta: 9.5e-04 | secs: 0.00849\n",
      "INFO:RESCAL:[  5] fit: 0.67091 | delta: 6.5e-04 | secs: 0.00774\n",
      "INFO:RESCAL:[  6] fit: 0.67143 | delta: 5.1e-04 | secs: 0.00872\n",
      "INFO:RESCAL:[  7] fit: 0.67186 | delta: 4.4e-04 | secs: 0.00841\n",
      "INFO:RESCAL:[  8] fit: 0.67225 | delta: 3.9e-04 | secs: 0.00890\n",
      "INFO:RESCAL:[  9] fit: 0.67260 | delta: 3.5e-04 | secs: 0.00758\n",
      "INFO:RESCAL:[ 10] fit: 0.67291 | delta: 3.1e-04 | secs: 0.00843\n",
      "INFO:RESCAL:[ 11] fit: 0.67319 | delta: 2.8e-04 | secs: 0.00679\n",
      "INFO:RESCAL:[ 12] fit: 0.67345 | delta: 2.6e-04 | secs: 0.00770\n",
      "INFO:RESCAL:[ 13] fit: 0.67368 | delta: 2.3e-04 | secs: 0.00753\n",
      "INFO:RESCAL:[ 14] fit: 0.67389 | delta: 2.1e-04 | secs: 0.00828\n",
      "INFO:RESCAL:[ 15] fit: 0.67407 | delta: 1.8e-04 | secs: 0.00785\n",
      "INFO:RESCAL:[ 16] fit: 0.67424 | delta: 1.6e-04 | secs: 0.00755\n",
      "INFO:RESCAL:[ 17] fit: 0.67438 | delta: 1.4e-04 | secs: 0.00792\n",
      "INFO:RESCAL:[ 18] fit: 0.67451 | delta: 1.3e-04 | secs: 0.00731\n",
      "INFO:RESCAL:[ 19] fit: 0.67461 | delta: 1.1e-04 | secs: 0.00757\n",
      "INFO:RESCAL:[ 20] fit: 0.67471 | delta: 9.5e-05 | secs: 0.00817\n"
     ]
    }
   ],
   "source": [
    "csr_X = list()\n",
    "for k in range(n_relation):\n",
    "    csr_X.append(csr_matrix(trainX[k]))\n",
    "    \n",
    "E, R, f, itr, exectimes = rescal.rescal_als(csr_X, n_dim)"
   ]
  },
  {
   "cell_type": "code",
   "execution_count": 18,
   "metadata": {
    "collapsed": false
   },
   "outputs": [
    {
     "name": "stdout",
     "output_type": "stream",
     "text": [
      "BayesRESCAL:Element-wise squared error on training data: 14533.638\n",
      "BayesRESCAL:Element-wise squared error on test data: 23437.408\n",
      "\n",
      "RESCAL:Element-wise squared error on training data: 13778.150\n",
      "RESCAL:Element-wise squared error on test data: 20795.047\n"
     ]
    }
   ],
   "source": [
    "_bX = model._reconstruct()\n",
    "\n",
    "print(\"BayesRESCAL:Element-wise squared error on training data: %.3f\" %(np.sum((trainX-_bX)**2)))\n",
    "print(\"BayesRESCAL:Element-wise squared error on test data: %.3f\\n\" %(np.sum((X-_bX)[trainX==0]**2)))\n",
    "\n",
    "_X = np.zeros_like(X)\n",
    "for k in range(n_relation):\n",
    "    _X[k] = np.dot(np.dot(E, R[k]), E.T)\n",
    "    \n",
    "print(\"RESCAL:Element-wise squared error on training data: %.3f\" %(np.sum((trainX-_X)**2)))\n",
    "print(\"RESCAL:Element-wise squared error on test data: %.3f\" %(np.sum((X-_X)[trainX==0]**2)))"
   ]
  },
  {
   "cell_type": "markdown",
   "metadata": {},
   "source": [
    "## Fit"
   ]
  },
  {
   "cell_type": "markdown",
   "metadata": {},
   "source": [
    "Fit $= 1 - A / B$\n",
    "\n",
    "$A = \\sum_{i,k,j}(x_{i,k,j} - \\hat{x}_{i,k,j})^2 \\quad\\quad$ where $\\hat{x}$ is a predicted value of triple $(i,k,j)$. This is the sum of squared error.\n",
    "\n",
    "$B = \\sum_{i,k,j}(x_{i,k,j}) \\quad\\quad\\quad\\quad$ = Sum of squared datapoints.\n",
    "\n",
    "$A$ is the objective function of RESCAL"
   ]
  },
  {
   "cell_type": "code",
   "execution_count": 19,
   "metadata": {
    "collapsed": false
   },
   "outputs": [
    {
     "name": "stdout",
     "output_type": "stream",
     "text": [
      "0.674710002298\n"
     ]
    }
   ],
   "source": [
    "A = np.sum((trainX-_X)**2)\n",
    "B = np.sum(trainX**2)\n",
    "fit = 1.-A/B\n",
    "print(fit)"
   ]
  },
  {
   "cell_type": "markdown",
   "metadata": {},
   "source": [
    "## Control variance of observed/unobserved data"
   ]
  },
  {
   "cell_type": "markdown",
   "metadata": {},
   "source": [
    "Placing different variances (var_x) on observed/unobserved points will improve the factorisation performance. (Implicit feedback)\n",
    "\n",
    "Variance of observed elements (```obs_var```) = 1\n",
    "\n",
    "Variance of unboserved elements (```unobs_var```) = 100 (=almost do not care about unobserved data points)"
   ]
  },
  {
   "cell_type": "code",
   "execution_count": 20,
   "metadata": {
    "collapsed": false
   },
   "outputs": [
    {
     "name": "stderr",
     "output_type": "stream",
     "text": [
      "INFO:brescal:[INIT] LL: -29928.359 | fit: -0.29810\n",
      "INFO:brescal:[  0] LL: -28940.870 | fit: -0.21057 |  sec: 0.027\n",
      "INFO:brescal:[  1] LL: -23098.370 | fit: 0.07060 |  sec: 0.026\n",
      "INFO:brescal:[  2] LL: -19467.511 | fit: 0.23781 |  sec: 0.027\n",
      "INFO:brescal:[  3] LL: -19496.439 | fit: 0.23435 |  sec: 0.025\n",
      "INFO:brescal:[  4] LL: -19326.661 | fit: 0.23688 |  sec: 0.027\n",
      "INFO:brescal:[  5] LL: -19298.488 | fit: 0.23555 |  sec: 0.026\n",
      "INFO:brescal:[  6] LL: -19664.847 | fit: 0.21585 |  sec: 0.026\n",
      "INFO:brescal:[  7] LL: -19634.413 | fit: 0.21517 |  sec: 0.027\n",
      "INFO:brescal:[  8] LL: -19771.240 | fit: 0.20689 |  sec: 0.026\n",
      "INFO:brescal:[  9] LL: -20290.738 | fit: 0.18100 |  sec: 0.027\n",
      "INFO:brescal:[ 10] LL: -20297.768 | fit: 0.17999 |  sec: 0.053\n",
      "INFO:brescal:[ 11] LL: -20393.801 | fit: 0.17456 |  sec: 0.033\n",
      "INFO:brescal:[ 12] LL: -20108.642 | fit: 0.18718 |  sec: 0.034\n",
      "INFO:brescal:[ 13] LL: -20463.116 | fit: 0.17008 |  sec: 0.028\n",
      "INFO:brescal:[ 14] LL: -20409.298 | fit: 0.17240 |  sec: 0.036\n",
      "INFO:brescal:[ 15] LL: -20554.694 | fit: 0.16511 |  sec: 0.049\n",
      "INFO:brescal:[ 16] LL: -20280.350 | fit: 0.17738 |  sec: 0.027\n",
      "INFO:brescal:[ 17] LL: -20147.844 | fit: 0.18360 |  sec: 0.029\n",
      "INFO:brescal:[ 18] LL: -19984.571 | fit: 0.19059 |  sec: 0.027\n",
      "INFO:brescal:[ 19] LL: -20031.436 | fit: 0.18736 |  sec: 0.051\n"
     ]
    },
    {
     "name": "stdout",
     "output_type": "stream",
     "text": [
      "BayesRESCAL:Element-wise squared error on training data: 9341.559\n",
      "BayesRESCAL:Element-wise squared error on test data: 23437.408\n",
      "\n",
      "RESCAL:Element-wise squared error on training data: 7744.750\n",
      "RESCAL:Element-wise squared error on test data: 20795.047\n",
      "\n",
      "CV_BayesRESCAL:Element-wise squared error on training data: 995.098\n",
      "CV_BayesRESCAL:Element-wise squared error on test data: 3095.573\n"
     ]
    }
   ],
   "source": [
    "model = BayesianRescal(n_dim, var_e=var_e, var_x=var_x, var_r=var_r, controlled_var=True, obs_var=1., unobs_var=100.)\n",
    "model.fit(trainX, max_iter=20)\n",
    "_cX = model._reconstruct()\n",
    "\n",
    "print(\"BayesRESCAL:Element-wise squared error on training data: %.3f\" %(np.sum((trainX[trainX!=0]-_bX[trainX!=0])**2)))\n",
    "print(\"BayesRESCAL:Element-wise squared error on test data: %.3f\\n\" %(np.sum((X-_bX)[trainX==0]**2)))\n",
    "\n",
    "print(\"RESCAL:Element-wise squared error on training data: %.3f\" %(np.sum((trainX[trainX!=0]-_X[trainX!=0])**2)))\n",
    "print(\"RESCAL:Element-wise squared error on test data: %.3f\\n\" %(np.sum((X-_X)[trainX==0]**2)))\n",
    "\n",
    "print(\"CV_BayesRESCAL:Element-wise squared error on training data: %.3f\" %(np.sum((trainX[trainX!=0]-_cX[trainX!=0])**2)))\n",
    "print(\"CV_BayesRESCAL:Element-wise squared error on test data: %.3f\" %(np.sum((X-_cX)[trainX==0]**2)))"
   ]
  },
  {
   "cell_type": "markdown",
   "metadata": {},
   "source": [
    "### Result: Controlled variance approach outperforms other approaches"
   ]
  }
 ],
 "metadata": {
  "kernelspec": {
   "display_name": "Python 3",
   "language": "python",
   "name": "python3"
  },
  "language_info": {
   "codemirror_mode": {
    "name": "ipython",
    "version": 3
   },
   "file_extension": ".py",
   "mimetype": "text/x-python",
   "name": "python",
   "nbconvert_exporter": "python",
   "pygments_lexer": "ipython3",
   "version": "3.4.3"
  }
 },
 "nbformat": 4,
 "nbformat_minor": 0
}
