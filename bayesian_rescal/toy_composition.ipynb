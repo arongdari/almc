{
 "cells": [
  {
   "cell_type": "code",
   "execution_count": 10,
   "metadata": {
    "collapsed": true
   },
   "outputs": [],
   "source": [
    "import os\n",
    "import sys\n",
    "import numpy as np\n",
    "import pickle\n",
    "from scipy.io.matlab import loadmat\n",
    "from seq_brescal import PFBayesianRescal\n",
    "from seq_bcomp_rescal import PFBayesianCompRescal\n",
    "from seq_logit_brescal import PFBayesianLogitRescal\n",
    "from scipy.spatial.distance import cosine"
   ]
  },
  {
   "cell_type": "code",
   "execution_count": 11,
   "metadata": {
    "collapsed": true
   },
   "outputs": [],
   "source": [
    "T = np.zeros([2,5,5])\n",
    "T[0,0,2]=1\n",
    "T[0,1,3]=1\n",
    "T[1,2,4]=1\n",
    "T[1,3,4]=1\n",
    "\n",
    "n_dim=5\n",
    "n_particle=1\n",
    "var_x = 0.1\n",
    "var_comp=1\n",
    "E = np.identity(5)\n",
    "max_iter=0\n",
    "obs_mask = T.copy()\n",
    "obs_mask = np.ones_like(T)"
   ]
  },
  {
   "cell_type": "code",
   "execution_count": 6,
   "metadata": {
    "collapsed": false
   },
   "outputs": [
    {
     "name": "stdout",
     "output_type": "stream",
     "text": [
      "0.687087721753 0.0\n",
      "nan nan\n",
      "nan nan\n"
     ]
    },
    {
     "name": "stderr",
     "output_type": "stream",
     "text": [
      "/Users/arongdari/.python3/lib/python3.4/site-packages/numpy/core/_methods.py:59: RuntimeWarning: Mean of empty slice.\n",
      "  warnings.warn(\"Mean of empty slice.\", RuntimeWarning)\n",
      "/Users/arongdari/.python3/lib/python3.4/site-packages/numpy/core/_methods.py:70: RuntimeWarning: invalid value encountered in double_scalars\n",
      "  ret = ret.dtype.type(ret / rcount)\n",
      "/Users/arongdari/.python3/lib/python3.4/site-packages/numpy/core/_methods.py:82: RuntimeWarning: Degrees of freedom <= 0 for slice\n",
      "  warnings.warn(\"Degrees of freedom <= 0 for slice\", RuntimeWarning)\n",
      "/Users/arongdari/.python3/lib/python3.4/site-packages/numpy/core/_methods.py:94: RuntimeWarning: invalid value encountered in true_divide\n",
      "  arrmean, rcount, out=arrmean, casting='unsafe', subok=False)\n",
      "/Users/arongdari/.python3/lib/python3.4/site-packages/numpy/core/_methods.py:116: RuntimeWarning: invalid value encountered in double_scalars\n",
      "  ret = ret.dtype.type(ret / rcount)\n"
     ]
    }
   ],
   "source": [
    "a = list()\n",
    "b = list()\n",
    "c = list()\n",
    "\n",
    "models = ['brescal', 'bcomp_add', 'bcomp_mul']\n",
    "models = ['brescal']\n",
    "for model in models:\n",
    "    if model == 'brescal':\n",
    "        _model = PFBayesianRescal(n_dim, var_x=var_x, n_particles=n_particle, compute_score=False, parallel=False,\n",
    "                                  sample_all=True)\n",
    "        seq = _model.fit(T, obs_mask=obs_mask.copy(), max_iter=max_iter)\n",
    "        R = _model.R[0]\n",
    "        _model = PFBayesianRescal(n_dim, var_x=var_x, n_particles=n_particle, compute_score=False, parallel=False,\n",
    "                                  sample_all=True)            \n",
    "        seq = _model.fit(T, obs_mask=obs_mask.copy(), max_iter=max_iter, givenR = R)\n",
    "#            a.append(np.dot(_model.E[0][0], _model.E[0][1]))\n",
    "        a.append(cosine(_model.E[0][0], _model.E[0][1]))\n",
    "    elif model == 'bcomp_add':\n",
    "        _model = PFBayesianCompRescal(n_dim, compositionality='additive', var_x=var_x, var_comp=var_comp,\n",
    "                                      n_particles=n_particle, compute_score=False)            \n",
    "        seq = _model.fit(T, obs_mask=obs_mask.copy(), max_iter=max_iter, givenR=R.copy())\n",
    "#             b.append(np.dot(_model.E[0][0], _model.E[0][1]))\n",
    "        b.append(cosine(_model.E[0][0], _model.E[0][1]))            \n",
    "    elif model == 'bcomp_mul':\n",
    "        _model = PFBayesianCompRescal(n_dim, compositionality='multiplicative', var_x=var_x, var_comp=var_comp,\n",
    "                                      n_particles=n_particle, compute_score=False)            \n",
    "        seq = _model.fit(T, obs_mask=obs_mask.copy(), max_iter=max_iter, givenR=R.copy())\n",
    "#             c.append(np.dot(_model.E[0][0], _model.E[0][1]))\n",
    "        c.append(cosine(_model.E[0][0], _model.E[0][1]))            \n",
    "print(np.mean(a), np.std(a))\n",
    "print(np.mean(b), np.std(b))\n",
    "print(np.mean(c), np.std(c))"
   ]
  },
  {
   "cell_type": "code",
   "execution_count": 7,
   "metadata": {
    "collapsed": false
   },
   "outputs": [
    {
     "data": {
      "text/plain": [
       "array([[-0.40896548,  0.19702305,  0.94169044, -0.54650052,  0.46177452],\n",
       "       [ 0.36603789, -0.45616926,  0.92168406, -0.03925254, -0.40669579],\n",
       "       [ 0.15098962, -0.12414308,  0.30450357,  0.11368613,  0.08066247],\n",
       "       [-0.18090938,  0.05599377,  0.31771374, -0.07433239, -0.07379061],\n",
       "       [-0.76129659,  1.1224935 ,  0.22369968, -0.54502888,  0.67338503]])"
      ]
     },
     "execution_count": 7,
     "metadata": {},
     "output_type": "execute_result"
    }
   ],
   "source": [
    "_model.E[0]"
   ]
  },
  {
   "cell_type": "code",
   "execution_count": 14,
   "metadata": {
    "collapsed": false
   },
   "outputs": [
    {
     "name": "stdout",
     "output_type": "stream",
     "text": [
      "0 0 1.0\n",
      "0 1 0.312912278247\n",
      "0 2 0.357596852474\n",
      "0 3 0.80241255235\n",
      "0 4 0.656827876795\n",
      "1 0 0.312912278247\n",
      "1 1 1.0\n",
      "1 2 0.78609699552\n",
      "1 3 0.522247802248\n",
      "1 4 -0.441958340228\n",
      "2 0 0.357596852474\n",
      "2 1 0.78609699552\n",
      "2 2 1.0\n",
      "2 3 0.322517085896\n",
      "2 4 -0.30763103656\n",
      "3 0 0.80241255235\n",
      "3 1 0.522247802248\n",
      "3 2 0.322517085896\n",
      "3 3 1.0\n",
      "3 4 0.420217889617\n",
      "4 0 0.656827876795\n",
      "4 1 -0.441958340228\n",
      "4 2 -0.30763103656\n",
      "4 3 0.420217889617\n",
      "4 4 1.0\n"
     ]
    }
   ],
   "source": [
    "E = _model.E[0]\n",
    "for i in range(5):\n",
    "    for j in range(5):\n",
    "        a = 1 - cosine(E[i], E[j])\n",
    "        print(i,j,a)"
   ]
  },
  {
   "cell_type": "code",
   "execution_count": 15,
   "metadata": {
    "collapsed": false
   },
   "outputs": [
    {
     "data": {
      "text/plain": [
       "array([[ 0.,  0.,  1.,  0.,  0.],\n",
       "       [ 0.,  0.,  0.,  1.,  0.],\n",
       "       [ 0.,  0.,  0.,  0.,  0.],\n",
       "       [ 0.,  0.,  0.,  0.,  0.],\n",
       "       [ 0.,  0.,  0.,  0.,  0.]])"
      ]
     },
     "execution_count": 15,
     "metadata": {},
     "output_type": "execute_result"
    }
   ],
   "source": [
    "T[0]"
   ]
  },
  {
   "cell_type": "code",
   "execution_count": 16,
   "metadata": {
    "collapsed": false
   },
   "outputs": [
    {
     "data": {
      "text/plain": [
       "array([[ 0.,  0.,  0.,  0.,  0.],\n",
       "       [ 0.,  0.,  0.,  0.,  0.],\n",
       "       [ 0.,  0.,  0.,  0.,  1.],\n",
       "       [ 0.,  0.,  0.,  0.,  1.],\n",
       "       [ 0.,  0.,  0.,  0.,  0.]])"
      ]
     },
     "execution_count": 16,
     "metadata": {},
     "output_type": "execute_result"
    }
   ],
   "source": [
    "T[1]"
   ]
  },
  {
   "cell_type": "code",
   "execution_count": null,
   "metadata": {
    "collapsed": true
   },
   "outputs": [],
   "source": []
  }
 ],
 "metadata": {
  "kernelspec": {
   "display_name": "Python 3",
   "language": "python",
   "name": "python3"
  },
  "language_info": {
   "codemirror_mode": {
    "name": "ipython",
    "version": 3
   },
   "file_extension": ".py",
   "mimetype": "text/x-python",
   "name": "python",
   "nbconvert_exporter": "python",
   "pygments_lexer": "ipython3",
   "version": "3.4.3"
  }
 },
 "nbformat": 4,
 "nbformat_minor": 0
}
